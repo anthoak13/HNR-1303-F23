{
  "nbformat": 4,
  "nbformat_minor": 0,
  "metadata": {
    "colab": {
      "provenance": [],
      "authorship_tag": "ABX9TyNUIHG2t1mZHGrlZO2roSZs"
    },
    "kernelspec": {
      "name": "python3",
      "display_name": "Python 3"
    },
    "language_info": {
      "name": "python"
    }
  },
  "cells": [
    {
      "cell_type": "markdown",
      "source": [
        "# Unit 4 Groups\n",
        "\n",
        "\n",
        "Group Number | Names\n",
        "--- | ---\n",
        "1 | Elijah and Marianna\n",
        "2 | Clara and Luke\n",
        "3 | Ava P. and Angelica\n",
        "4 | Ava C. and Emma\n",
        "5 | Sara and Chloe\n",
        "6 | Ben and Eliana\n",
        "7 | Caroline, Bethany, and Lily-Grace\n",
        "8 | Julianna and Audrey\n"
      ],
      "metadata": {
        "id": "6OUnjAH9pYUx"
      }
    },
    {
      "cell_type": "code",
      "source": [],
      "metadata": {
        "id": "yOe1LjrbpbhT"
      },
      "execution_count": null,
      "outputs": []
    }
  ]
}