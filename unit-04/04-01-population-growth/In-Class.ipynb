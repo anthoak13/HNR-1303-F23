{
  "cells": [
    {
      "cell_type": "markdown",
      "metadata": {
        "id": "6OUnjAH9pYUx"
      },
      "source": [
        "# Unit 4 Groups\n",
        "\n",
        "\n",
        "Group Number | Names\n",
        "--- | ---\n",
        "1 | Elijah and Marianna\n",
        "2 | Clara and Luke\n",
        "3 | Ava P. and Angelica\n",
        "4 | Ava C. and Emma\n",
        "5 | Sara and Chloe\n",
        "6 | Ben and Eliana\n",
        "7 | Caroline, Bethany, and Lily-Grace\n",
        "8 | Julianna and Audrey\n"
      ]
    },
    {
      "cell_type": "markdown",
      "metadata": {},
      "source": [
        "## Unit 3 debrief\n",
        "In groups, look over your assigned section of the assesment (A, B, or C). **For each excersize in that section**:\n",
        " \n",
        " - Map the exercise to one or more  of the learning goals in the syllabus (which learning goal is it trying to asses?). \n",
        " - Answer the question, \"Why was the exercise in this level rather than one of the other two?\""
      ]
    },
    {
      "cell_type": "markdown",
      "metadata": {},
      "source": [
        "## Dynamic models (copied from your day's notebook)\n",
        "The fundamental idea behind dynamic models is:\n",
        "\n",
        "$$\\mathrm{future\\ value} = \\mathrm{value\\ now} + \\mathrm{its\\ change}$$\n",
        "\n",
        "Often a model includes *approximations* (or constraints). And often a model is used to make predictions which are compared to experimental measurements. When a model predicts experimental measurements, it gives us confidence that we understand the theory behind the model.\n",
        "\n",
        "The model oftens describes the rate of change in a value. In this case, the *change* in a value is its *rate of change* times a time interval.\n",
        "\n",
        "$$\\mathrm{change} = \\mathrm{(rate\\ of\\ change)*(time\\ interval)}$$\n",
        "\n",
        "Putting this together, we have\n",
        "\n",
        "$$\\mathrm{future\\ value} = \\mathrm{value\\ now} + \\mathrm{(rate\\ of\\ change)*(time\\ interval)}$$\n"
      ]
    },
    {
      "cell_type": "markdown",
      "metadata": {},
      "source": [
        "### Example\n",
        "Projectile motion"
      ]
    },
    {
      "cell_type": "markdown",
      "metadata": {},
      "source": []
    }
  ],
  "metadata": {
    "colab": {
      "authorship_tag": "ABX9TyNUIHG2t1mZHGrlZO2roSZs",
      "provenance": []
    },
    "kernelspec": {
      "display_name": "Python 3",
      "name": "python3"
    },
    "language_info": {
      "name": "python"
    }
  },
  "nbformat": 4,
  "nbformat_minor": 0
}
