{
 "cells": [
  {
   "cell_type": "markdown",
   "metadata": {},
   "source": [
    "# Unit 4 Assessment - Dynamic Models\n",
    "\n",
    "## Instructions\n",
    "\n",
    "In this assessment, you are going to develop and interpret dynamic models.\n",
    "\n",
    "Scores are determined by:\n",
    "\n",
    "- Successfully starting the C Level = 50 pts\n",
    "- Perfectly completing the C Level = 75 pts\n",
    "- Perfectly completing the B and C Levels = 85 pts\n",
    "- Perfectly completing the A, B, and C Levels = 100 pts\n",
    "\n",
    "You may use your Colab notebooks, our textbook, my notebook solutions, and any links to web sites I provide. (You may not use any other person or web site or book or resource, in general. This includes any discussion with classmates or other people on the subject matter.) **You should only make a single copy of this assessment**, and then edit just that copy. \n",
    "\n",
    "You may ask me for help **once**; however, you may ask for clarification as often as needed.\n",
    "\n",
    "Add additional cells for both code and markdown as needed. **Write answers to questions in narrative form in markdown.** You may print values you need in your code, and then use these values in a written response. All answers should be in the form of markdown or graphs. **Show all your work.** Calculations should be done in code cells instead of on a calculator.\n",
    "\n",
    "All graphs should have correct titles and axis labels (with units).\n",
    "\n",
    "The assesment is due at 8pm 11/6/23 and should be worked on in-class, or in Dr. Anthony's office area.\n",
    "\n",
    "## Grade\n",
    "\n",
    "Level | Grade | Comment\n",
    "--- | --- | ---\n",
    "C (75 pts) | | \n",
    "B (10 pts) | | \n",
    "A (15 pts) | | \n",
    "Total | \n"
   ]
  },
  {
   "cell_type": "markdown",
   "metadata": {},
   "source": [
    "# Level C\n",
    "\n",
    "## Exercise 0\n",
    "\n",
    "1. Save a copy of this notebook to Google Drive. Have you already shared your Google Colabortory folder with \"hpuphysicsdepartment@gmail.com\"? If not, then be sure to share your folder.\n",
    "\n",
    "2. Add a text cell above and type your name as a level one heading in markdown. (A level one heading starts with # on its own line.)\n",
    "\n",
    "3. Run the `import` statements below to add packages."
   ]
  },
  {
   "cell_type": "code",
   "execution_count": 13,
   "metadata": {},
   "outputs": [],
   "source": [
    "import numpy as np\n",
    "import matplotlib.pyplot as plt"
   ]
  },
  {
   "cell_type": "markdown",
   "metadata": {},
   "source": [
    "## Exercise 1\n",
    "\n",
    "Populations rarely grow unconstrained. Almost always there is some environmental factor that limits the maximum number of individuals in a population. As we've seen, the simplest way to model this is the introduction of a carrying capacity, $M$. Given a population with $P$ individuals, the rate of change of the population with a carrying capacity $M$ is given by:\n",
    "\n",
    "$$ rate = \\dot{P} = rP - r\\left(\\frac{P}{M}\\right)P$$\n",
    "\n",
    "where $r$ is the growth rate.\n",
    "\n",
    "What is the rate of change when $P=M$? Why does this make sense in the context of population growth?\n",
    "\n",
    "What is the rate of change when $P$ is much smaller than $M$ (by much smaller I mean that $\\frac{P}{M} \\approx 0$)? Why does this make sense in the context of population growth?"
   ]
  },
  {
   "cell_type": "markdown",
   "metadata": {},
   "source": [
    "## Exercise 2\n",
    "Suppose we have a petri dish that initially contains a single cell. That cell is allowed to reproduce until the population plateaus. The carrying capacity for this population is 5000 cells, and the growth rate is $r = 0.7$ in units of 1/hours.\n",
    "\n",
    "Compute and graph $P$ as a function of time for 24 hours. Use a timestep of one minute (recalling there are 60 minutes in an hour). What is the population after 15 hours?"
   ]
  },
  {
   "cell_type": "markdown",
   "metadata": {},
   "source": [
    "## Exercise 3\n",
    "\n",
    "What is the population expressed as a percentage of the carrying capacity after 15 hours?"
   ]
  },
  {
   "cell_type": "markdown",
   "metadata": {},
   "source": [
    "# Level B\n",
    "\n",
    "## Exercise 1\n",
    "\n",
    "Your 22-year-old friend Eric just graduated from HPU and is trying to repay his student loans and plan for retirement. He has asked for your help determining how best to spend his money. With his new job, he has a budget of \\$1000 a month to split between repaying his loans and saving for retirement. He has proposed two options to you:\n",
    "\n",
    "**Option A**\n",
    "\n",
    "Make the minimum monthly payments on his loan (\\$275 per month) and put the rest of his budget in his retirement account. Once the loan is fully repaid, he will put his entire budget in his retirement account.\n",
    "\n",
    "**Option B**\n",
    "\n",
    "Spend his entire budget each month on his loans until he pays them off (a payment of \\$1000 per month). Once the loan is fully repaid, he will put his entire budget in his retirement account.\n",
    "\n",
    "He gives you the following details: His student loans total \\$52,350 loan ([the average for a HPU graduate in 2020](https://ticas.org/wp-content/uploads/2021/11/Student-Debt-for-College-Graduates-in-North-Carolina.pdf) according to [Project on Student Debt](https://ticas.org/our-work/student-debt/) ran by [The Institute for College Access and Success](https://ticas.org/about-us/)). The loans have a fixed interest rate of 5.5% APR (the [current subsedized rate for federal student loans](https://studentaid.gov/understand-aid/types/loans/interest-rates)) and a minimum monthly payment of \\$275. He wants you to assume that he will retire at 65 and the average yearly return for his retirement account will be 7%.\n",
    "\n",
    "**Which option do you recommend if Eric wants to maximize the amount of money he has in his retirement account at the age of 65?**\n",
    "\n",
    "Hint: This is really two problem in one. The first problem asks the question: \"How long does it take to pay off the student loans?\" The second problem asks the question: \"How much money is in the retirement account at age 65 given the different amount of money being contribute before and after his loans are repaid?\"\n",
    "\n"
   ]
  },
  {
   "cell_type": "markdown",
   "metadata": {},
   "source": [
    "# Level A\n",
    "\n",
    "\n",
    "\n"
   ]
  },
  {
   "cell_type": "markdown",
   "metadata": {},
   "source": [
    "Carbon dating is a scientific process used to estimate the age of organic material by examining the amount of radioactive carbon-14 that still exists in the sample of organic material. The half-life (or amount of time it takes for 50% of a sample of $^{14}\\text{C}$ to decay into a different isotope) is about 5,730 years. This fundamentally limits the age at which we can date a sample of organic material; however, using other radioactive isotopes we can use a similar method to date other things. We will use a similar method to estimate the age of the earth.\n",
    "\n",
    "There are three isotopes of uranium that are found naturally on earth, $^{238}\\text{U}$, $^{235}\\text{U}$, and $^{234}\\text{U}$. A sample of natural uranium is composed of 99.27% $^{238}\\text{U}$, 0.72% $^{235}\\text{U}$, and 0.0054% $^{234}\\text{U}$. We will ignore the $^{234}\\text{U}$ and assume that all uranium that is not $^{238}\\text{U}$ is $^{235}\\text{U}$.\n"
   ]
  },
  {
   "cell_type": "markdown",
   "metadata": {},
   "source": [
    "\n",
    "If $Q$ represents the number of undecayed radioactive atoms, a collection of radioactive atoms will decay with the following rate:\n",
    "\n",
    "$$rate = \\dot{Q} = -rQ$$\n",
    "\n",
    "where $r$ is the decay rate and has units of $\\frac{1}{\\text{years}}$.  The decay rate for all three isotopes of uranium are given in the table below:\n",
    "\n",
    "|Isotope | decay rate ($\\text{years}^{-1}$)|\n",
    "|---|---|\n",
    "|$^{238}\\text{U}$ |$r_{238} = 1.55\\times10^{-10}$|\n",
    "|$^{235}\\text{U}$ |$r_{235} = 9.85\\times10^{-10}$|\n",
    "|$^{234}\\text{U}$ |$r_{234} = 2.82\\times10^{-6}$|\n",
    "\n"
   ]
  },
  {
   "cell_type": "markdown",
   "metadata": {},
   "source": [
    "## Exercise 1\n",
    "\n",
    "Assume there are initially 100 atoms of $^{238}\\text{U}$ in a sample. Calculate and plot the number of $^{238}\\text{U}$ atoms in the sample over 10 billion years. Use a timestep of ten thousand years in your calculation.\n",
    "\n",
    "Then, to your code calculate and plot (on the same set of axes) the number of  $^{235}\\text{U}$ atoms in the sample over 10 billion years assuming you also start with 100 atoms of $^{235}\\text{U}$."
   ]
  },
  {
   "cell_type": "markdown",
   "metadata": {},
   "source": [
    "## Exercise 2\n",
    "\n",
    "Copy your code from the previous exercise. Modify the code to plot as a function of time the ratio of the number of atoms of $^{238}\\text{U}$ to the total number of uranium atoms left, both $^{238}\\text{U}$ and $^{235}\\text{U}$. That is, plot:\n",
    "\n",
    "$$ R = \\frac{Q_{238}}{Q_{238} + Q_{235}}$$\n",
    "where $Q_{238}$ is the number of $^{238}\\text{U}$ atoms left, $Q_{235}$ is the number of $^{235}\\text{U}$ atoms left, and $R$ is the ratio of $^{238}\\text{U}$ atoms to all U atoms."
   ]
  },
  {
   "cell_type": "markdown",
   "metadata": {},
   "source": [
    "## Exercise 3\n",
    "\n",
    "We now have all the information we need to estimate the age of the earth. Assume that when the material that coalesced into the earth was initially produced, all isotopes of uranium were equally likely to be produced. That is, when the earth was formed there were an equal number of $^{238}\\text{U}$ and $^{235}\\text{U}$ atoms. Using your model and the assumptions we have made, answer the following questions in a new markdown cell:\n",
    "\n",
    "1. When the earth formed, what is the value of $R$ (see Exercise 2 for the definition)?\n",
    "1. What is the value of $R$ now?\n",
    "1. Using your calculation for $R$ over time (Exercise 2), how long does it take for $R$ to reach the value it has today? This is our estimate for the age of the earth. You can either estimate this from your graph (you will probably have to zoom in) or calculate it by copying and modifying your code.\n",
    "1. Compare your estimate for the age of the earth to the accepted estimate of $4.54 \\pm 0.05$ billion years. Is your calculation consistent with the accepted estimate? \n"
   ]
  },
  {
   "cell_type": "markdown",
   "metadata": {},
   "source": [
    "## Exercise 4\n",
    "\n",
    "If you did not complete Exercises 2 and 3, then skip the rest of the exercises in Level A.\n",
    "\n",
    "What assumptions did we make that could be inaccurate and affect our calculation? Describe in words how you could modify the model to break or change one of those assumptions.\n"
   ]
  },
  {
   "cell_type": "markdown",
   "metadata": {},
   "source": [
    "## Exercise 5 - Extra Credit\n",
    "\n",
    "Copy your code from Exercise 2. Modify your model to break the assumption you identified in the previous exercise and (if possible) tune your model so your calculated age of the earth is consistent with the accepted value. "
   ]
  },
  {
   "cell_type": "code",
   "execution_count": null,
   "metadata": {},
   "outputs": [],
   "source": []
  }
 ],
 "metadata": {
  "kernelspec": {
   "display_name": "Python 3",
   "language": "python",
   "name": "python3"
  },
  "language_info": {
   "codemirror_mode": {
    "name": "ipython",
    "version": 3
   },
   "file_extension": ".py",
   "mimetype": "text/x-python",
   "name": "python",
   "nbconvert_exporter": "python",
   "pygments_lexer": "ipython3",
   "version": "3.10.12"
  }
 },
 "nbformat": 4,
 "nbformat_minor": 4
}
