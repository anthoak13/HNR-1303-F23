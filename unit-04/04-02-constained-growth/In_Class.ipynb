{
  "nbformat": 4,
  "nbformat_minor": 0,
  "metadata": {
    "colab": {
      "provenance": [],
      "authorship_tag": "ABX9TyNFIFxmdtoiQXTvZvaTrOXo"
    },
    "kernelspec": {
      "name": "python3",
      "display_name": "Python 3"
    },
    "language_info": {
      "name": "python"
    }
  },
  "cells": [
    {
      "cell_type": "markdown",
      "source": [
        "## Administrative updates\n",
        "- Office hours canceled today (email me and we can find a time to meet)\n",
        "- Weekly reflection assignment is longer than normal\n",
        "- Group shakeup\n",
        "\n",
        "Group Number | Names\n",
        "--- | ---\n",
        "1 | Elijah and Marianna\n",
        "2 | Clara and Luke\n",
        "3 | Ava P. and Chloe\n",
        "4 | Ava C. and Emma\n",
        "5 | Sara and Angelica\n",
        "6 | Ben and Eliana\n",
        "7 | Caroline, Bethany, and Lily-Grace\n",
        "8 | Julianna and Audrey\n",
        "\n",
        "\n",
        "## Structure of a dynamic model\n",
        "Using the strucutre for a Monte-Carlo model we [developed in Unit 2](https://github.com/anthoak13/HNR-1303-F23/blob/main/unit-02/02-03-random-walk/02-03-in-class.ipynb) as a guide, in your groups write out the structure for constructing a dynamic model based on your experiences yesterday."
      ],
      "metadata": {
        "id": "GUHh4nAmb46d"
      }
    },
    {
      "cell_type": "code",
      "execution_count": null,
      "metadata": {
        "id": "VWwtxAI-bzOG"
      },
      "outputs": [],
      "source": []
    }
  ]
}