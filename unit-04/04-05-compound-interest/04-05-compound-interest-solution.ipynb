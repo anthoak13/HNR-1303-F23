{
 "cells": [
  {
   "cell_type": "code",
   "execution_count": null,
   "metadata": {},
   "outputs": [],
   "source": [
    "import numpy as np\n",
    "import matplotlib.pyplot as plt"
   ]
  },
  {
   "cell_type": "markdown",
   "metadata": {},
   "source": [
    "# Compounding Interest"
   ]
  },
  {
   "cell_type": "markdown",
   "metadata": {},
   "source": [
    "The interest on an investment or a debt is proportional to the amount of money invested or owed and the interest rate. Mathematically, this is similar to population growth. In this notebook, you will calculate the value of an investement with compounded interest and the principal paid on a debt with compounded interest."
   ]
  },
  {
   "cell_type": "markdown",
   "metadata": {},
   "source": [
    "# Investment"
   ]
  },
  {
   "cell_type": "markdown",
   "metadata": {},
   "source": [
    "Suppose you invest $1,000 that earns 7% interest per year, compounded (i.e. computed) daily.\n",
    "\n",
    "1. How much interest (in %) do you earn after the one day assumer there are 365 days in a year? \n",
    "2. How much (total) money do you have in this investment after one day?\n",
    "\n",
    "Do your calculation below for one day only. A loop is not necessary."
   ]
  },
  {
   "cell_type": "code",
   "execution_count": null,
   "metadata": {},
   "outputs": [
    {
     "name": "stdout",
     "output_type": "stream",
     "text": [
      "0.019178082191780823 1000.1917808219179\n"
     ]
    }
   ],
   "source": [
    "r = .07/365 # rate per day\n",
    "P = 1000\n",
    "P = P*r + P\n",
    "print(r*100,P)"
   ]
  },
  {
   "cell_type": "markdown",
   "metadata": {},
   "source": [
    "1. You earn 0.019% intrest each day\n",
    "2. After one day you have \\$1000.19"
   ]
  },
  {
   "cell_type": "markdown",
   "metadata": {},
   "source": [
    "Suppose our goal is to calculate how much your investment (in the previous question) is worth after one year? Describe *how* you have to solve the problem below. A calculation is not necessary."
   ]
  },
  {
   "cell_type": "markdown",
   "metadata": {},
   "source": [
    "We would calculate the amount if intrest earned each day (like above). This would be done in a loop, where each iteration of the loop represents one day (i.e. our `dt = 1 day`). In the loop we would also update the current value of the invesment."
   ]
  },
  {
   "cell_type": "markdown",
   "metadata": {},
   "source": [
    "### Background"
   ]
  },
  {
   "cell_type": "markdown",
   "metadata": {},
   "source": [
    "Let's use the variable $P$ for the value of your investment and $r$ for the interest rate. At $t=0$, you invest $P=1000$ dollars. The rate of change in the value of your investment in a time interval $\\Delta t$ is:\n",
    "\n",
    "$$\\text{rate of change} = \\dot{P} = \\frac{\\Delta P}{\\Delta t} = rP$$\n",
    "\n",
    "The quantity $rP$ is the money you earn from interest per day (or per unit of time being used). After a time interval $\\Delta t$, the value of your investment is\n",
    "\n",
    "$$P=P+\\dot{P}\\Delta t$$\n",
    "\n",
    "This is called *compound interest* because the money earned from interest becomes part of the investment. So, as $P$ increases, the amount of money you earn from interest $\\Delta P$ also increases because it is proportional to $P$.\n",
    "\n",
    "The interest earned is the change in the value of your investment, $\\Delta P$. So,\n",
    "\n",
    "$$\\mathrm{INT} = \\dot{P}\\Delta t$$\n"
   ]
  },
  {
   "cell_type": "markdown",
   "metadata": {},
   "source": [
    "### Interest Rate"
   ]
  },
  {
   "cell_type": "markdown",
   "metadata": {},
   "source": [
    "The growth rate $r$ is the interest rate and has units of $1/time$. Interest is computed (or *compounded*) after a certain time interval. Perhaps it is daily, monthly, or annually. Or, it can be computed *continuously* which  means that $\\Delta t$ is very, very small. (A second, an hour, or a day might be small enough to be considered *continuous*, depending on the total time you are considering.)\n",
    "\n",
    "Sometimes an interest rate is reported *annually* (in the nomenclature this is the **APR** or annual percentage rate) but the interest is computed *continuously*. In this case, the interest rate must be converted to the unit $1/time$ where $time$ is the unit used by in $\\Delta t$. For example, if $\\Delta t$ is one day, then the interest rate must be converted to a unit of $1/day$."
   ]
  },
  {
   "cell_type": "markdown",
   "metadata": {},
   "source": [
    "### Example"
   ]
  },
  {
   "cell_type": "markdown",
   "metadata": {},
   "source": [
    "Suppose you invest $1,000 that earns 7% interest per year, compounded (i.e. computed) daily.\n",
    "\n",
    "1. How much (total) money do you have in this investment after one year?\n",
    "2. How much total interest did you earn after one year?\n"
   ]
  },
  {
   "cell_type": "code",
   "execution_count": null,
   "metadata": {
    "nbgrader": {
     "grade": true,
     "grade_id": "Ex_1_ans",
     "locked": false,
     "points": 1,
     "schema_version": 3,
     "solution": true,
     "task": false
    }
   },
   "outputs": [
    {
     "name": "stdout",
     "output_type": "stream",
     "text": [
      "After t = 365 days, P = $1072.50 and the total interest earned = $72.50.\n"
     ]
    }
   ],
   "source": [
    "P = 1000 # value\n",
    "r = 0.07/365 #APR on a per day basis\n",
    "dt = 1 #day\n",
    "t = 0\n",
    "I = 0 # interest earned\n",
    "\n",
    "while t < 365:\n",
    "    rate = r*P\n",
    "    P = P + rate*dt\n",
    "    \n",
    "    INT = rate*dt #interest earned in one day\n",
    "    I = I + INT #total interest\n",
    "    t = t + dt\n",
    "\n",
    "print(\"After t = {:.0f} days, P = ${:.2f} and the total interest earned = ${:.2f}.\".format(t, P, I))\n",
    "    "
   ]
  },
  {
   "cell_type": "markdown",
   "metadata": {},
   "source": [
    "The long-term return of the stock market, as measured by the S&P 500 index from 1957-2022 is about 10.15%. For the 20 years ending in 2022 the average annual return of the S&P 500 is 8.19%. ([source](https://www.investopedia.com/ask/answers/042415/what-average-annual-return-sp-500.asp))\n",
    "\n",
    "In our examples below, I'll generally assume a 7% annual interest rate."
   ]
  },
  {
   "cell_type": "markdown",
   "metadata": {},
   "source": [
    "## Exercise 1"
   ]
  },
  {
   "cell_type": "markdown",
   "metadata": {},
   "source": [
    "College Student A invests $\\$1,000$ on her 20th birthday, and the investment earns 7% for the rest of her life. On her 65th birthday, what is her investment worth? (Assume the investment is compounded daily.) The invesment is worth \\$23329.02 and the annual return is \\$496.20.\n",
    "\n",
    "If College Student B invests $\\$1,000$ on her 30th birthday and the investment earns 7% for the rest of her life, what is her investment worth on her 65th birthday? (Assume the investment is compounded daily.) The invesment is worth \\$11585.62 and the annual return is \\$302.45.\n",
    "\n",
    "Inversint ten years earlier almost doubles the value of the invesment."
   ]
  },
  {
   "cell_type": "code",
   "execution_count": null,
   "metadata": {
    "nbgrader": {
     "grade": true,
     "grade_id": "Ex_2_ans",
     "locked": false,
     "points": 1,
     "schema_version": 3,
     "solution": true,
     "task": false
    }
   },
   "outputs": [
    {
     "name": "stdout",
     "output_type": "stream",
     "text": [
      "At t = 65 years old the invesment is worth, P = $11585.62 and the total interest earned = $10585.62.\n",
      "The average annual return is 302.44642626241654\n"
     ]
    }
   ],
   "source": [
    "P = 1000 # value\n",
    "r = 0.07 #APR on a per year basis\n",
    "dt = 1/365 # years\n",
    "t = 30 # age\n",
    "I = 0 # interest earned\n",
    "\n",
    "while t < 65:\n",
    "    rate = r*P\n",
    "    P = P + rate*dt\n",
    "    \n",
    "    INT = rate*dt #interest earned in one day\n",
    "    I = I + INT #total interest\n",
    "    t = t + dt\n",
    "\n",
    "print(\"At t = {:.0f} years old the invesment is worth, P = ${:.2f} and the total interest earned = ${:.2f}.\".format(t, P, I))\n",
    "print(f\"The average annual return is {I/35}\")\n",
    "    "
   ]
  },
  {
   "cell_type": "markdown",
   "metadata": {},
   "source": [
    "1. What was the average annual return on the investment for each student? The average annual return is the total ammount earned divided by the total number of years.\n",
    "1. Comment on the extra value obtained by investing 10 years earlier?"
   ]
  },
  {
   "cell_type": "markdown",
   "metadata": {},
   "source": [
    "## Annual Contributions to an Investment"
   ]
  },
  {
   "cell_type": "markdown",
   "metadata": {},
   "source": [
    "An investment goal is typically to add a constant amount to your investment every month or every year. This is the concept behind *saving*, of course. \n",
    "\n",
    "A good example is a **Roth IRA** where you can invest up to $\\$6,500$ per year (*after paying taxes*) and then withdraw the investment, including interest, after retirement and not pay taxes on the interest. The ultimate benefit is obtained if you invest $\\$6,500$ per year.\n",
    "\n",
    "How can we include this in our calculation? In our loop, *after each year*, we have to add a constant 6500 to our investment. This means we will need a *conditional*, `if` statement, in our loop to check whether a year has elapsed.\n",
    "\n",
    "There are many ways to check that a year has elapsed. I'll show you one way using a *loop counter*. \n",
    "\n",
    "Let's assume a college student invests  $\\$6,500$ into a Roth IRA on her 20th birthday, and the investment earns 7% for the rest of her life. On every birthday, she adds another $\\$6,500$ to her investment. What is her investment worth on her 65th birthday?"
   ]
  },
  {
   "cell_type": "code",
   "execution_count": null,
   "metadata": {},
   "outputs": [
    {
     "name": "stdout",
     "output_type": "stream",
     "text": [
      "After t = 45 years, P = $2142184.12 and the total interest earned = $1849684.12.\n"
     ]
    },
    {
     "data": {
      "image/png": "[encoded data removed]",
      "text/plain": [
       "<Figure size 640x480 with 1 Axes>"
      ]
     },
     "metadata": {},
     "output_type": "display_data"
    }
   ],
   "source": [
    "P = 6500\n",
    "r = 0.07/365 #APR on a per day basis\n",
    "dt = 1 #day\n",
    "t = 0\n",
    "I = 0\n",
    "years = 65-20 # Total number of years we are investing\n",
    "\n",
    "tdata = []\n",
    "Pdata = []\n",
    "\n",
    "day = 0\n",
    "\n",
    "while t < years*365:\n",
    "    rate = r*P\n",
    "    P = P + rate*dt\n",
    "    \n",
    "    INT = rate*dt #interest earned in one day\n",
    "    I = I + INT #total interest\n",
    "    \n",
    "    t = t + dt\n",
    "    tyears = t /365 # calculate the number of years that have passed\n",
    "\n",
    "    day = day + 1 #update the day number in a year\n",
    "    \n",
    "    if(day>365): \n",
    "        day = 0 #reset day to 0\n",
    "        P = P + 6500 #add 6500 to the investment\n",
    "    \n",
    "    tdata.append(tyears)\n",
    "    Pdata.append(P)\n",
    "\n",
    "print(\"After t = {:.0f} years, P = ${:.2f} and the total interest earned = ${:.2f}.\".format(tyears, P, I))\n",
    "\n",
    "fig = plt.figure()\n",
    "plt.title(\"Investment as a function of time\")\n",
    "plt.xlabel('time (y)')\n",
    "plt.ylabel('principal (US dollar)')\n",
    "plt.plot(tdata, Pdata, 'b-')\n",
    "plt.grid()\n",
    "plt.show()"
   ]
  },
  {
   "cell_type": "markdown",
   "metadata": {},
   "source": [
    "## Exercise 3"
   ]
  },
  {
   "cell_type": "markdown",
   "metadata": {},
   "source": [
    "College Student A invests $\\$6,500$ on her 20th birthday and adds $\\$6,000$ on every birthday until she is 65. The investment earns 7% for the rest of her life. On her 65th birthday, what is her investment worth? (Assume the investment is compounded daily.)\n",
    "\n",
    "College Student B invests $\\$6,500$ on her 30th birthday and adds $\\$6,000$ on every birthday until she is 65. The investment earns 7% for the rest of her life. On her 65th birthday, what is her investment worth? (Assume the investment is compounded daily.)\n",
    "\n",
    "1. How much more did Student A earn?\n",
    "2. How much more did Student A invest?"
   ]
  },
  {
   "cell_type": "code",
   "execution_count": null,
   "metadata": {},
   "outputs": [
    {
     "name": "stdout",
     "output_type": "stream",
     "text": [
      "A earned $ 985604.98 more\n",
      "A invested $ 60000.0 more\n"
     ]
    }
   ],
   "source": [
    "AEarned = 1718565.24\n",
    "AInvested = 1989065.24 - AEarned\n",
    "\n",
    "BEarned = 732960.26\n",
    "BInvested = 943460.26 - BEarned\n",
    "\n",
    "earned = AEarned - BEarned\n",
    "invested = AInvested - BInvested\n",
    "print(f\"A earned $ {earned} more\")\n",
    "print(f\"A invested $ {invested} more\")"
   ]
  },
  {
   "cell_type": "code",
   "execution_count": null,
   "metadata": {
    "nbgrader": {
     "grade": true,
     "grade_id": "Ex_4_ans",
     "locked": false,
     "points": 1,
     "schema_version": 3,
     "solution": true,
     "task": false
    }
   },
   "outputs": [
    {
     "name": "stdout",
     "output_type": "stream",
     "text": [
      "After t = 35 years, P = $943460.26 and the total interest earned = $732960.26.\n"
     ]
    },
    {
     "data": {
      "image/png": "[encoded data removed]",
      "text/plain": [
       "<Figure size 640x480 with 1 Axes>"
      ]
     },
     "metadata": {},
     "output_type": "display_data"
    }
   ],
   "source": [
    "P = 6500\n",
    "r = 0.07/365 #APR on a per day basis\n",
    "dt = 1 #day\n",
    "t = 0\n",
    "I = 0\n",
    "years = 65-30 # Total number of years we are investing\n",
    "\n",
    "tdata = []\n",
    "Pdata = []\n",
    "\n",
    "day = 0\n",
    "\n",
    "while t < years*365:\n",
    "    rate = r*P\n",
    "    P = P + rate*dt\n",
    "    \n",
    "    INT = rate*dt #interest earned in one day\n",
    "    I = I + INT #total interest\n",
    "    \n",
    "    t = t + dt\n",
    "    tyears = t /365 # calculate the number of years that have passed\n",
    "\n",
    "    day = day + 1 #update the day number in a year\n",
    "    \n",
    "    if(day>365): \n",
    "        day = 0 #reset day to 0\n",
    "        P = P + 6000 #add 6000 to the investment\n",
    "    \n",
    "    tdata.append(tyears)\n",
    "    Pdata.append(P)\n",
    "\n",
    "print(\"After t = {:.0f} years, P = ${:.2f} and the total interest earned = ${:.2f}.\".format(tyears, P, I))\n",
    "\n",
    "fig = plt.figure()\n",
    "plt.title(\"Investment as a function of time\")\n",
    "plt.xlabel('time (y)')\n",
    "plt.ylabel('principal (US dollar)')\n",
    "plt.plot(tdata, Pdata, 'b-')\n",
    "plt.grid()\n",
    "plt.show()"
   ]
  },
  {
   "cell_type": "code",
   "execution_count": null,
   "metadata": {},
   "outputs": [],
   "source": []
  },
  {
   "cell_type": "markdown",
   "metadata": {},
   "source": [
    "# Debt"
   ]
  },
  {
   "cell_type": "markdown",
   "metadata": {},
   "source": [
    "Suppose you take out a loan to purchase a house for $\\$200,000$. The interest rate on the debt is compounded monthly at a rate of 5% per year. You pay $\\$1,000$ per month. How long will it be before you pay off the house?"
   ]
  },
  {
   "cell_type": "markdown",
   "metadata": {},
   "source": [
    "### Background"
   ]
  },
  {
   "cell_type": "markdown",
   "metadata": {},
   "source": [
    "The loan amount is called the principal which we will call $P$. The interest you owe is part of the monthly payment. The interest you owe in a time interval $\\Delta t$ is:\n",
    "\n",
    "$$INT = rP\\Delta t$$\n",
    "\n",
    "At the end of each month, you pay principal and interest that sums to your monthly payment, which is \\$1,000 in this example. So the amount of money that goes to principal in a given month is\n",
    "\n",
    "$$\\Delta P = 1000 - INT$$\n",
    "\n",
    "And your new principal after this payment is:\n",
    "\n",
    "$$P=P-\\Delta P$$"
   ]
  },
  {
   "cell_type": "markdown",
   "metadata": {},
   "source": [
    "### Example"
   ]
  },
  {
   "cell_type": "markdown",
   "metadata": {},
   "source": [
    "1. You purchase a home for \\$200,000 at an annual rate of 8% compounded monthly, and your monthly payment is \\$1,000. During the first month, how much do you pay on the principal of the loan, and how much do you pay in interest?\n",
    "2. During the second month, how much do you pay in principal and in interest?"
   ]
  },
  {
   "cell_type": "code",
   "execution_count": null,
   "metadata": {
    "nbgrader": {
     "grade": true,
     "grade_id": "Ex_5_ans",
     "locked": false,
     "points": 1,
     "schema_version": 3,
     "solution": true,
     "task": false
    }
   },
   "outputs": [
    {
     "name": "stdout",
     "output_type": "stream",
     "text": [
      "Interest =  1333.3333333333335 Ppaid =  166.66666666666652 Principal =  199833.33333333334\n",
      "Interest =  1332.2222222222224 Ppaid =  167.7777777777776 Principal =  199665.55555555556\n"
     ]
    }
   ],
   "source": [
    "P = 200000\n",
    "r = 0.08/12 #interest rate on a per month basis\n",
    "dt = 1 #month\n",
    "t = 0\n",
    "\n",
    "INT = r *P*dt #interest paid for one month\n",
    "Ppaid = 1500 - INT\n",
    "P  = P - Ppaid\n",
    "t = t + dt\n",
    "print(\"Interest = \", INT, \"Ppaid = \", Ppaid, \"Principal = \", P)\n",
    "\n",
    "INT = r *P*dt #interest paid for one month\n",
    "Ppaid = 1500 - INT\n",
    "P  = P - Ppaid\n",
    "t = t + dt\n",
    "print(\"Interest = \", INT, \"Ppaid = \", Ppaid, \"Principal = \", P)"
   ]
  },
  {
   "cell_type": "markdown",
   "metadata": {},
   "source": [
    "## Exercise 4"
   ]
  },
  {
   "cell_type": "code",
   "execution_count": null,
   "metadata": {},
   "outputs": [],
   "source": []
  },
  {
   "cell_type": "markdown",
   "metadata": {},
   "source": [
    "Modify the code below to match the home loan described above:\n",
    "\n",
    "1. How long does it take to pay off the loan?\n",
    "2. Plot the interest paid per month as a function of time.\n",
    "3. Plot the principal paid per month as a function of time on the same graph as the interest paid per month.\n",
    "4. How much did your pay for the home?\n",
    "5. How do your answers change if the interest is compounded daily?\n",
    "\n",
    "It takes y off the loan. We paid \\$430917.69 for the home. If we compound the interest daily"
   ]
  },
  {
   "cell_type": "code",
   "execution_count": 2,
   "metadata": {
    "nbgrader": {
     "grade": true,
     "grade_id": "Ex_6_ans",
     "locked": false,
     "points": 1,
     "schema_version": 3,
     "solution": true,
     "task": false
    }
   },
   "outputs": [
    {
     "name": "stdout",
     "output_type": "stream",
     "text": [
      "After t = 13857 months, the principle, P = $-385.55 and the total interest paid = $246614.45.\n"
     ]
    },
    {
     "ename": "NameError",
     "evalue": "name 'plt' is not defined",
     "output_type": "error",
     "traceback": [
      "\u001b[0;31m---------------------------------------------------------------------------\u001b[0m",
      "\u001b[0;31mNameError\u001b[0m                                 Traceback (most recent call last)",
      "\u001b[1;32m/home/adam/FA23/HNR-1303-F23/unit-04/04-05-compound-interest/04-05-compound-interest-solution.ipynb Cell 40\u001b[0m line \u001b[0;36m3\n\u001b[1;32m     <a href='vscode-notebook-cell://wsl%2Bubuntu/home/adam/FA23/HNR-1303-F23/unit-04/04-05-compound-interest/04-05-compound-interest-solution.ipynb#X54sdnNjb2RlLXJlbW90ZQ%3D%3D?line=29'>30</a>\u001b[0m     Idata\u001b[39m.\u001b[39mappend(I)\n\u001b[1;32m     <a href='vscode-notebook-cell://wsl%2Bubuntu/home/adam/FA23/HNR-1303-F23/unit-04/04-05-compound-interest/04-05-compound-interest-solution.ipynb#X54sdnNjb2RlLXJlbW90ZQ%3D%3D?line=31'>32</a>\u001b[0m \u001b[39mprint\u001b[39m(\u001b[39m\"\u001b[39m\u001b[39mAfter t = \u001b[39m\u001b[39m{:.0f}\u001b[39;00m\u001b[39m months, the principle, P = $\u001b[39m\u001b[39m{:.2f}\u001b[39;00m\u001b[39m and the total interest paid = $\u001b[39m\u001b[39m{:.2f}\u001b[39;00m\u001b[39m.\u001b[39m\u001b[39m\"\u001b[39m\u001b[39m.\u001b[39mformat(t, P, I))\n\u001b[0;32m---> <a href='vscode-notebook-cell://wsl%2Bubuntu/home/adam/FA23/HNR-1303-F23/unit-04/04-05-compound-interest/04-05-compound-interest-solution.ipynb#X54sdnNjb2RlLXJlbW90ZQ%3D%3D?line=33'>34</a>\u001b[0m fig \u001b[39m=\u001b[39m plt\u001b[39m.\u001b[39mfigure()\n\u001b[1;32m     <a href='vscode-notebook-cell://wsl%2Bubuntu/home/adam/FA23/HNR-1303-F23/unit-04/04-05-compound-interest/04-05-compound-interest-solution.ipynb#X54sdnNjb2RlLXJlbW90ZQ%3D%3D?line=34'>35</a>\u001b[0m plt\u001b[39m.\u001b[39mtitle(\u001b[39m\"\u001b[39m\u001b[39mPrinciple as a function of time\u001b[39m\u001b[39m\"\u001b[39m)\n\u001b[1;32m     <a href='vscode-notebook-cell://wsl%2Bubuntu/home/adam/FA23/HNR-1303-F23/unit-04/04-05-compound-interest/04-05-compound-interest-solution.ipynb#X54sdnNjb2RlLXJlbW90ZQ%3D%3D?line=35'>36</a>\u001b[0m plt\u001b[39m.\u001b[39mxlabel(\u001b[39m'\u001b[39m\u001b[39mtime (months)\u001b[39m\u001b[39m'\u001b[39m)\n",
      "\u001b[0;31mNameError\u001b[0m: name 'plt' is not defined"
     ]
    }
   ],
   "source": [
    "P = 200000 #Principle\n",
    "r = 0.05/365 #APR on a per month\n",
    "dt = 1 #day\n",
    "t = 0\n",
    "I = 0\n",
    "INT = 0\n",
    "\n",
    "tdata = []\n",
    "Pdata = []\n",
    "Idata = []\n",
    "\n",
    "day = 0\n",
    "while P > 0:\n",
    "    \n",
    "    INT += r *P*dt #interest paid for one month\n",
    "    day = day+1\n",
    "    \n",
    "    if day > 30:\n",
    "        day = 0\n",
    "        Ppaid = 1000 - INT\n",
    "        P  = P - Ppaid\n",
    "        I = I + INT #total interest\n",
    "        INT = 0\n",
    "    \n",
    "    \n",
    "    t = t + dt\n",
    "    \n",
    "    tdata.append(t)\n",
    "    Pdata.append(P)\n",
    "    Idata.append(I)\n",
    "\n",
    "print(\"After t = {:.0f} months, the principle, P = ${:.2f} and the total interest paid = ${:.2f}.\".format(t, P, I))\n",
    "\n",
    "fig = plt.figure()\n",
    "plt.title(\"Principle as a function of time\")\n",
    "plt.xlabel('time (months)')\n",
    "plt.ylabel('principal (US dollar)')\n",
    "plt.plot(tdata, Pdata, 'b-', label=\"Principle\")\n",
    "plt.plot(tdata, Idata, 'm-', label=\"Interest\")\n",
    "plt.grid()\n",
    "plt.legend\n",
    "plt.show()"
   ]
  },
  {
   "cell_type": "markdown",
   "metadata": {},
   "source": [
    "# Exercise 5\n",
    "For a \\$200,000 loan at an annual rate of 8% compounded monthly:\n",
    "\n",
    "1. What should be the payment in order to pay it off in 30 y?"
   ]
  },
  {
   "cell_type": "code",
   "execution_count": null,
   "metadata": {},
   "outputs": [],
   "source": []
  }
 ],
 "metadata": {
  "celltoolbar": "Create Assignment",
  "kernelspec": {
   "display_name": "Python 3",
   "language": "python",
   "name": "python3"
  },
  "language_info": {
   "codemirror_mode": {
    "name": "ipython",
    "version": 3
   },
   "file_extension": ".py",
   "mimetype": "text/x-python",
   "name": "python",
   "nbconvert_exporter": "python",
   "pygments_lexer": "ipython3",
   "version": "3.10.12"
  }
 },
 "nbformat": 4,
 "nbformat_minor": 4
}
