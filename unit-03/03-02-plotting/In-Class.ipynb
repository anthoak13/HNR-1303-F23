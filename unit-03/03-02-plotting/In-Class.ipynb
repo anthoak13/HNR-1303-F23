{
  "nbformat": 4,
  "nbformat_minor": 0,
  "metadata": {
    "colab": {
      "provenance": [],
      "authorship_tag": "ABX9TyNedBLRICSCjC4bz1N5TUFk"
    },
    "kernelspec": {
      "name": "python3",
      "display_name": "Python 3"
    },
    "language_info": {
      "name": "python"
    }
  },
  "cells": [
    {
      "cell_type": "code",
      "execution_count": 2,
      "metadata": {
        "id": "05hvNU6yB_fg"
      },
      "outputs": [],
      "source": [
        "import matplotlib.pyplot as plt\n",
        "import pandas as pd\n",
        "import numpy as np"
      ]
    },
    {
      "cell_type": "markdown",
      "source": [
        "# Review (Functions)\n",
        "\n",
        "## Mathmatical functions\n",
        "\n",
        "$$f(x) = a\\sqrt{x}+bx+cx^2$$\n",
        "\n",
        "What are the parts of a function?\n",
        "\n",
        "\n",
        "## Programing functions\n",
        "How would we implement the above function in python?\n",
        "\n",
        "- Traditional function\n",
        "- Lambda function"
      ],
      "metadata": {
        "id": "jbPi1WLCCCg7"
      }
    },
    {
      "cell_type": "markdown",
      "source": [
        "## Empirical Models"
      ],
      "metadata": {
        "id": "x-mj98EECo1t"
      }
    },
    {
      "cell_type": "markdown",
      "source": [
        "## Pre-class examples"
      ],
      "metadata": {
        "id": "ckWCpdBOCsq_"
      }
    },
    {
      "cell_type": "markdown",
      "source": [
        "# Monte-Carlo Models vs. Emperical Models"
      ],
      "metadata": {
        "id": "6jGoF5qKCztI"
      }
    },
    {
      "cell_type": "markdown",
      "source": [
        "# Plotting in python"
      ],
      "metadata": {
        "id": "kgt3e5W5C5X-"
      }
    },
    {
      "cell_type": "code",
      "source": [
        "xdata = [1,2,3,4]\n",
        "ydata = [1,2,3,4]"
      ],
      "metadata": {
        "id": "KGdWNpi6C4n1"
      },
      "execution_count": null,
      "outputs": []
    }
  ]
}