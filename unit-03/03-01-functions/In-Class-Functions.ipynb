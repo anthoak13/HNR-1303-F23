{
  "nbformat": 4,
  "nbformat_minor": 0,
  "metadata": {
    "colab": {
      "provenance": [],
      "authorship_tag": "ABX9TyOvVfdB0O6HmHuHl4Hb3xrX"
    },
    "kernelspec": {
      "name": "python3",
      "display_name": "Python 3"
    },
    "language_info": {
      "name": "python"
    }
  },
  "cells": [
    {
      "cell_type": "markdown",
      "source": [
        "# Administration\n",
        "\n"
      ],
      "metadata": {
        "id": "dEuRbwnxSyW3"
      }
    },
    {
      "cell_type": "markdown",
      "source": [
        "## Unit 3 Schedule\n",
        "\n",
        "1. Group assesment is given end of class Mon 10/2 and due 10/6 (Friday before Fall Break). Individual assesment is given Fri 10/4 and due 10/6.\n",
        "1. Group assesment is given end of class Mon 10/2 and due Fri 10/6 (Friday before Fall Break). Individual assesment is given Fri 10/16 and due before class 10/18. Wed 10/6 becomes 1st day of unit 4.\n",
        "\n"
      ],
      "metadata": {
        "id": "3kEpM34zTS1u"
      }
    },
    {
      "cell_type": "markdown",
      "source": [
        "## New groups\n",
        "\n",
        "Group Number | Names\n",
        "--- | ---\n",
        "1 | Elijah and Angelica\n",
        "2 | Clara and Lily Grace\n",
        "3 | Emma and Ava P.\n",
        "4 | Bethany and Eliana\n",
        "5 | Caroline, Julianna, and Ben\n",
        "6 | Marianna and Audrey\n",
        "7 | Sara and Ava C.\n",
        "8 | Luke and Chloe\n"
      ],
      "metadata": {
        "id": "2DqeHZoxTQh6"
      }
    },
    {
      "cell_type": "markdown",
      "source": [
        "# Functions\n",
        "\n"
      ],
      "metadata": {
        "id": "6_5bYuCQTLCJ"
      }
    },
    {
      "cell_type": "markdown",
      "source": [
        "- idealization of how a varying quantity depends on another quantity.\n",
        "- a relationship or expression involving one or more variables.\n",
        "- a variable quantity regarded in relation to one or more other variables in terms of which it may be expressed or on which its value depends."
      ],
      "metadata": {
        "id": "-ZL4zxogVLCz"
      }
    },
    {
      "cell_type": "markdown",
      "source": [
        "## Empirical Models"
      ],
      "metadata": {
        "id": "BEFGbGiWVVf5"
      }
    },
    {
      "cell_type": "code",
      "source": [],
      "metadata": {
        "id": "-HL_zVGiVbLv"
      },
      "execution_count": null,
      "outputs": []
    }
  ]
}