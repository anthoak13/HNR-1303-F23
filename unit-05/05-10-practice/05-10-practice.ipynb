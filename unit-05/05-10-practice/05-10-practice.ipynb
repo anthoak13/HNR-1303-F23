{
 "cells": [
  {
   "cell_type": "markdown",
   "metadata": {},
   "source": [
    "# Unit 5 Assessment - Machine Leanring\n",
    "\n",
    "## Instructions\n",
    "\n",
    "In this assessment, you will answer questions about machine learning and interprate the results of machine learning models.\n",
    "\n",
    "Scores are determined by:\n",
    "\n",
    "- Successfully starting the C Level = 50 pts\n",
    "- Perfectly completing the C Level = 75 pts\n",
    "- Perfectly completing the B and C Levels = 85 pts\n",
    "- Perfectly completing the A, B, and C Levels = 100 pts\n",
    "\n",
    "You may use your Colab notebooks, and any links to web sites I provide. (You may not use any other person or web site or book or resource, in general. This includes any discussion with classmates or other people on the subject matter.) **You should only make a single copy of this assessment**, and then edit just that copy. We will discuss this bit and class and may make some changes.\n",
    "\n",
    "You may ask me for help **once**; however, you may ask for clarification as often as needed.\n",
    "\n",
    "Add additional cells for both code and markdown as needed. **Write answers to questions in narrative form in markdown.** You may print values you need in your code, and then use these values in a written response. All answers should be in the form of markdown or graphs. **Show all your work.** Calculations should be done in code cells instead of on a calculator.\n",
    "\n",
    "All graphs should have correct titles and axis labels (with units).\n",
    "\n",
    "The assesment should be worked on only in-class.\n",
    "\n",
    "\n",
    "## Grade\n",
    "\n",
    "Level | Grade | Comment\n",
    "--- | --- | ---\n",
    "C (75 pts) | | \n",
    "B (10 pts) | | \n",
    "A (15 pts) | | \n",
    "Total | \n"
   ]
  },
  {
   "cell_type": "markdown",
   "metadata": {},
   "source": [
    "# Level C\n",
    "\n",
    "## Exercise 0\n",
    "\n",
    "1. Save a copy of this notebook to Google Drive. Have you already shared your Google Colabortory folder with \"hpuphysicsdepartment@gmail.com\"? If not, then be sure to share your folder.\n",
    "\n",
    "2. Add a text cell above and type your name as a level one heading in markdown. (A level one heading starts with # on its own line.)\n",
    "\n",
    "3. Run the `import` statements below to add packages."
   ]
  },
  {
   "cell_type": "code",
   "execution_count": 13,
   "metadata": {},
   "outputs": [],
   "source": [
    "import numpy as np\n",
    "import matplotlib.pyplot as plt"
   ]
  },
  {
   "cell_type": "markdown",
   "metadata": {},
   "source": [
    "## Exercise 1 \n",
    "\n",
    "When we say we are \"training a model\", what does that mean? In other words, what mathmatical process is happening when we are training a model?"
   ]
  },
  {
   "cell_type": "markdown",
   "metadata": {},
   "source": [
    "## Exercise 2\n",
    "\n",
    "In the context of machine learning, what is a cost function? What does it tell us about the model's performace?"
   ]
  },
  {
   "cell_type": "markdown",
   "metadata": {},
   "source": [
    "## Exercise 3\n",
    "\n",
    "In the context of machine learning, what is an activation function? Why is it used in machine learning?"
   ]
  },
  {
   "cell_type": "markdown",
   "metadata": {},
   "source": [
    "## Exercise 4\n",
    "\n",
    "Define \"training set\" and \"validation set\". Describe the purpose of using both a training and a validation set when training and evaluating a model. "
   ]
  },
  {
   "cell_type": "markdown",
   "metadata": {},
   "source": [
    "# Level B\n",
    "\n",
    "## Exercise 1\n",
    "\n",
    "A common cost function is the mean squared error loss (or cost). This is the cost function we have used in class and seen in Sanderson's videos. Suppose we have a neural network with four output neurons. For some input data, the model outputs $\\left[\\frac{1}{3}, 0, \\frac{2}{3}, 1\\right]$. The target (or expected) output is $[0, 0, 0, 1]$. Calculate the value of the mean squared error cost function for this case.\n",
    "\n"
   ]
  },
  {
   "cell_type": "markdown",
   "metadata": {},
   "source": [
    "## Exercise 2\n",
    "\n",
    "What is the value of the MSE cost function if the model is performing perfectly?"
   ]
  },
  {
   "cell_type": "markdown",
   "metadata": {},
   "source": [
    "## Exercise 3\n",
    "\n",
    "What is the expected long term (after many epochs of training) behavior of the cost function evaluated on both the training and validation data sets?"
   ]
  },
  {
   "cell_type": "markdown",
   "metadata": {},
   "source": [
    "# Level A\n",
    "\n",
    "\n",
    "\n"
   ]
  },
  {
   "cell_type": "markdown",
   "metadata": {},
   "source": [
    "## Exercise 1\n",
    "\n",
    "How does the use of the gradient descent (or stochastic gradient descent) method allow us to train a model? "
   ]
  },
  {
   "cell_type": "markdown",
   "metadata": {},
   "source": [
    "## Exercise 2\n",
    "\n",
    "Make a sketch for the cost function as a function of epoch for a model that is being overtrained. Your sketch should include the cost curves for both the validation and training sets."
   ]
  },
  {
   "cell_type": "markdown",
   "metadata": {},
   "source": [
    "## Exercise 3\n",
    "\n",
    "Consider the following graph of a machine learning model being trained. At what epoch should we stop training the model? Why?\n",
    "\n",
    "<img src=\"https://github.com/anthoak13/HNR-1303-F23/blob/main/unit-05/05-10-practice/CostFunction.png?raw=true\" width=\"500\" align=\"center\">"
   ]
  },
  {
   "cell_type": "markdown",
   "metadata": {},
   "source": []
  }
 ],
 "metadata": {
  "kernelspec": {
   "display_name": "Python 3",
   "language": "python",
   "name": "python3"
  },
  "language_info": {
   "codemirror_mode": {
    "name": "ipython",
    "version": 3
   },
   "file_extension": ".py",
   "mimetype": "text/x-python",
   "name": "python",
   "nbconvert_exporter": "python",
   "pygments_lexer": "ipython3",
   "version": "3.10.12"
  }
 },
 "nbformat": 4,
 "nbformat_minor": 4
}
