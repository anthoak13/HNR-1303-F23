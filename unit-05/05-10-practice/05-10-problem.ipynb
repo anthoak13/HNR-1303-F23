{
 "cells": [
  {
   "cell_type": "markdown",
   "metadata": {},
   "source": [
    "# Unit 5 Assessment - Machine Leanring\n",
    "\n",
    "## Instructions\n",
    "\n",
    "In this assessment, you will answer questions about machine learning and interprate the results of machine learning models.\n",
    "\n",
    "Scores are determined by:\n",
    "\n",
    "- Successfully starting the C Level = 50 pts\n",
    "- Perfectly completing the C Level = 75 pts\n",
    "- Perfectly completing the B and C Levels = 85 pts\n",
    "- Perfectly completing the A, B, and C Levels = 100 pts\n",
    "\n",
    "You may use your Colab notebooks, and any links to web sites I provide. (You may not use any other person or web site or book or resource, in general. This includes any discussion with classmates or other people on the subject matter.) **You should only make a single copy of this assessment**, and then edit just that copy.\n",
    "\n",
    "You may ask me for help **once**; however, you may ask for clarification as often as needed.\n",
    "\n",
    "Add additional cells for both code and markdown as needed. **Write answers to questions in narrative form in markdown.** You may print values you need in your code, and then use these values in a written response. All answers should be in the form of markdown or graphs. **Show all your work.** Calculations should be done in code cells instead of on a calculator.\n",
    "\n",
    "All graphs should have correct titles and axis labels (with units).\n",
    "\n",
    "The assesment should be worked on only in-class.\n",
    "\n",
    "\n",
    "## Grade\n",
    "\n",
    "Level | Grade | Comment\n",
    "--- | --- | ---\n",
    "C (75 pts) | | \n",
    "B (10 pts) | | \n",
    "A (15 pts) | | \n",
    "Total | \n"
   ]
  },
  {
   "cell_type": "markdown",
   "metadata": {},
   "source": [
    "# Level C\n",
    "\n",
    "## Exercise 0\n",
    "\n",
    "1. Save a copy of this notebook to Google Drive. Have you already shared your Google Colabortory folder with \"hpuphysicsdepartment@gmail.com\"? If not, then be sure to share your folder.\n",
    "\n",
    "2. Add a text cell above and type your name as a level one heading in markdown. (A level one heading starts with # on its own line.)"
   ]
  },
  {
   "cell_type": "markdown",
   "metadata": {},
   "source": [
    "## Exercise 1 \n",
    "\n",
    "Training a machine learning model is, fundementally, a minimization procedure. What function are we minimizing when we train a model? What are we changing in order to minimize that function?"
   ]
  },
  {
   "cell_type": "markdown",
   "metadata": {},
   "source": []
  },
  {
   "cell_type": "markdown",
   "metadata": {},
   "source": [
    "## Exercise 2\n",
    "\n",
    "In the context of a nueral network, what is a neuron? What defines the connection between two neturons in a network?"
   ]
  },
  {
   "cell_type": "markdown",
   "metadata": {},
   "source": [
    "## Exercise 3\n",
    "\n",
    "In the context of machine learning, what is an epoch? What does it mean to say \"We trained the model for 20 epochs.\"?"
   ]
  },
  {
   "cell_type": "markdown",
   "metadata": {},
   "source": [
    "## Exercise 4\n",
    "\n",
    "Define \"training set\" and \"validation set\". Describe the purpose of using both a training and a validation set when training and evaluating a model. "
   ]
  },
  {
   "cell_type": "markdown",
   "metadata": {},
   "source": [
    "# Level B\n",
    "\n",
    "## Exercise 1\n",
    "\n",
    "A common cost function is the mean squared error loss (or cost). This is the cost function we have used in class and seen in Sanderson's videos. Suppose we have a neural network with three output neurons. For some input data, the model outputs $\\left[\\frac{1}{5}, 0, \\frac{2}{3}\\right]$. The target (or expected) output is $[0, 0, 1]$. Calculate the value of the mean squared error cost function for this case.\n",
    "\n"
   ]
  },
  {
   "cell_type": "markdown",
   "metadata": {},
   "source": [
    "## Exercise 2\n",
    "\n",
    "In unit 3 we examined empirical models. Describe the similarities between empirical models and neural networks. Then list one of the primary ways in which a neural network differs from the types of emperical models we have seen in the past."
   ]
  },
  {
   "cell_type": "markdown",
   "metadata": {},
   "source": [
    "## Exercise 3\n",
    "\n",
    "Suppose you have a model that is over-trained. What would you expected long term (after many epochs of training) behavior of the cost function evaluated on both the training and validation data sets to be? You can either make a sketch, or discribe the behavior in words."
   ]
  },
  {
   "cell_type": "markdown",
   "metadata": {},
   "source": [
    "# Level A\n",
    "\n",
    "\n",
    "\n"
   ]
  },
  {
   "cell_type": "markdown",
   "metadata": {},
   "source": [
    "## Exercise 1\n",
    "\n",
    "Consider the connection between the gradient descent method used to train neural networks and the dynamic models we studied in the previous unit. Gradient descent follows the same pattern we have seen in the past:\n",
    "\n",
    "$$\\text{future value} = \\text{current value} + \\text{rate of change} * \\text{step size}$$\n",
    "\n",
    "a) In the gradient descent method, what is the rate of change?\n",
    "\n",
    "b) What do we call the step size in gradient descent?\n",
    "\n",
    "C) Suppose you train a model with three different step sizes and you get the following three different cost curves. The three curves are shown below in two plots (becuase the scale makes it hard to see step size C in the first plot). Rank the three step sizes from smallest to largest. Explain your reasoning.\n",
    "\n",
    "<img src=\"https://github.com/anthoak13/HNR-1303-F23/blob/main/unit-05/05-10-practice/CostFunctionAll.png?raw=true\" width=\"500\" align=\"center\">\n",
    "<img src=\"https://github.com/anthoak13/HNR-1303-F23/blob/main/unit-05/05-10-practice/CostFunctionZoom.png?raw=true\" width=\"500\" align=\"center\">"
   ]
  },
  {
   "cell_type": "markdown",
   "metadata": {},
   "source": [
    "## Exercise 2\n",
    "\n",
    "The universal approximation theorem tells us that a neural network can approximate *any* function. The challenge with a neural network is ensuring that the function the model is approximating is the *right* function and not something unrelated to our problem. A [classic example](https://www.ncbi.nlm.nih.gov/pmc/articles/PMC9674813/) of this is a network that was trained to recognize cancerous growths on skin. The issue was the model actually learned to differentiate between pictures with a scale and pictures without a scale. In the training data for the model, only the cancerous images had a scale in frame. \n",
    "\n",
    "List at least one of the major factors that determine if the model approximates the function we want it to approximate? How does using a validation set give us confidence that we are approximating the proper function? "
   ]
  },
  {
   "cell_type": "markdown",
   "metadata": {},
   "source": [
    "## Exercise 3\n",
    "\n",
    "When training a neural network, we are approaching a minimum of the cost function. Is that the global or local minimum? For the model to be effective, does it matter which it is? Why?"
   ]
  },
  {
   "cell_type": "markdown",
   "metadata": {},
   "source": []
  }
 ],
 "metadata": {
  "kernelspec": {
   "display_name": "Python 3",
   "language": "python",
   "name": "python3"
  },
  "language_info": {
   "codemirror_mode": {
    "name": "ipython",
    "version": 3
   },
   "file_extension": ".py",
   "mimetype": "text/x-python",
   "name": "python",
   "nbconvert_exporter": "python",
   "pygments_lexer": "ipython3",
   "version": "3.10.12"
  }
 },
 "nbformat": 4,
 "nbformat_minor": 4
}
