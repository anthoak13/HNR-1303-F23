{
  "nbformat": 4,
  "nbformat_minor": 0,
  "metadata": {
    "colab": {
      "provenance": [],
      "authorship_tag": "ABX9TyOqNEFfYhwg8xLGn7TgV3Yh"
    },
    "kernelspec": {
      "name": "python3",
      "display_name": "Python 3"
    },
    "language_info": {
      "name": "python"
    }
  },
  "cells": [
    {
      "cell_type": "markdown",
      "source": [
        "# Unit 5 Learning Objectives (in no particular order)\n",
        "\n",
        "1. I can describe the modeling process for machine learning models and how it differs from traditional mathmatical modeling.\n",
        "1. I can articulate the connections between the mathematics that underly machine learning and the mathematics studied in previous units.\n",
        "1. I can compare and contrast the differing ethos behind traditional modeling and machine learning\n",
        "1. I can decribe how bias can arrise in a machine learning model.\n",
        "1. I can discuss the ethical implications of bias in machine learning models.\n",
        "1. I can interret graphs of cost functions to determine the validity and efficacy of a given machine learning model."
      ],
      "metadata": {
        "id": "sQZZX2R0nSnd"
      }
    },
    {
      "cell_type": "code",
      "execution_count": null,
      "metadata": {
        "id": "wS6_FyNpnQ6U"
      },
      "outputs": [],
      "source": []
    }
  ]
}