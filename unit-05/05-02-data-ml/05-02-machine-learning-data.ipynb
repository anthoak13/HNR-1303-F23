{
  "nbformat": 4,
  "nbformat_minor": 0,
  "metadata": {
    "colab": {
      "provenance": [],
      "authorship_tag": "ABX9TyN/deLOOQN3nooLDYpxCqMu"
    },
    "kernelspec": {
      "name": "python3",
      "display_name": "Python 3"
    },
    "language_info": {
      "name": "python"
    }
  },
  "cells": [
    {
      "cell_type": "markdown",
      "source": [
        "# Machine learning and data\n",
        "\n",
        "For class, I would like you to read an article and then listen to two half-hour segments of a podcast from the New York Times. There are questions associated with both that we will discuss in class on Wed. Both the article and podcast get to the connection between machine learning and data. The podcast also dives into the difference between traditional modeling and modeling through machine learning.\n",
        "\n",
        "I suggest reviewing (and maybe printing) the questions before reading the article or listening to the podcast. It will be helpful to take notes on the various questions as you go. Otherwise, you may forget the details before the end.\n",
        "\n"
      ],
      "metadata": {
        "id": "8a5GyZJpTXUQ"
      }
    },
    {
      "cell_type": "markdown",
      "source": [
        "\n",
        "# [AI Snake Oil](https://www.aisnakeoil.com/p/a-sneak-peak-into-the-book)\n",
        "\n",
        "Read the article linked above and answer the following questions."
      ],
      "metadata": {
        "id": "4FusGmINWCvM"
      }
    },
    {
      "cell_type": "markdown",
      "source": [
        "## Question 1\n",
        "\n",
        "In your view, what is the primary factor that differentiates an AI (or a machine learning-based model) that works well from a model that fails or is actively harmful? Why would you list that as the primary factor?"
      ],
      "metadata": {
        "id": "l0sMBCjiWN9m"
      }
    },
    {
      "cell_type": "markdown",
      "source": [
        "## Question 2\n",
        "\n",
        "At its core, what is any AI (or ML-based model) doing? How does the data availible enable that?"
      ],
      "metadata": {
        "id": "TRBXFWZJWc0z"
      }
    },
    {
      "cell_type": "markdown",
      "source": [
        "## Question 3\n",
        "\n",
        "This article argues that AI tools cannot be used as predictive agents. That is, AI is incapable of predicting the future. Why do they make that claim? WHat data would be required to build an AI capable of predicting the future? How could one collect that data?"
      ],
      "metadata": {
        "id": "aiBhtBgAWh29"
      }
    },
    {
      "cell_type": "markdown",
      "source": [
        "## Question 4\n",
        "\n",
        "Based on your knowledge of how ML models work, what are some questions you should ask youreself when trying to verify a claim about the efficacy of an AI model you might encounter from a company?"
      ],
      "metadata": {
        "id": "4dV9YbuOWiA9"
      }
    },
    {
      "cell_type": "markdown",
      "source": [
        "# [The Ezra Klein Show: A.I. Could Solve Some of Humanity's Hardest Problems. It Already Has](https://www.nytimes.com/2023/07/11/opinion/ezra-klein-podcast-demis-hassabis.html)\n",
        "\n",
        "I have subdivided the questions related to the podcast into two sections (along the ad breaks in the podcast). **Section A (games and training models)** runs from the beginning to about 31 min and 24 sec. **Section B (AlphaFold)** runs from ~ 32 min and 20 sec to 1 hr. The questions are pretty specific to the individual sections, so I'd encourage you not to try to absorb the entire hour at once but stick a break in there. We may return to the last section at a later date.\n",
        "\n",
        "Here is the direct link to the episode on [Spotify](https://open.spotify.com/episode/1xesVhrRcngCAqK5BmEbvf?si=82cd549a6bec4b7e).\n",
        "If you would prefer to read the discussion, a transcript is avalible [here](https://www.nytimes.com/2023/07/11/podcasts/transcript-ezra-klein-interviews-demis-hassabis.html). In the transcript the divisions happen at the \"[MUSIC PLAYING]\" lines.\n"
      ],
      "metadata": {
        "id": "JWavMN-WX16E"
      }
    },
    {
      "cell_type": "markdown",
      "source": [
        "# Part A (0:00:00 to ~0:31:24)"
      ],
      "metadata": {
        "id": "A4DFWrUqsRpn"
      }
    },
    {
      "cell_type": "markdown",
      "source": [
        "## Question 1\n",
        "\n",
        "What is the difference between a logic-based AI system and a machine learning based AI system? How does this mirror our discussion on Monday about the difference between our study of traditional models and machine-learning models?"
      ],
      "metadata": {
        "id": "-oVmhmZ-WiH7"
      }
    },
    {
      "cell_type": "markdown",
      "source": [
        "## Question 2\n",
        "\n",
        "What are a few of the biggest advantages to training an AI using simulations (or video games)?"
      ],
      "metadata": {
        "id": "PWcdIBERYsMG"
      }
    },
    {
      "cell_type": "markdown",
      "source": [
        "## Question 3\n",
        "\n",
        "In the discussion around an AI to play [pong](https://www.ponggame.org/), what cost function is being used? How is it different from the cost function we've used before? What is the input to the model? What is the output of the model?"
      ],
      "metadata": {
        "id": "KmxX-FuEYsUN"
      }
    },
    {
      "cell_type": "markdown",
      "source": [
        "## Question 4\n",
        "\n",
        "What is the primary difference between the AlphaGo AI and the AlphaZero AI? How does the inclusion of human-generated data impact the performance of the model?"
      ],
      "metadata": {
        "id": "Po69QtpWZXrG"
      }
    },
    {
      "cell_type": "markdown",
      "source": [
        "# Part B (0:32:20 to ~1:00:00)"
      ],
      "metadata": {
        "id": "15eILCqWsXiz"
      }
    },
    {
      "cell_type": "markdown",
      "source": [
        "## Question 1\n",
        "\n",
        "Why is protein folding a \"perfect problem\" for AI?"
      ],
      "metadata": {
        "id": "6e79jsVIs1G4"
      }
    },
    {
      "cell_type": "markdown",
      "source": [
        "## Question 2\n",
        "\n",
        "What is the (or a potential) cost function for the protein folding problem? There are a few discussed in the podcast. What is the input to the model? What is the output of the model?"
      ],
      "metadata": {
        "id": "L3mp-3JvuNDB"
      }
    },
    {
      "cell_type": "markdown",
      "source": [
        "## Question 3\n",
        "\n",
        "What was the size of the training set for AlphaFold? How many protiens were in it? What did they do to overcome the limited amount of training data?"
      ],
      "metadata": {
        "id": "dF-neFJZuNa6"
      }
    },
    {
      "cell_type": "markdown",
      "source": [
        "## Question 4\n",
        "\n",
        "We learned on Monday the importance of a validation set for any machine leanring model. What did AlphaFold use as their validation set? How was that tied to the [CASP](https://en.wikipedia.org/wiki/CASP) competition?"
      ],
      "metadata": {
        "id": "DP-0lUPHuOHr"
      }
    },
    {
      "cell_type": "markdown",
      "source": [
        "## Question 5\n",
        "\n",
        "What is fundementally different about the data used to train large language models (like ChatGPT) and the data used to train a model like AlphaFold? How does that impact the reliability of the model?"
      ],
      "metadata": {
        "id": "ajvBSCeIvefD"
      }
    },
    {
      "cell_type": "code",
      "source": [],
      "metadata": {
        "id": "vhd-n8czvLhh"
      },
      "execution_count": null,
      "outputs": []
    }
  ]
}