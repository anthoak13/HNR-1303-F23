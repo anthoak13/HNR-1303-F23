{
  "nbformat": 4,
  "nbformat_minor": 0,
  "metadata": {
    "colab": {
      "provenance": [],
      "toc_visible": true,
      "authorship_tag": "ABX9TyNatINd3iQHDC2MyF9nsqiG"
    },
    "kernelspec": {
      "name": "python3",
      "display_name": "Python 3"
    },
    "language_info": {
      "name": "python"
    }
  },
  "cells": [
    {
      "cell_type": "markdown",
      "source": [
        "# In-class discussion\n",
        "\n",
        "## Thoughts on video?\n",
        "\n",
        "\n",
        "\n"
      ],
      "metadata": {
        "id": "FAw3whTrzfEZ"
      }
    },
    {
      "cell_type": "markdown",
      "source": [
        "## Steps of Modeling Process\n",
        "From 1.2 in **book**\n",
        "\n",
        "1.\n",
        "1. ...\n"
      ],
      "metadata": {
        "id": "NoaaUI_h0J3y"
      }
    },
    {
      "cell_type": "markdown",
      "source": [
        "## How did Sanderson implement those steps in the video?"
      ],
      "metadata": {
        "id": "Isd7VIQj0vbV"
      }
    },
    {
      "cell_type": "markdown",
      "source": [
        "## How would you update the model today if the disease being studied is COVID-19?\n",
        "\n",
        "When was this video produced and released?"
      ],
      "metadata": {
        "id": "kHJMmxGx14xs"
      }
    },
    {
      "cell_type": "markdown",
      "source": [
        "## What other questions can you think about exploring with the model?"
      ],
      "metadata": {
        "id": "GbTANoXn3HjZ"
      }
    },
    {
      "cell_type": "markdown",
      "source": [
        "## What are some ethical considerations raised by watching this video?"
      ],
      "metadata": {
        "id": "N1itVSn53410"
      }
    }
  ]
}