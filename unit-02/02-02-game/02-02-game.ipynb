{
  "cells": [
    {
      "cell_type": "code",
      "execution_count": 2,
      "metadata": {
        "id": "tZ-jjoBBf6dm"
      },
      "outputs": [],
      "source": [
        "import random as rand #for random numbers\n",
        "import numpy as np\n",
        "import matplotlib.pyplot as plt"
      ]
    },
    {
      "cell_type": "markdown",
      "metadata": {
        "id": "X30ffFtWf6dr"
      },
      "source": [
        "# The Senario\n",
        "\n",
        "You are creating a fundraiser for your favorite HPU student organization. In this fundraiser, people can buy \"throws\" of darts for a fixed price. They then win money based on where their dart hits a board with concentric circles. How much money can you expect to earn? What is the least you can charge for a throw and still make money? Your task is going to modeling the game to answer these questions!\n",
        "\n",
        "\n",
        "\n",
        "# Details of the Game\n",
        "\n",
        "You have constructed a dart board that is a square of length 45 cm.\n",
        "\n",
        "Inside the square, there are three circles. The purple circle has a diameter 45 cm (radius 22.5 cm). The blue circle has a diameter 27 cm (radius 13.5 cm). The red circle has a diameter 9 cm (radius 4.5 cm).\n",
        "\n",
        "![](https://github.com/atitus/math-modeling/raw/master/unit-04/04-02-game/dartboard.png)\n",
        "\n",
        "## The Rules of the Game\n",
        "\n",
        "A dart inside the red circle wins $\\$10$.\n",
        "A dart inside the blue circle (but not in the red circle) wins $\\$5$.\n",
        "A dart inside the purple circle (but not in the red nor blue circles) wins $\\$1$.\n",
        "\n",
        "For the fundraiser, you will sell \"throws\" for a certain price $P$. How much money will you make for 100 throws at $5 per throw? To answer this question with a Monte Carlo simulation, you should answer these questions:\n",
        "\n",
        "1. What assumptions will you make for your model?\n",
        "2. What will you randomize?\n",
        "3. How will you know what circle a dart lands within?\n"
      ]
    },
    {
      "cell_type": "code",
      "execution_count": null,
      "metadata": {
        "id": "1g7jJeCAf6d2"
      },
      "outputs": [],
      "source": []
    },
    {
      "cell_type": "markdown",
      "metadata": {
        "id": "nXTGFw0Rf6d6"
      },
      "source": [
        "## Program Template\n",
        "\n",
        "The program below is a starting program for the model. However, there are two parts of the code you must edit or add.\n",
        "\n",
        "1. The variables `x` and `y` should be random coordinates of a dart, at the location it hits the board. Make these two variables an appropriate randnum float.\n",
        "2. A conditional is needed to determine whether the dart lands inside the red, blue, or purple circles and to increment (i.e. count) the variables `Npurple`, `Nblue`, or `Nred` if the dart lands inside its respective circle.\n",
        "\n",
        "Add these parts of the code and run it to see if you have random darts over the entire board."
      ]
    },
    {
      "cell_type": "code",
      "execution_count": null,
      "metadata": {
        "id": "oFqgz7a2f6d8"
      },
      "outputs": [],
      "source": [
        "P = 5 #price per dart\n",
        "Ntosses = 100 #number of darts thrown\n",
        "\n",
        "L = 45 #the length of one side of the dart board in cm\n",
        "Rpurple = 45/2\n",
        "Rblue = 27/2\n",
        "Rred = 9/2\n",
        "\n",
        "Ppurple = 1\n",
        "Pblue = 5\n",
        "Pred = 10\n",
        "\n",
        "Npurple = 0\n",
        "Nblue = 0\n",
        "Nred = 0\n",
        "\n",
        "xmodel = []\n",
        "ymodel = []\n",
        "\n",
        "for i in range(1,Ntosses+1):\n",
        "\n",
        "    x = 1 #should be a random number\n",
        "    y = 1 #should be a random number\n",
        "    xmodel.append(x)\n",
        "    ymodel.append(y)\n",
        "\n",
        "    ######\n",
        "\n",
        "    # See if the x,y coordinates of a dart is within each circle and count Npurple, Nblue, or Nred\n",
        "\n",
        "    ######\n",
        "\n",
        "gross = P*Ntosses\n",
        "loss = Ppurple*Npurple + Pblue*Nblue + Pred*Nred\n",
        "\n",
        "\n",
        "print(\"Percent in red = {:.2f}%\".format(Nred/Ntosses*100))\n",
        "print(\"Percent in blue = {:.2f}%\".format(Nblue/Ntosses*100))\n",
        "print(\"Percent in purple = {:.2f}%\".format(Npurple/Ntosses*100))\n",
        "print(\"Percent not in a circle = {:.2f}%\".format((Ntosses-Npurple-Nblue-Nred)/Ntosses*100))\n",
        "print(\"Gross = ${:.2f}\".format(gross))\n",
        "print(\"Loss = ${:.2f}\".format(loss))\n",
        "print(\"Profit = ${:.2f} = {:.2f}% of gross\".format(gross-loss, (gross-loss)/gross*100))\n",
        "\n",
        "\n",
        "#red circle\n",
        "theta = np.linspace(0,2*np.pi,100)\n",
        "xred = Rred*np.cos(theta)\n",
        "yred = Rred*np.sin(theta)\n",
        "#blue circle\n",
        "xblue = Rblue*np.cos(theta)\n",
        "yblue = Rblue*np.sin(theta)\n",
        "#purple circle\n",
        "xpurple = Rpurple*np.cos(theta)\n",
        "ypurple = Rpurple*np.sin(theta)\n",
        "\n",
        "#graph\n",
        "plt.figure(figsize=(10,10))\n",
        "plt.title(\"Dart Board Fundraiser\")\n",
        "plt.xlabel(\"x (cm)\")\n",
        "plt.ylabel(\"y (cm)\")\n",
        "plt.xlim(-L/2, L/2)\n",
        "plt.ylim(-L/2, L/2)\n",
        "plt.plot(xred, yred, 'r-')\n",
        "plt.plot(xblue, yblue, 'c-')\n",
        "plt.plot(xpurple, ypurple, 'm-')\n",
        "plt.plot(xmodel,ymodel, 'k.')\n",
        "plt.gca().set_aspect('equal', adjustable='box')\n",
        "plt.show()"
      ]
    },
    {
      "cell_type": "markdown",
      "metadata": {
        "id": "RR_Uijjgf6d_"
      },
      "source": [
        "# Exercise 1: Expected earnings\n",
        "\n",
        "For 100 throws, we might win or lose money on our fundraiser, simply due to randomness of the darts. If we want to investigate what we can *expect* to make from our fundraiser for a price of 5 dollars per throw, how should you change the model?\n",
        "\n",
        "Make the change to your program that you just suggested and then answer the following question. How much can we *expect* to make on our fundraiser?"
      ]
    },
    {
      "cell_type": "code",
      "execution_count": null,
      "metadata": {
        "id": "Y2b1EKLrf6eD"
      },
      "outputs": [],
      "source": []
    },
    {
      "cell_type": "markdown",
      "metadata": {
        "id": "tQ9ijeS5f6eF"
      },
      "source": [
        "# Exercise 2: Break even price\n",
        "\n",
        "Your goal is to get many people to buy \"throws\" to support the fundraiser. The cheaper the price per throw, the more people you can get to sign up. What is the minimum price you can charge so you don't lose money on the fundraiser? (Presumably, you'll want to charge much more than this value. The minimum price per throw represents the line you can't cross when it comes to losing or making money.)"
      ]
    },
    {
      "cell_type": "code",
      "execution_count": null,
      "metadata": {
        "id": "sB0PG-5uf6eK"
      },
      "outputs": [],
      "source": []
    },
    {
      "cell_type": "markdown",
      "metadata": {
        "id": "0j8N4O0Cf6eP"
      },
      "source": [
        "# Exercise 3: Extending your Game\n",
        "\n",
        "1. What analytical questions can you ask about this fundraiser and how would you go about answering them?\n",
        "\n",
        "2. How can you change your game? Investigate at least one change and report on the outcome."
      ]
    },
    {
      "cell_type": "code",
      "execution_count": null,
      "metadata": {
        "id": "L8GAW077f6eS"
      },
      "outputs": [],
      "source": []
    },
    {
      "cell_type": "markdown",
      "metadata": {
        "id": "uOd6BR0qf6eU"
      },
      "source": [
        "# Gaussian Distribution\n",
        "\n",
        "In the previous model of the dart board fundraiser, we assumed that every location on the board had an equal probability of a dart landing at that location. Thus, we are assuming a person is blindfolded or is not trying to hit the bullseye. It's as if the dartboard is blank and they think the bullseye could be anywhere on the blank page. In reality, maybe more darts land near the blue circle than the red or purple circle. How can we modify our model to take this into account?\n",
        "\n",
        "A normal distribution is one where the number of occurrences of a particular event in each bin follows a function\n",
        "\n",
        "$$\\frac{1}{\\sqrt{2\\pi \\sigma}}e^{-(x-\\mu)^2/(2\\sigma)}$$\n",
        "\n",
        "where $\\mu$ is called the *mean* and $\\sigma$ is the standard deviation.\n",
        "\n",
        "The `random` package can return a random number that is generated from a normal distribution. Use the function\n",
        "\n",
        "```\n",
        "random.gauss(mu, sigma)\n",
        "```"
      ]
    },
    {
      "cell_type": "code",
      "execution_count": 4,
      "metadata": {
        "id": "8WJx48kaf6eZ",
        "outputId": "a5bc56dc-d864-4cd0-ecba-ffeea682679f",
        "colab": {
          "base_uri": "https://localhost:8080/",
          "height": 472
        }
      },
      "outputs": [
        {
          "output_type": "display_data",
          "data": {
            "text/plain": [
              "<Figure size 640x480 with 1 Axes>"
            ],
            "image/png": "[encoded data removed]"
          },
          "metadata": {}
        }
      ],
      "source": [
        "N=100000 #number of random numbers\n",
        "\n",
        "mu=0 #mean\n",
        "sigma=0.1 #standard deviation\n",
        "\n",
        "r_numbers=[] #list to store random numbers\n",
        "\n",
        "i=0\n",
        "while i<N:\n",
        "    r=rand.gauss(mu,sigma)\n",
        "    r_numbers.append(r)\n",
        "    i = i +1\n",
        "\n",
        "totalbins = 100 # number of bins used for counting random numbers in that bin\n",
        "\n",
        "histogram = plt.hist(r_numbers, bins=totalbins, facecolor='red', edgecolor='black', linewidth=1)\n",
        "plt.title(\"Normal Distribution\")\n",
        "plt.xlabel(\"interval\")\n",
        "plt.ylabel(\"counts\")\n",
        "plt.show()"
      ]
    },
    {
      "cell_type": "markdown",
      "metadata": {
        "id": "1_y4fBKMf6ee"
      },
      "source": [
        "# Exercise 4: Using a Gaussian Distribution for the Fundraiser Dart Board\n",
        "\n",
        "Where do you think most darts land on a dart board if people are aiming for the bullseye and if people are inexperienced at throwing darts?\n",
        "\n",
        "How can we change our model to reflect that the mean x position at which darts land on the board is not zero (which is the bullseye)?"
      ]
    },
    {
      "cell_type": "code",
      "execution_count": null,
      "metadata": {
        "id": "KosBS_D2f6eh"
      },
      "outputs": [],
      "source": []
    },
    {
      "cell_type": "markdown",
      "metadata": {
        "id": "EMmZ_Uawf6ek"
      },
      "source": [
        "# Exercise 5: Expected Profit and Minimum Price for a Gaussian Dist.\n",
        "\n",
        "Do Exercises 1 and 2 again, but this time using the Gaussian distribution in Exercise 4. Compare your answers to the first model, with unimformly distributed darts."
      ]
    },
    {
      "cell_type": "code",
      "execution_count": null,
      "metadata": {
        "id": "xzUXAV0ff6em"
      },
      "outputs": [],
      "source": []
    }
  ],
  "metadata": {
    "kernelspec": {
      "display_name": "Python 3",
      "language": "python",
      "name": "python3"
    },
    "language_info": {
      "codemirror_mode": {
        "name": "ipython",
        "version": 3
      },
      "file_extension": ".py",
      "mimetype": "text/x-python",
      "name": "python",
      "nbconvert_exporter": "python",
      "pygments_lexer": "ipython3",
      "version": "3.8.3"
    },
    "colab": {
      "provenance": []
    }
  },
  "nbformat": 4,
  "nbformat_minor": 0
}