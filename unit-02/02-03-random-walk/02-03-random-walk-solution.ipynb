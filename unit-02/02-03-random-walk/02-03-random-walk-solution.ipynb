{
  "cells": [
    {
      "cell_type": "code",
      "execution_count": 1,
      "metadata": {
        "id": "IaSkOJQVxuQI"
      },
      "outputs": [],
      "source": [
        "import numpy as np\n",
        "import matplotlib.pyplot as plt\n",
        "import random as rand"
      ]
    },
    {
      "cell_type": "markdown",
      "metadata": {
        "id": "BHNxVyc9xuQJ"
      },
      "source": [
        "# Random Walk\n",
        "\n",
        "This exercise is based on Module 9.5 in *Introduction to Computational Science* by Shiflet and Shiflet.\n",
        "\n",
        "Many physical processes are a result of an object traveling in a medium through random collisions with molecules or atoms in the medium. Examples include a pollen particle in a fluid, calcium traveling through a bone, or a photon generated in the interior of the sun traveling to the surface. One way to simulate this process is a *random walk*.\n",
        "\n",
        "In this notebook, you will:\n",
        "\n",
        "1. randomly select steps for the object.\n",
        "1. visualize the path of the object.\n",
        "1. calculate the distance traveled from its starting location.\n",
        "\n",
        "## Background\n",
        "\n",
        "Sir Ronald Ross (1857-1932) was a British medical doctor who received the 1902 Nobel Prize in Medicine for his work on malaria. He was not a mathematician by trade, but he was interested in calculating the distance of a mosquito-carried disease from a breeding pool. In September 1904, at the International Congress of Arts and Science in St. Louis, Ross gave a presentation on how to mathematically model the spread of mosquitoes from such a breeding pool.\n",
        "\n",
        "Introducing the topic, he says:\n",
        "\n",
        "\"Suppose that a mosquito is born at a given point, and that during its life wanders about, to and from, to left or to right, where it wills, in search of food or mating, over a country which is uniformly attractive to it. After a time, it will die. What are the probabilities that its dead body will be found at a given distance from its birthplace? That is really the problem which governs the whole of this great subject of the prophylaxis of malaria.\"\n",
        "\n",
        "He also says:\n",
        "\n",
        "\"The answer depends upon the distance which a mosquito can traverse, not during a single flight, but during its whole life; and so upon certain laws of probability, which must govern its wanderings to and fro upon the face of the earth\"\n",
        "\n",
        "Ross considered the mosquito's life to be divided into $n$ stages. During each stage, it travels a total distance $L$ in the air. He considered mosquitos traveling in all directions, but for mathematical simplicity he considered a single mosquito to travel along one axis only (i.e. one dimension). During each stage, the mosquito randomly decides *twice* to fly forward or backward a distance $L/2$, with equal probability 1/2 of flying forward or backward.\n",
        "\n",
        "Ross did not give this process a name; however, today mathematicians and scientists call this a *one-dimensional random walk*.\n",
        "\n",
        "Ross calculated the probability of finding a dead mosquito at a distance $L$, $2L$, $3L$, etc. for $n$ stages. As a specific example, he considered 1024 mosquitos with $n=5$ stages. The expected number of mosquitos at each possible distance from the breeding pool is shown below.\n",
        "\n",
        "Distance from the breeding pool | Number of dead mosquitos\n",
        ":---: | :---:\n",
        "0 | 252\n",
        "L | 420\n",
        "2L | 240\n",
        "3L | 90\n",
        "4L | 20\n",
        "5L | 2\n",
        "\n"
      ]
    },
    {
      "cell_type": "markdown",
      "metadata": {
        "id": "CsSF35oZxuQK"
      },
      "source": [
        "## Exercise 1\n",
        "\n",
        "1. Use Python to calculate the probability of finding a dead mosquito at each of the distances in the table above.\n",
        "(Hint: What is the number of \"successes\" at each distance step? What is the denominator or total number of mosquitos?)\n",
        "2. In a new text cell below, copy and paste the markdown for the above table, and add a third column that shows the probability you calculated for each distance."
      ]
    },
    {
      "cell_type": "code",
      "execution_count": 9,
      "metadata": {
        "id": "ZrDZMz0exuQL",
        "outputId": "a2296ec3-f147-4be0-a1f4-13f40b686972",
        "colab": {
          "base_uri": "https://localhost:8080/"
        }
      },
      "outputs": [
        {
          "output_type": "stream",
          "name": "stdout",
          "text": [
            "0: 0.246\n",
            "1: 0.410\n",
            "2: 0.234\n",
            "3: 0.088\n",
            "4: 0.020\n",
            "5: 0.002\n"
          ]
        }
      ],
      "source": [
        "N = 1024\n",
        "N0 = 252\n",
        "N1 = 420\n",
        "N2 = 240\n",
        "N3 = 90\n",
        "N4 = 20\n",
        "N5 = 2\n",
        "\n",
        "print(f\"0: {N0/N:.3f}\")\n",
        "print(f\"1: {N1/N:.3f}\")\n",
        "print(f\"2: {N2/N:.3f}\")\n",
        "print(f\"3: {N3/N:.3f}\")\n",
        "print(f\"4: {N4/N:.3f}\")\n",
        "print(f\"5: {N5/N:.3f}\")"
      ]
    },
    {
      "cell_type": "markdown",
      "source": [
        "Distance from the breeding pool | Number of dead mosquitos | Probability of finding mosquito\n",
        ":---: | :---: | :---:\n",
        "0 | 252 | 0.246\n",
        "L | 420 |  0.410\n",
        "2L | 240 | 0.234\n",
        "3L | 90 | 0.088\n",
        "4L | 20 | 0.020\n",
        "5L | 2 | 0.002"
      ],
      "metadata": {
        "id": "FaTnbMvBzIPt"
      }
    },
    {
      "cell_type": "markdown",
      "metadata": {
        "id": "wKc67hT0xuQL"
      },
      "source": [
        "\n",
        "## Mosquito Model\n",
        "\n",
        "Let's define a Cartesian coordinate system with $+x$ to the right and $+y$. An object can only be at a location on the grid given by integers $(x,y)$. In other words, the location of the object given by the coordinate pair could be something like $(0,1)$ or $(-10,15)$ but not $(3.5,1)$.  A movement from one location to another is called a *displacement*.\n",
        "\n",
        "- The mosquito will fly along the x-axis at $y=0$.\n",
        "- In each stage, a mosquito will fly a total distance of $L$ by taking **two** random \"steps\", of distance $L/2$ to the right or to the left, with equal probability.\n",
        "- A step to the right is $\\Delta x = +L/2$.\n",
        "- A step to the left is $\\Delta x = -L/2$.\n",
        "- Use $L=1$ for simplicity.\n",
        "\n",
        "In the rest of the notebook, we will create a grid and move the mosquito randomly along the x-axis. Since we are only moving along the x-axis, we say this is a one-dimensional random walk.\n"
      ]
    },
    {
      "cell_type": "markdown",
      "metadata": {
        "id": "cEQeXDSdxuQM"
      },
      "source": [
        "## One Mosquito\n",
        "\n",
        "Below is the code to run the random walk for a single mosquito. For each of the items below identify which line of code is responsible for that part of the walk. Copy that line(s) of code and add it to the markdown in this text cell. In markdown you can format code like \\`code\\`, which will format like `code`. I have done this for the first item in the list.\n",
        "\n",
        "- Set the number of stages we will walk: ` N = 5 #total number of stages`\n",
        "- Set the initial position of the mosquito: `x = 0`\n",
        "- Loop over the total number of stages: `for i in range(N):`\n",
        "- Randomly pick 0 or 1 to determine if we step right or left:\n",
        "```\n",
        "r = rand.randint(0,1)\n",
        "  if r == 0:\n",
        "      dx1 = L/2 #step right\n",
        "   else:\n",
        "      dx1 = - L/2 #step left\n",
        "```\n",
        "- Calculate the total distance traveled in the stage:` dx = dx1 + dx2 #total displacement`\n",
        "- Update the x position after each stage:`x = x + dx #update the value of x`\n",
        "- Print the x position after each stage: `print(f\"Stage {i+1}, x = {x}\")`"
      ]
    },
    {
      "cell_type": "code",
      "execution_count": null,
      "metadata": {
        "colab": {
          "base_uri": "https://localhost:8080/"
        },
        "id": "7iR8Gy6hxuQM",
        "outputId": "93ccff29-1c7f-4305-a376-2d7461e5683a"
      },
      "outputs": [
        {
          "output_type": "stream",
          "name": "stdout",
          "text": [
            "Stage 0, x = 0\n",
            "Stage 1, x = 0.0\n",
            "Stage 2, x = -1.0\n",
            "Stage 3, x = -1.0\n",
            "Stage 4, x = 0.0\n",
            "Stage 5, x = -1.0\n"
          ]
        }
      ],
      "source": [
        "N = 5 #total number of stages\n",
        "L = 1 #length of two steps in the same direction\n",
        "\n",
        "#starting position\n",
        "x = 0\n",
        "\n",
        "print(f\"Stage 0, x = {x}\")\n",
        "\n",
        "#loop over the number of stages\n",
        "for i in range(N):\n",
        "\n",
        "    #step right or left\n",
        "    r = rand.randint(0,1)\n",
        "    if r == 0:\n",
        "        dx1 = L/2 #step right\n",
        "    else:\n",
        "        dx1 = - L/2 #step left\n",
        "\n",
        "    #step right or left\n",
        "    r = rand.randint(0,1)\n",
        "    if r == 0:\n",
        "        dx2 = L/2 #step right\n",
        "    else:\n",
        "        dx2 = - L/2 #step left\n",
        "\n",
        "    dx = dx1 + dx2 #total displacement\n",
        "    x = x + dx #update the value of x\n",
        "\n",
        "    print(f\"Stage {i+1}, x = {x}\")\n"
      ]
    },
    {
      "cell_type": "markdown",
      "metadata": {
        "id": "J3JZWXVqxuQN"
      },
      "source": [
        "## Using Python Functions\n",
        "\n",
        "Use a Python function to do a random walk and return the final x position. I took the previous program, removed the `print` statements, and put it into a function. The variable `N` is passed to the function.\n"
      ]
    },
    {
      "cell_type": "code",
      "execution_count": 10,
      "metadata": {
        "id": "xrDHVeN6xuQN"
      },
      "outputs": [],
      "source": [
        "def randomwalk1D(N): #input N, the number of stages; returns final position\n",
        "    L = 1 #length of two steps in the same direction\n",
        "\n",
        "    #starting position\n",
        "    x = 0\n",
        "\n",
        "    #loop over the number of stages\n",
        "    for i in range(N):\n",
        "\n",
        "        #step right or left\n",
        "        r = rand.randint(0,1)\n",
        "        if r == 0:\n",
        "            dx1 = L/2 #step right\n",
        "        else:\n",
        "            dx1 = - L/2 #step left\n",
        "\n",
        "        #step right or left\n",
        "        r = rand.randint(0,1)\n",
        "        if r == 0:\n",
        "            dx2 = L/2 #step right\n",
        "        else:\n",
        "            dx2 = - L/2 #step left\n",
        "\n",
        "        dx = dx1 + dx2 #total displacement\n",
        "        x = x + dx #update the value of x\n",
        "\n",
        "    return x\n"
      ]
    },
    {
      "cell_type": "markdown",
      "metadata": {
        "id": "7GZ8prbixuQO"
      },
      "source": [
        "To get the final x position of a mosquito, call the function and pass it the number of stages as shown below."
      ]
    },
    {
      "cell_type": "code",
      "execution_count": 12,
      "metadata": {
        "colab": {
          "base_uri": "https://localhost:8080/"
        },
        "id": "Rj0gTZw4xuQQ",
        "outputId": "8dbb5d4b-8d87-41ef-fb05-9e4df40b1da0"
      },
      "outputs": [
        {
          "output_type": "stream",
          "name": "stdout",
          "text": [
            "final x = -1.0\n"
          ]
        }
      ],
      "source": [
        "Nstages = 5\n",
        "\n",
        "x=randomwalk1D(Nstages)\n",
        "print(f\"final x = {x}\")"
      ]
    },
    {
      "cell_type": "markdown",
      "source": [
        "Using the above code as an example, calculate and print the distance traveled by a single mosquito after undergoing a random walk for 10 stages in the code cell below."
      ],
      "metadata": {
        "id": "Vvsd__T0IYBM"
      }
    },
    {
      "cell_type": "code",
      "source": [
        "Nstages = 10\n",
        "\n",
        "x=randomwalk1D(Nstages)\n",
        "print(f\"final x = {x}\")"
      ],
      "metadata": {
        "id": "S4DtWCWqIXMh",
        "outputId": "6ddbb5f3-5557-41e0-f0c3-9d0339d53c38",
        "colab": {
          "base_uri": "https://localhost:8080/"
        }
      },
      "execution_count": 13,
      "outputs": [
        {
          "output_type": "stream",
          "name": "stdout",
          "text": [
            "final x = 5.0\n"
          ]
        }
      ]
    },
    {
      "cell_type": "markdown",
      "metadata": {
        "id": "_Z8S09SWxuQR"
      },
      "source": [
        "## Modeling Many Mosquitos\n",
        "\n",
        "We want to model the *random walk* of 1024 mosquitos. We need a loop to run 1024 times. **Create a loop below and call the function `randomwalk1D`.** Run the loop 1024 times. Note that when testing, run the loop fewer times (maybe 10 times) and print each final x-position.\n",
        "\n",
        "Hints: You can use your solution to Exercise 1 of the 02-01-random notebook as an example. How will you need to change that to run the random walk rather than roll a di?"
      ]
    },
    {
      "cell_type": "code",
      "execution_count": 15,
      "metadata": {
        "id": "m6waLCmExuQR",
        "outputId": "926221f5-e089-4184-ec9f-8fb87814bfb5",
        "colab": {
          "base_uri": "https://localhost:8080/"
        }
      },
      "outputs": [
        {
          "output_type": "stream",
          "name": "stdout",
          "text": [
            "final x = -1.0\n",
            "final x = -1.0\n",
            "final x = 1.0\n",
            "final x = 0.0\n",
            "final x = 3.0\n",
            "final x = 1.0\n",
            "final x = 2.0\n",
            "final x = 2.0\n",
            "final x = 1.0\n",
            "final x = 2.0\n"
          ]
        }
      ],
      "source": [
        "Nmos = 10 #number of mosquitos\n",
        "Nstages = 5\n",
        "\n",
        "#loop\n",
        "for i in range(Nmos):\n",
        "  x = randomwalk1D(Nstages)\n",
        "  print(f\"final x = {x}\")\n"
      ]
    },
    {
      "cell_type": "markdown",
      "metadata": {
        "id": "gV73EZ7GxuQR"
      },
      "source": [
        "1. After you know your program is working, copy and paste it into the cell below (don't forget to adjust the number of mosquitos up to the full 1024 and remove the print statements!).\n",
        "1. Add variables to track the final position of the mosquito (i.e. `N0`, `N1`, `N2`, etc.)\n",
        "1. Add code *inside the loop* to:\n",
        "\n",
        " - calculate the distance of the final x position of the mosquito (hint: $|x|$ can be expressed in Python code as `np.abs(x)`)\n",
        " - count the number of times each distance $L$, $2L$, $3L$... occurs by updating the variables we created in step 2. (hint: this is similar to how we tracked which circle the dart landed in last class)\n"
      ]
    },
    {
      "cell_type": "code",
      "execution_count": 16,
      "metadata": {
        "id": "yuIOlrg7xuQR",
        "outputId": "478b1f20-f709-451d-8121-c3fd17306731",
        "colab": {
          "base_uri": "https://localhost:8080/"
        }
      },
      "outputs": [
        {
          "output_type": "stream",
          "name": "stdout",
          "text": [
            "N0 = 275\n",
            "N1 = 401\n",
            "N2 = 238\n",
            "N3 = 91\n",
            "N4 = 16\n",
            "N5 = 3\n"
          ]
        }
      ],
      "source": [
        "Nmos = 1024 #number of mosquitos\n",
        "Nstages = 5\n",
        "\n",
        "# variables to track the output\n",
        "N0 = 0\n",
        "N1 = 0\n",
        "N2 = 0\n",
        "N3 = 0\n",
        "N4 = 0\n",
        "N5 = 0\n",
        "\n",
        "#loop\n",
        "for i in range(Nmos):\n",
        "  x = randomwalk1D(Nstages)\n",
        "  dist = np.abs(x)\n",
        "  if dist == 0:\n",
        "    N0 += 1\n",
        "  if dist == 1:\n",
        "    N1 += 1\n",
        "  if dist == 2:\n",
        "    N2 += 1\n",
        "  if dist == 3:\n",
        "    N3 += 1\n",
        "  if dist == 4:\n",
        "    N4 += 1\n",
        "  if dist == 5:\n",
        "    N5 += 1\n",
        "\n",
        "print(f\"N0 = {N0}\")\n",
        "print(f\"N1 = {N1}\")\n",
        "print(f\"N2 = {N2}\")\n",
        "print(f\"N3 = {N3}\")\n",
        "print(f\"N4 = {N4}\")\n",
        "print(f\"N5 = {N5}\")"
      ]
    },
    {
      "cell_type": "markdown",
      "metadata": {
        "id": "WMLAK5PExuQR"
      },
      "source": [
        "Copy and paste your program into the cell below. Then, after the loop, calculate the percentage of mosquitos that die at each distance--this is the probability--and compare your results to the table given by Ross. (In Excerise 1 you already calcualted the probability, how can you adjust that code?)"
      ]
    },
    {
      "cell_type": "code",
      "execution_count": 29,
      "metadata": {
        "id": "SXp2ypgrxuQS",
        "outputId": "94ac760b-3305-458b-ee74-90a0d9138baf",
        "colab": {
          "base_uri": "https://localhost:8080/"
        }
      },
      "outputs": [
        {
          "output_type": "stream",
          "name": "stdout",
          "text": [
            "0 | 283 | 0.276\n",
            "L | 387| 0.378\n",
            "2L | 240| 0.234\n",
            "3L | 87| 0.085\n",
            "4L | 25| 0.024\n",
            "5L | 2| 0.002\n"
          ]
        }
      ],
      "source": [
        "Nmos = 1024 #number of mosquitos\n",
        "Nstages = 5\n",
        "\n",
        "# variables to track the output\n",
        "N0 = 0\n",
        "N1 = 0\n",
        "N2 = 0\n",
        "N3 = 0\n",
        "N4 = 0\n",
        "N5 = 0\n",
        "\n",
        "#loop\n",
        "for i in range(Nmos):\n",
        "  x = randomwalk1D(Nstages)\n",
        "  dist = np.abs(x)\n",
        "  if dist == 0:\n",
        "    N0 += 1\n",
        "  if dist == 1:\n",
        "    N1 += 1\n",
        "  if dist == 2:\n",
        "    N2 += 1\n",
        "  if dist == 3:\n",
        "    N3 += 1\n",
        "  if dist == 4:\n",
        "    N4 += 1\n",
        "  if dist == 5:\n",
        "    N5 += 1\n",
        "\n",
        "print(f\"0 | {N0} | {N0/Nmos:.3f}\")\n",
        "print(f\"L | {N1}| {N1/Nmos:.3f}\")\n",
        "print(f\"2L | {N2}| {N2/Nmos:.3f}\")\n",
        "print(f\"3L | {N3}| {N3/Nmos:.3f}\")\n",
        "print(f\"4L | {N4}| {N4/Nmos:.3f}\")\n",
        "print(f\"5L | {N5}| {N5/Nmos:.3f}\")"
      ]
    },
    {
      "cell_type": "markdown",
      "source": [
        "Simulated results of distance from breeding pool.\n",
        "\n",
        "Distance from the breeding pool | Number of dead mosquitos | Simulated probability of finding mosquito\n",
        ":---: | :---: | :---:\n",
        "0 | 251 | 0.245\n",
        "L | 421| 0.411\n",
        "2L | 237| 0.231\n",
        "3L | 85| 0.083\n",
        "4L | 26| 0.025\n",
        "5L | 4| 0.004\n",
        "\n",
        "There is quite good agreement between our results for the distance from the breeding pool, and the results by Ross. They generally agree to within two significant figures"
      ],
      "metadata": {
        "id": "Dm7K8yvr1mmi"
      }
    },
    {
      "cell_type": "markdown",
      "metadata": {
        "id": "b1uJUnn2xuQS"
      },
      "source": [
        "## Exercise 2\n",
        "\n",
        "Run your program modeling 1024 mosquitos multiple times and observe the results each time. Remember to record your answers in narritive format (i.e. full sentances)\n",
        "\n",
        "1. Do the percentages (i.e. probabilities) for each distance change?\n",
        "\n",
        "2. How can you change your program in order to better estimate the expected percentage of mosquitos at each distance? Make your suggested change.\n",
        "\n",
        "Compare your results to the table by Ross.\n",
        "\n",
        "Our probabilities change each times, the most signifigant change is seen in the distance $L$. The better estimate the percentage we should run the model with a larger number of mosquitos."
      ]
    },
    {
      "cell_type": "code",
      "execution_count": 30,
      "metadata": {
        "id": "Ihvs-pdxxuQS",
        "outputId": "044dcdc5-93d9-4136-90b8-37c565e5045c",
        "colab": {
          "base_uri": "https://localhost:8080/"
        }
      },
      "outputs": [
        {
          "output_type": "stream",
          "name": "stdout",
          "text": [
            "0 | 24788 | 0.248\n",
            "L | 40645| 0.406\n",
            "2L | 23646| 0.236\n",
            "3L | 8791| 0.088\n",
            "4L | 1944| 0.019\n",
            "5L | 186| 0.002\n"
          ]
        }
      ],
      "source": [
        "Nmos = 100000 #number of mosquitos\n",
        "Nstages = 5\n",
        "\n",
        "# variables to track the output\n",
        "N0 = 0\n",
        "N1 = 0\n",
        "N2 = 0\n",
        "N3 = 0\n",
        "N4 = 0\n",
        "N5 = 0\n",
        "\n",
        "#loop\n",
        "for i in range(Nmos):\n",
        "  x = randomwalk1D(Nstages)\n",
        "  dist = np.abs(x)\n",
        "  if dist == 0:\n",
        "    N0 += 1\n",
        "  if dist == 1:\n",
        "    N1 += 1\n",
        "  if dist == 2:\n",
        "    N2 += 1\n",
        "  if dist == 3:\n",
        "    N3 += 1\n",
        "  if dist == 4:\n",
        "    N4 += 1\n",
        "  if dist == 5:\n",
        "    N5 += 1\n",
        "\n",
        "print(f\"0 | {N0} | {N0/Nmos:.3f}\")\n",
        "print(f\"L | {N1}| {N1/Nmos:.3f}\")\n",
        "print(f\"2L | {N2}| {N2/Nmos:.3f}\")\n",
        "print(f\"3L | {N3}| {N3/Nmos:.3f}\")\n",
        "print(f\"4L | {N4}| {N4/Nmos:.3f}\")\n",
        "print(f\"5L | {N5}| {N5/Nmos:.3f}\")"
      ]
    },
    {
      "cell_type": "markdown",
      "source": [
        "These probabilities agree with Ross to nearly three signifigant figures."
      ],
      "metadata": {
        "id": "hzF90ONn32Kt"
      }
    },
    {
      "cell_type": "code",
      "execution_count": null,
      "metadata": {
        "id": "bCmCs3qHxuQS"
      },
      "outputs": [],
      "source": []
    }
  ],
  "metadata": {
    "kernelspec": {
      "display_name": "Python 3",
      "language": "python",
      "name": "python3"
    },
    "language_info": {
      "codemirror_mode": {
        "name": "ipython",
        "version": 3
      },
      "file_extension": ".py",
      "mimetype": "text/x-python",
      "name": "python",
      "nbconvert_exporter": "python",
      "pygments_lexer": "ipython3",
      "version": "3.7.7"
    },
    "colab": {
      "provenance": []
    }
  },
  "nbformat": 4,
  "nbformat_minor": 0
}