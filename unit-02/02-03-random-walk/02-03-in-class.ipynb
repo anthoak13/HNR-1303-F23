{
  "nbformat": 4,
  "nbformat_minor": 0,
  "metadata": {
    "colab": {
      "provenance": [],
      "toc_visible": true,
      "authorship_tag": "ABX9TyORe1Y7Fu3j2bivTVFa5AfZ"
    },
    "kernelspec": {
      "name": "python3",
      "display_name": "Python 3"
    },
    "language_info": {
      "name": "python"
    }
  },
  "cells": [
    {
      "cell_type": "markdown",
      "source": [
        "# In Class Discussion"
      ],
      "metadata": {
        "id": "d66bGKCXfXTV"
      }
    },
    {
      "cell_type": "markdown",
      "source": [
        "## Administrative Updates\n",
        "\n",
        "- New document on Blackboard with resources on the various tools used in this course (Jupyter, markdown, latex, python, etc). I will try to keep this updated as more things arise. It's located in `Course Information/Tools`.\n",
        "- Added my solutions to `02-01-random` and `02-02-game` notebooks to Blackboard. There are links to these on the `Day 3-Probability and Random Numbers` and `Day 4-Monte Carlo Fundraiser` pages.\n",
        "- I am planning on reducing the amount of comments I place on your shared notebooks. I will probably check a few of the exercises that I think are most critical/cover the widest range of learning goals to provide some feedback, but the main mechanism will be through the provided notebook solutions.\n",
        "- Full Dome Fridays"
      ],
      "metadata": {
        "id": "kQmQYEkIl4sj"
      }
    },
    {
      "cell_type": "markdown",
      "source": [
        "---\n",
        "## Expectations around coding\n",
        "\n",
        "### What will not be expected\n",
        "- Write code fully from scratch. So I will never give you a problem (say modeling the probability of rolling a 7 with two weighted die) and ask you to write the code without additional support.\n",
        "- Pull from the ether Python/NumPy functions you haven't seen before (like I did in the in-class example using `np.arange()` to create the vertical divisions on the board).\n",
        "\n",
        "### What will be expected\n",
        "- Write in English detailed steps explaining **how** to solve a problem or create a model (see questions at the beginning of 02-02-game as an example).\n",
        "- Identify and use examples from previous notebooks as potential starting points.\n",
        "- Adapt/modify existing code to slightly change the scope of the model or what the model is studying (see Exercise 3 in 02-02-game as an example).\n",
        "- Identify critial parts of the code given to you:\n",
        "  - What part tracks information (successes, total number of events, etc.)\n",
        "  - What part is our randomization in the Monte Carlo and what are we randomizing?\n",
        "  - What part is checking the outcome of the randomization?\n",
        "  - What part is updating the variables that track the information we are intrested in?\n"
      ],
      "metadata": {
        "id": "SrIdvSlafaqR"
      }
    },
    {
      "cell_type": "markdown",
      "source": [
        "\n",
        "## Anatomy of a Monte Carlo simulation\n",
        "\n",
        "### In your groups: What are the main parts that make up all of the simulations we have seen so far?\n",
        "\n",
        "- Defining variables (or deciding what information is important)\n",
        "- Figure out what is randomized and how to randomize it\n",
        "- Initital planning pseudocode\n",
        "- Loop to run many trials\n",
        "- Assumptions (goes into defining variables and randomization)\n",
        "- How you report (plotting/printing results)\n",
        "\n",
        "### My anatomy of a Monte Carlo program\n",
        "\n",
        "- Define inputs to the model (in the form of variables)\n",
        "- Define the outputs of the model (in the form of variables)\n",
        "- How do run a single trial? (could be single random number for dice throw, or $(x,y)$ position for dart throw, or a random walk for a single mosquito). The single trial is usually where the randomization is.\n",
        "- Run many trials in a loop (enough that the Law of Large numbers takes hold so the results are interpretable)\n",
        "- For each trial, evaluate the results and save results in our outputs.\n",
        "- After running all trials calculate the output we are intrested in studying if needed (this might be percentage or the profit in some fundraiser)\n",
        "- Report (print results or graph)\n"
      ],
      "metadata": {
        "id": "1_XY2geZjUnh"
      }
    },
    {
      "cell_type": "markdown",
      "source": [
        "## Practice identifying parts of a monte carlo simulation.\n",
        "\n",
        "Copied below is my completed program template from last Wendsday's notebook (you can also open this on your own laptop so it's easier to see). Identify which lines correspond to the parts of a monte carlo simulation we discussed above:\n",
        "\n"
      ],
      "metadata": {
        "id": "MVrQ_uAEn0L8"
      }
    },
    {
      "cell_type": "code",
      "source": [
        "import random as rand #for random numbers\n",
        "import numpy as np\n",
        "\n",
        "P = 5 #price per dart\n",
        "Ntosses = 100 #number of darts thrown\n",
        "\n",
        "L = 45 #the length of one side of the dart board in cm\n",
        "Rpurple = 45/2\n",
        "Rblue = 27/2\n",
        "Rred = 9/2\n",
        "\n",
        "Ppurple = 1\n",
        "Pblue = 5\n",
        "Pred = 10\n",
        "\n",
        "Npurple = 0\n",
        "Nblue = 0\n",
        "Nred = 0\n",
        "\n",
        "xmodel = []\n",
        "ymodel = []\n",
        "\n",
        "for i in range(1,Ntosses+1):\n",
        "\n",
        "    x = rand.uniform(-L/2, L/2) #should be a random number\n",
        "    y = rand.uniform(-L/2, L/2) #should be a random number\n",
        "    xmodel.append(x)\n",
        "    ymodel.append(y)\n",
        "\n",
        "    ######\n",
        "    # See if the x,y coordinates of a dart is within each circle and count Npurple, Nblue, or Nred\n",
        "    d = np.sqrt(x**2+y**2)\n",
        "    if d < Rred:\n",
        "      Nred += 1\n",
        "    elif d < Rblue: # could also do: if d > Rred and d < Rblue\n",
        "      Nblue += 1\n",
        "    elif d < Rpurple: # could also do: if d > Rblue and d < Rpurple\n",
        "      Npurple += 1\n",
        "    ######\n",
        "\n",
        "gross = P*Ntosses\n",
        "loss = Ppurple*Npurple + Pblue*Nblue + Pred*Nred\n",
        "\n",
        "\n",
        "print(\"Percent in red = {:.2f}%\".format(Nred/Ntosses*100))\n",
        "print(\"Percent in blue = {:.2f}%\".format(Nblue/Ntosses*100))\n",
        "print(\"Percent in purple = {:.2f}%\".format(Npurple/Ntosses*100))\n",
        "print(\"Percent not in a circle = {:.2f}%\".format((Ntosses-Npurple-Nblue-Nred)/Ntosses*100))\n",
        "print(\"Gross = ${:.2f}\".format(gross))\n",
        "print(\"Loss = ${:.2f}\".format(loss))\n",
        "print(\"Profit = ${:.2f} = {:.2f}% of gross\".format(gross-loss, (gross-loss)/gross*100))"
      ],
      "metadata": {
        "id": "C37QDTKAolfa"
      },
      "execution_count": null,
      "outputs": []
    },
    {
      "cell_type": "markdown",
      "source": [
        "---\n",
        "## Random walks\n",
        "\n",
        "### Questions from Module 9.5?\n",
        "\n",
        "\n"
      ],
      "metadata": {
        "id": "PnyHqO8jlvrv"
      }
    },
    {
      "cell_type": "markdown",
      "source": [
        "Was the pseudocode understandable?\n",
        "\n",
        "<img src=\"https://github.com/anthoak13/HNR-1303-F23/blob/main/unit-02/02-03-random-walk/RandomWalk.jpg?raw=true\" width=\"500\">\n",
        "\n",
        "\n",
        "Can we translate the pseudocode into a python function?"
      ],
      "metadata": {
        "id": "27b636rptQoo"
      }
    },
    {
      "cell_type": "code",
      "source": [],
      "metadata": {
        "id": "ZfR_Ksb-pE7r"
      },
      "execution_count": null,
      "outputs": []
    }
  ]
}