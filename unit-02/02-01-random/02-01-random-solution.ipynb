{
  "cells": [
    {
      "cell_type": "code",
      "execution_count": 1,
      "metadata": {
        "id": "U8CJpd4sWnLs"
      },
      "outputs": [],
      "source": [
        "import random as rand #for random numbers\n",
        "import numpy as np\n",
        "import matplotlib.pyplot as plt"
      ]
    },
    {
      "cell_type": "markdown",
      "metadata": {
        "id": "8yC9uUarWnLu"
      },
      "source": [
        "# Random Numbers"
      ]
    },
    {
      "cell_type": "markdown",
      "metadata": {
        "id": "FlRKa3uCWnLv"
      },
      "source": [
        "This is the first notebook on Unit 02 - Monte Carlo simulations. This is Chapter 9 in *Introduction to Computational Science*.\n",
        "\n",
        "In this notebook, you will learn how to create a random number using a function. You will use a conditional statement to determine the roll of a di or flip of a coin using a random number. You will use your random number generator to calculate area."
      ]
    },
    {
      "cell_type": "markdown",
      "metadata": {
        "id": "Bn7HL4clWnLw"
      },
      "source": [
        "## Python's random number generator"
      ]
    },
    {
      "cell_type": "markdown",
      "metadata": {
        "id": "ypDmBSG2WnLx"
      },
      "source": [
        "You can [read more about the functions](https://docs.python.org/3.7/library/random.html) available in Python for generating a random number. These include:\n",
        "\n",
        "- `random.randint(a, b)`\n",
        "\n",
        "   Return a random integer $N$ such that $a <= N <= b$. Alias for `randrange(a, b+1)`.\n",
        "   \n",
        "- `random.random()`\n",
        "\n",
        "   Return the next random floating point number in the range $[0.0, 1.0)$.\n",
        "   \n",
        "- `random.uniform(a, b)`\n",
        "\n",
        "   Return a random floating point number $N$ such that:\n",
        "   \n",
        "   - $a <= N <= b$ for $a <= b$\n",
        "   - $b <= N <= a$ for $b < a$.\n",
        "\n",
        "   The end-point value b may or may not be included in the range depending on floating-point rounding in the equation `a + (b-a) * random()`.\n",
        "   \n",
        "If you import all of the package `random` with an alias, then you can use an alias to call the functions. For example, you can use:\n",
        "\n",
        "```\n",
        "import random as rand\n",
        "```"
      ]
    },
    {
      "cell_type": "markdown",
      "metadata": {
        "id": "V4Ns7R-nWnLy"
      },
      "source": [
        "## Random float between 0 and 1, including 0 but not 1\n",
        "\n",
        "To get a random number between 0 and 1 use `rand.random()`."
      ]
    },
    {
      "cell_type": "code",
      "execution_count": 2,
      "metadata": {
        "id": "JnzoZyaSWnLy",
        "outputId": "2b29ac8e-2dd6-4da6-ce39-1299cae4bde7",
        "colab": {
          "base_uri": "https://localhost:8080/"
        }
      },
      "outputs": [
        {
          "output_type": "stream",
          "name": "stdout",
          "text": [
            "0.611560349635473\n"
          ]
        }
      ],
      "source": [
        "x = rand.random()\n",
        "print(x)"
      ]
    },
    {
      "cell_type": "markdown",
      "metadata": {
        "id": "kBgVOsJPWnLz"
      },
      "source": [
        "Re-run the cell above or repeat these lines multiple times below to check that it returns different numbers."
      ]
    },
    {
      "cell_type": "code",
      "execution_count": 3,
      "metadata": {
        "id": "plKScETGWnL1",
        "outputId": "cbb28feb-1bc0-4555-98a6-f5fcdabf146a",
        "colab": {
          "base_uri": "https://localhost:8080/"
        }
      },
      "outputs": [
        {
          "output_type": "stream",
          "name": "stdout",
          "text": [
            "0.7375006869234725\n",
            "0.48144609434753505\n",
            "0.9999272644708732\n",
            "0.2025023354094544\n",
            "0.7840295236920699\n"
          ]
        }
      ],
      "source": [
        "x = rand.random()\n",
        "print(x)\n",
        "x = rand.random()\n",
        "print(x)\n",
        "x = rand.random()\n",
        "print(x)\n",
        "x = rand.random()\n",
        "print(x)\n",
        "x = rand.random()\n",
        "print(x)"
      ]
    },
    {
      "cell_type": "markdown",
      "metadata": {
        "id": "_ojr_J3qWnL5"
      },
      "source": [
        "## Random integer\n",
        "\n",
        "Here's a random integer between 1 and 100, including both 1 and 100."
      ]
    },
    {
      "cell_type": "code",
      "execution_count": 4,
      "metadata": {
        "id": "H0trrgivWnL6",
        "outputId": "4568c17d-e81e-4c99-f256-ffd1b9bfc983",
        "colab": {
          "base_uri": "https://localhost:8080/"
        }
      },
      "outputs": [
        {
          "output_type": "stream",
          "name": "stdout",
          "text": [
            "5\n"
          ]
        }
      ],
      "source": [
        "N = rand.randint(1,100)\n",
        "print(N)"
      ]
    },
    {
      "cell_type": "markdown",
      "metadata": {
        "id": "zaZQQbNtWnL7"
      },
      "source": [
        "Re-run the cell to see other outcomes."
      ]
    },
    {
      "cell_type": "markdown",
      "metadata": {
        "id": "RRJl-tSOWnL7"
      },
      "source": [
        "## Random float from a uniform distribution\n",
        "\n",
        "Here's a random float between 1 and 100."
      ]
    },
    {
      "cell_type": "code",
      "execution_count": 5,
      "metadata": {
        "id": "Lf5gFGpqWnL8",
        "outputId": "48149867-72ab-4ce3-c02b-079d4ccc6e42",
        "colab": {
          "base_uri": "https://localhost:8080/"
        }
      },
      "outputs": [
        {
          "output_type": "stream",
          "name": "stdout",
          "text": [
            "83.892617595539\n"
          ]
        }
      ],
      "source": [
        "a = rand.uniform(1, 100)\n",
        "print(a)"
      ]
    },
    {
      "cell_type": "markdown",
      "metadata": {
        "id": "ZYIH_s_HWnL8"
      },
      "source": [
        "# Loop\n",
        "\n",
        "A loop is a way of repeating code. For example, if you want to choose a random integer and print the random integer 5 times, you do not have to copy and paste the code. You can use a loop that runs 5 iterations.\n",
        "\n",
        "The loop below runs 5 times."
      ]
    },
    {
      "cell_type": "code",
      "execution_count": 6,
      "metadata": {
        "id": "XJtb8srZWnL9",
        "outputId": "6a6434d3-d3bd-49f6-de35-3cf0b990daba",
        "colab": {
          "base_uri": "https://localhost:8080/"
        }
      },
      "outputs": [
        {
          "output_type": "stream",
          "name": "stdout",
          "text": [
            "75\n",
            "27\n",
            "39\n",
            "50\n",
            "36\n",
            "The next line after the loop is not indented. All lines in the loop are indented.\n"
          ]
        }
      ],
      "source": [
        "for i in range(5):\n",
        "    N = rand.randint(1,100)\n",
        "    print(N)\n",
        "\n",
        "print(\"The next line after the loop is not indented. All lines in the loop are indented.\")"
      ]
    },
    {
      "cell_type": "markdown",
      "metadata": {
        "id": "xpJI27L0WnL9"
      },
      "source": [
        "The big advantage is that you can run it 100 times or 1000 times or 1 million times, although you definitely don't want to print out one million integers. Copy the code in the previous cell and paste it below in order to preserve (i.e. not change) the previous example, and edit the code to run the loop 100 times. *Do not include the last `print` statement since it's not needed.*"
      ]
    },
    {
      "cell_type": "code",
      "execution_count": 7,
      "metadata": {
        "id": "gBQRLyq7WnL9",
        "outputId": "e8e01abc-25af-44be-b487-17a204708943",
        "colab": {
          "base_uri": "https://localhost:8080/"
        }
      },
      "outputs": [
        {
          "output_type": "stream",
          "name": "stdout",
          "text": [
            "83\n",
            "83\n",
            "56\n",
            "72\n",
            "58\n",
            "60\n",
            "43\n",
            "7\n",
            "84\n",
            "90\n",
            "89\n",
            "82\n",
            "31\n",
            "73\n",
            "96\n",
            "6\n",
            "55\n",
            "93\n",
            "23\n",
            "24\n",
            "32\n",
            "67\n",
            "42\n",
            "58\n",
            "60\n",
            "14\n",
            "71\n",
            "17\n",
            "98\n",
            "95\n",
            "96\n",
            "83\n",
            "74\n",
            "1\n",
            "37\n",
            "92\n",
            "70\n",
            "42\n",
            "46\n",
            "97\n",
            "98\n",
            "70\n",
            "17\n",
            "82\n",
            "65\n",
            "39\n",
            "80\n",
            "78\n",
            "95\n",
            "67\n",
            "31\n",
            "23\n",
            "14\n",
            "73\n",
            "22\n",
            "90\n",
            "44\n",
            "3\n",
            "33\n",
            "17\n",
            "56\n",
            "59\n",
            "31\n",
            "9\n",
            "46\n",
            "30\n",
            "32\n",
            "40\n",
            "99\n",
            "43\n",
            "90\n",
            "48\n",
            "65\n",
            "65\n",
            "30\n",
            "2\n",
            "90\n",
            "92\n",
            "36\n",
            "46\n",
            "75\n",
            "25\n",
            "57\n",
            "43\n",
            "29\n",
            "55\n",
            "40\n",
            "15\n",
            "74\n",
            "76\n",
            "16\n",
            "24\n",
            "57\n",
            "99\n",
            "27\n",
            "59\n",
            "64\n",
            "21\n",
            "73\n",
            "64\n"
          ]
        }
      ],
      "source": [
        "for i in range(100):\n",
        "    N = rand.randint(1,100)\n",
        "    print(N)"
      ]
    },
    {
      "cell_type": "markdown",
      "metadata": {
        "id": "ylH4t5BdWnL9"
      },
      "source": [
        "## Exercise 1 - Model for Rolling a Di"
      ]
    },
    {
      "cell_type": "markdown",
      "metadata": {
        "id": "dX1A11L1WnL-"
      },
      "source": [
        "Write a loop that runs 20 times and selects a random integer between 1 and 6 and prints the integer.\n",
        "\n",
        "By just viewing the printed integers, what was the most common integer that came up? (Note: this is like rolling a di.)\n",
        "\n",
        "Run your program a second time. Is a different integer the most common?\n",
        "\n",
        "The first time the loop was run, the most common integer was 6. The second time the most common integer was 2."
      ]
    },
    {
      "cell_type": "code",
      "execution_count": 9,
      "metadata": {
        "nbgrader": {
          "grade": true,
          "grade_id": "cell-0e1ba11632da7c46",
          "locked": false,
          "points": 0,
          "schema_version": 3,
          "solution": true,
          "task": false
        },
        "id": "9sNI--G8WnL-",
        "outputId": "5b7b5879-a08f-44e4-9f04-b11e97568b5a",
        "colab": {
          "base_uri": "https://localhost:8080/"
        }
      },
      "outputs": [
        {
          "output_type": "stream",
          "name": "stdout",
          "text": [
            "2\n",
            "1\n",
            "2\n",
            "4\n",
            "2\n",
            "2\n",
            "3\n",
            "4\n",
            "2\n",
            "4\n",
            "6\n",
            "6\n",
            "1\n",
            "1\n",
            "2\n",
            "2\n",
            "3\n",
            "5\n",
            "5\n",
            "4\n"
          ]
        }
      ],
      "source": [
        "for i in range(20):\n",
        "    N = rand.randint(1,6)\n",
        "    print(N)"
      ]
    },
    {
      "cell_type": "markdown",
      "metadata": {
        "collapsed": true,
        "id": "gvy2Mf6tWnL-"
      },
      "source": [
        "## Conditional Statements"
      ]
    },
    {
      "cell_type": "markdown",
      "metadata": {
        "id": "MbcSElFpWnL-"
      },
      "source": [
        "A conditional statement defines code to execute if a condition is true and the code to execute of a condition is false. It has the format:\n",
        "\n",
        "```\n",
        "if (condition):\n",
        "    #code block to execute if condition is TRUE\n",
        "\n",
        "else:\n",
        "    #code block to execute if condition is FALSE\n",
        "```"
      ]
    },
    {
      "cell_type": "markdown",
      "metadata": {
        "id": "xKTyzeNFWnL-"
      },
      "source": [
        "Let's use a conditional statement to toss a coin $N$ times and count the number of times it is heads and the number of times it is tails. We will use a Python random number generator. If a random number is between 0 and 0.5, we will call it a \"heads.\" If a random number is between 0.5 and 1, we will call it \"tails.\"\n",
        "\n",
        "Run the program multiple times. Does the percentage of heads for 10 flips of a coin change?\n",
        "\n",
        "How many times do you have to rerun it before you get a combination of 2 and 8, twice?\n",
        "\n",
        "The percentage of heads changes as we re-run the code. The code had to be run 24 times before I saw a combination of 2 and 8 twice."
      ]
    },
    {
      "cell_type": "code",
      "execution_count": 33,
      "metadata": {
        "id": "5TZX4G4bWnL_",
        "outputId": "ccb082f5-84fd-4f69-cd97-1ac0f2c19b58",
        "colab": {
          "base_uri": "https://localhost:8080/"
        }
      },
      "outputs": [
        {
          "output_type": "stream",
          "name": "stdout",
          "text": [
            "Nheads = 2, percent = 20.0\n",
            "Ntails = 8, percent = 80.0\n"
          ]
        }
      ],
      "source": [
        "N = 10 # number of times we toss a coin\n",
        "\n",
        "Nheads = 0 # this is an integer that counts each head\n",
        "Ntails = 0 # this is an integer that counts each tail\n",
        "\n",
        "for i in range(1,N+1):\n",
        "    num = rand.random()\n",
        "    if num < 0.5:\n",
        "        Nheads = Nheads + 1\n",
        "    else:\n",
        "        Ntails = Ntails + 1\n",
        "\n",
        "Hpercent = Nheads/N*100\n",
        "Tpercent = Ntails/N*100\n",
        "print(\"Nheads = {:d}, percent = {:.1f}\".format(Nheads, Hpercent))\n",
        "print(\"Ntails = {:d}, percent = {:.1f}\".format(Ntails, Tpercent))\n"
      ]
    },
    {
      "cell_type": "markdown",
      "metadata": {
        "id": "A8X5bdKEWnL_"
      },
      "source": [
        "## Loop Counter\n",
        "\n",
        "In the program above, the variable `i` is a counter, and it increments over `range(1,N+1)`, starting at 1 and ending (but not including) `N+1`. So the first value of `i` in this case is 1 and the last value of `i` in this case is the value before `N+1`. Since `N=10`, and `N+1` is 11, the last value of `i` is 10. Therefore `i` will have integer values from 1 to 10.\n",
        "\n",
        "We can see this in the much simpler loop shown below."
      ]
    },
    {
      "cell_type": "code",
      "execution_count": 34,
      "metadata": {
        "id": "r9bHJxMjWnL_",
        "outputId": "be281c98-2d35-42b6-cfc6-54a8a8194d54",
        "colab": {
          "base_uri": "https://localhost:8080/"
        }
      },
      "outputs": [
        {
          "output_type": "stream",
          "name": "stdout",
          "text": [
            "Coin toss: i = 1, random number = 0.109\n",
            "Coin toss: i = 2, random number = 0.736\n",
            "Coin toss: i = 3, random number = 0.508\n",
            "Coin toss: i = 4, random number = 0.438\n",
            "Coin toss: i = 5, random number = 0.625\n",
            "Coin toss: i = 6, random number = 0.413\n",
            "Coin toss: i = 7, random number = 0.348\n",
            "Coin toss: i = 8, random number = 0.802\n",
            "Coin toss: i = 9, random number = 0.530\n",
            "Coin toss: i = 10, random number = 0.332\n"
          ]
        }
      ],
      "source": [
        "N = 10 # number of times we toss a coin\n",
        "\n",
        "for i in range(1,N+1):\n",
        "    num = rand.random()\n",
        "    print(\"Coin toss: i = {:d}, random number = {:.3f}\".format(i, num))"
      ]
    },
    {
      "cell_type": "markdown",
      "metadata": {
        "id": "HnvsHt_RWnMA"
      },
      "source": [
        "We will use the variable `i` to track how many times we do something like toss a coin, roll a di, or pick a card, etc."
      ]
    },
    {
      "cell_type": "code",
      "execution_count": null,
      "metadata": {
        "id": "15ZLLO3JWnMA"
      },
      "outputs": [],
      "source": []
    },
    {
      "cell_type": "markdown",
      "metadata": {
        "id": "Ei1bmOS0WnMA"
      },
      "source": [
        "# Plot\n",
        "\n",
        "We will often plot data (whether measured data or calculated data from our model) on a graph and use the graph to better understand our model.\n",
        "\n",
        "In this case, let's toss a coin and after each toss, calculate the percentage of heads and plot the percentage of heads as a function of number of coin tosses.\n",
        "\n",
        "To do this, we have to store our results (number of coin tosses and percentage of heads) after each toss in *lists*. After the loop, we can plot the lists of data. Run the cell below to plot the percentage of heads as a function of number of coin flips."
      ]
    },
    {
      "cell_type": "code",
      "execution_count": 35,
      "metadata": {
        "id": "SlnwFPZAWnMA",
        "outputId": "67ec184a-f0fc-4bfe-c31b-7b101997be71",
        "colab": {
          "base_uri": "https://localhost:8080/",
          "height": 599
        }
      },
      "outputs": [
        {
          "output_type": "display_data",
          "data": {
            "text/plain": [
              "<Figure size 800x600 with 1 Axes>"
            ],
            "image/png": "[encoded data removed]"
          },
          "metadata": {}
        },
        {
          "output_type": "stream",
          "name": "stdout",
          "text": [
            "Nheads = 3, percent = 30.0\n",
            "Ntails = 7, percent = 70.0\n"
          ]
        }
      ],
      "source": [
        "N = 10 # total number of times we toss a coin\n",
        "\n",
        "Nheads = 0 # this is an integer that counts each head\n",
        "Ntails = 0 # this is an integer that counts each tail\n",
        "\n",
        "# lists to store data\n",
        "Ndata = []\n",
        "Hdata = []\n",
        "\n",
        "for i in range(1,N+1): # i is the toss number\n",
        "    num = rand.random() # select random number between 0 and 1\n",
        "\n",
        "    # determine if heads or tails\n",
        "    if num < 0.5:\n",
        "        Nheads = Nheads + 1\n",
        "    else:\n",
        "        Ntails = Ntails + 1\n",
        "\n",
        "    # calculate percentage of heads and tails for ith toss\n",
        "    Hpercent = Nheads/i*100\n",
        "    Tpercent = Ntails/i*100\n",
        "\n",
        "    # store results in lists for graphing\n",
        "    Ndata.append(i)\n",
        "    Hdata.append(Hpercent)\n",
        "\n",
        "# plot the calculated data\n",
        "plt.figure(figsize=(8,6))\n",
        "plt.title('Percentage of Tosses that are Heads')\n",
        "plt.xlabel('N tosses')\n",
        "plt.ylabel('Percent Heads (%)')\n",
        "plt.grid(which='both', axis='both')\n",
        "plt.plot(Ndata,Hdata,'r-')\n",
        "plt.show()\n",
        "\n",
        "print(\"Nheads = {:d}, percent = {:.1f}\".format(Nheads, Hpercent))\n",
        "print(\"Ntails = {:d}, percent = {:.1f}\".format(Ntails, Tpercent))"
      ]
    },
    {
      "cell_type": "markdown",
      "metadata": {
        "id": "gAqYOAYgWnMB"
      },
      "source": [
        "## Exercise 2 - Law of Large Numbers"
      ]
    },
    {
      "cell_type": "markdown",
      "metadata": {
        "id": "RE-lMdl-WnMC"
      },
      "source": [
        "Copy and paste the previous program to the cell below.\n",
        "\n",
        "Run your program for 100 tosses. What percentage of heads did you get?\n",
        "\n",
        "Repeat your experiment (with 100 tosses). Does the percentage of heads change significantly?\n",
        "\n",
        "Running the program for 100 tosses, the percentage of heads was 50%. While repeating the experiemnt, we see the percentage of heads changing, but only by about 6%."
      ]
    },
    {
      "cell_type": "code",
      "execution_count": 49,
      "metadata": {
        "nbgrader": {
          "grade": true,
          "grade_id": "Ex_6",
          "locked": false,
          "points": 1,
          "schema_version": 3,
          "solution": true,
          "task": false
        },
        "id": "3GOCnZ36WnMC",
        "outputId": "8715d371-83d8-4eff-f601-2f8b49370464",
        "colab": {
          "base_uri": "https://localhost:8080/",
          "height": 599
        }
      },
      "outputs": [
        {
          "output_type": "display_data",
          "data": {
            "text/plain": [
              "<Figure size 800x600 with 1 Axes>"
            ],
            "image/png": "[encoded data removed]"
          },
          "metadata": {}
        },
        {
          "output_type": "stream",
          "name": "stdout",
          "text": [
            "Nheads = 45, percent = 45.0\n",
            "Ntails = 55, percent = 55.0\n"
          ]
        }
      ],
      "source": [
        "N = 100 # total number of times we toss a coin\n",
        "\n",
        "Nheads = 0 # this is an integer that counts each head\n",
        "Ntails = 0 # this is an integer that counts each tail\n",
        "\n",
        "# lists to store data\n",
        "Ndata = []\n",
        "Hdata = []\n",
        "\n",
        "for i in range(1,N+1): # i is the toss number\n",
        "    num = rand.random() # select random number between 0 and 1\n",
        "\n",
        "    # determine if heads or tails\n",
        "    if num < 0.5:\n",
        "        Nheads = Nheads + 1\n",
        "    else:\n",
        "        Ntails = Ntails + 1\n",
        "\n",
        "    # calculate percentage of heads and tails for ith toss\n",
        "    Hpercent = Nheads/i*100\n",
        "    Tpercent = Ntails/i*100\n",
        "\n",
        "    # store results in lists for graphing\n",
        "    Ndata.append(i)\n",
        "    Hdata.append(Hpercent)\n",
        "\n",
        "# plot the calculated data\n",
        "plt.figure(figsize=(8,6))\n",
        "plt.title('Percentage of Tosses that are Heads')\n",
        "plt.xlabel('N tosses')\n",
        "plt.ylabel('Percent Heads (%)')\n",
        "plt.grid(which='both', axis='both')\n",
        "plt.plot(Ndata,Hdata,'r-')\n",
        "plt.show()\n",
        "\n",
        "print(\"Nheads = {:d}, percent = {:.1f}\".format(Nheads, Hpercent))\n",
        "print(\"Ntails = {:d}, percent = {:.1f}\".format(Ntails, Tpercent))"
      ]
    },
    {
      "cell_type": "markdown",
      "metadata": {
        "id": "BO3j2uUJWnMC"
      },
      "source": [
        "Run your program for 10000 tosses. Discuss the long-term behavior of the plot. For large $N$, what is the expected percentage of heads? What about small $N$?\n",
        "\n",
        "As we run the model for larger $N$ the fluctuations begin smoothing out. For large $N$ the expected percentage of heads should get closer and closer to the true value of %50. At small $N$ we are dominated by random fluctuations and there is a large spread in the expected percentage of heads."
      ]
    },
    {
      "cell_type": "code",
      "execution_count": 59,
      "metadata": {
        "id": "LuqDxF_tWnMC",
        "outputId": "1a5b9185-14ec-4984-8950-ba47fcbdf8da",
        "colab": {
          "base_uri": "https://localhost:8080/",
          "height": 599
        }
      },
      "outputs": [
        {
          "output_type": "display_data",
          "data": {
            "text/plain": [
              "<Figure size 800x600 with 1 Axes>"
            ],
            "image/png": "[encoded data removed]"
          },
          "metadata": {}
        },
        {
          "output_type": "stream",
          "name": "stdout",
          "text": [
            "Nheads = 4960, percent = 49.6\n",
            "Ntails = 5040, percent = 50.4\n"
          ]
        }
      ],
      "source": [
        "N = 10000 # total number of times we toss a coin\n",
        "\n",
        "Nheads = 0 # this is an integer that counts each head\n",
        "Ntails = 0 # this is an integer that counts each tail\n",
        "\n",
        "# lists to store data\n",
        "Ndata = []\n",
        "Hdata = []\n",
        "\n",
        "for i in range(1,N+1): # i is the toss number\n",
        "    num = rand.random() # select random number between 0 and 1\n",
        "\n",
        "    # determine if heads or tails\n",
        "    if num < 0.5:\n",
        "        Nheads = Nheads + 1\n",
        "    else:\n",
        "        Ntails = Ntails + 1\n",
        "\n",
        "    # calculate percentage of heads and tails for ith toss\n",
        "    Hpercent = Nheads/i*100\n",
        "    Tpercent = Ntails/i*100\n",
        "\n",
        "    # store results in lists for graphing\n",
        "    Ndata.append(i)\n",
        "    Hdata.append(Hpercent)\n",
        "\n",
        "# plot the calculated data\n",
        "plt.figure(figsize=(8,6))\n",
        "plt.title('Percentage of Tosses that are Heads')\n",
        "plt.xlabel('N tosses')\n",
        "plt.ylabel('Percent Heads (%)')\n",
        "plt.grid(which='both', axis='both')\n",
        "plt.plot(Ndata,Hdata,'r-')\n",
        "plt.show()\n",
        "\n",
        "print(\"Nheads = {:d}, percent = {:.1f}\".format(Nheads, Hpercent))\n",
        "print(\"Ntails = {:d}, percent = {:.1f}\".format(Ntails, Tpercent))"
      ]
    },
    {
      "cell_type": "markdown",
      "metadata": {
        "id": "jpL-Ws0oWnMD"
      },
      "source": [
        "This is generally called the [Law of Large Numbers](https://en.wikipedia.org/wiki/Law_of_large_numbers). The Law of Large numbers is a theorem in statistics. It states that if you perform the same experiment multiple times, the average of the results will approach the expected value. The more experiments performed, the closer the average will be to the expected value. If it weren't for the Law of Large Numbers, Monte-Carlo simulations would not be a useful modeling tool."
      ]
    },
    {
      "cell_type": "markdown",
      "metadata": {
        "id": "mjrUdew2WnMD"
      },
      "source": [
        "## Exercise 3 - Calculating the probability of an event\n",
        "\n",
        "You've discovered a method for approximating the probability of an event -- repeat the trial N times and the probability of the event is the number of times that event occurs divided by the sample size (total number of trials).\n",
        "\n",
        "Suppose you have a six-sided di. Roll the di 10 times. Calculate and print the percentage of times the outcome is 3. Here is a partially written program to start with. You should add the following lines of code:\n",
        "\n",
        "1. calculate the percentage of events that occur and assign it to a variable.\n",
        "2. print the results, including the variables `N`, `Nevents`, and the percentage you calculated."
      ]
    },
    {
      "cell_type": "code",
      "execution_count": 60,
      "metadata": {
        "id": "yrO9w6f2WnMD",
        "outputId": "0c3ef39e-eaf5-49f0-d412-01498fd03197",
        "colab": {
          "base_uri": "https://localhost:8080/"
        }
      },
      "outputs": [
        {
          "output_type": "stream",
          "name": "stdout",
          "text": [
            "N: 10 Nevents: 5 Percent: 50.0\n"
          ]
        }
      ],
      "source": [
        "N = 10 # number of rolls; the sample size\n",
        "\n",
        "Nevents = 0 #number of times a certain event occurs\n",
        "\n",
        "for i in range(1,N+1):\n",
        "    num = rand.randint(1,6)\n",
        "    if num == 3:\n",
        "        Nevents = Nevents + 1\n",
        "\n",
        "percent = Nevents/N*100\n",
        "print(f\"N: {N} Nevents: {Nevents} Percent: {percent}\")"
      ]
    },
    {
      "cell_type": "code",
      "execution_count": null,
      "metadata": {
        "id": "6EqWjKDrWnME"
      },
      "outputs": [],
      "source": []
    },
    {
      "cell_type": "markdown",
      "metadata": {
        "id": "DJ-JwxzkWnME"
      },
      "source": [
        "Copy and paste your program below. Change whatever is needed to find the probability of rolling a 5 or 6. (Although you may know the probability ahead of time, show that your program gives you the result you expect.)"
      ]
    },
    {
      "cell_type": "code",
      "execution_count": 62,
      "metadata": {
        "id": "Ke3uual_WnME",
        "outputId": "2d9c907f-5988-4d37-d3e9-e8f07e7b73f0",
        "colab": {
          "base_uri": "https://localhost:8080/"
        }
      },
      "outputs": [
        {
          "output_type": "stream",
          "name": "stdout",
          "text": [
            "N: 10 Nevents: 2 Percent: 20.0\n"
          ]
        }
      ],
      "source": [
        "N = 10 # number of rolls; the sample size\n",
        "\n",
        "Nevents = 0 #number of times a certain event occurs\n",
        "\n",
        "for i in range(1,N+1):\n",
        "    num = rand.randint(1,6)\n",
        "    if num == 5 or num == 6:\n",
        "        Nevents = Nevents + 1\n",
        "\n",
        "percent = Nevents/N*100\n",
        "print(f\"N: {N} Nevents: {Nevents} Percent: {percent}\")"
      ]
    },
    {
      "cell_type": "markdown",
      "metadata": {
        "id": "WFlNFzxwWnMF"
      },
      "source": [
        "Starting with your program in the previous question, plot the percentage of rolls that gives a 6 as a function of the number of rolls. You will need to add the following:\n",
        "\n",
        "- Lists to store the number of rolls and percentage of sixes. For example,\n",
        "  ```\n",
        "  # lists to store data\n",
        "  Ndata = [] #data for number of rolls\n",
        "  Edata = [] #data for number of events\n",
        "  ```\n",
        "\n",
        "- Calculate the percent of events (rolling a 6) inside the loop and store the roll number and percentage of events in the lists. **This must be inside the loop.** For example,\n",
        "\n",
        "  ```\n",
        "      # store results in lists for graphing\n",
        "      Ndata.append(i)\n",
        "      Edata.append(Epercent)\n",
        "  ```\n",
        "  but use your variable name for the percentage of events.\n",
        "\n",
        "- A graph. Copy and paste from a previous program and change the title, axis labels, and data plotted. In the `plot` statement, you will need to use the variable names for your lists. For example,\n",
        "\n",
        "  ```\n",
        "  plt.plot(Ndata,Edata,'r-')\n",
        "  ```"
      ]
    },
    {
      "cell_type": "code",
      "execution_count": 64,
      "metadata": {
        "id": "Fw25dTzrWnMF",
        "outputId": "0a533c21-44f2-4838-a06c-63f28ec9578f",
        "colab": {
          "base_uri": "https://localhost:8080/",
          "height": 581
        }
      },
      "outputs": [
        {
          "output_type": "display_data",
          "data": {
            "text/plain": [
              "<Figure size 800x600 with 1 Axes>"
            ],
            "image/png": "[encoded data removed]"
          },
          "metadata": {}
        },
        {
          "output_type": "stream",
          "name": "stdout",
          "text": [
            "N: 10 Nevents: 4 Percent: 40.0\n"
          ]
        }
      ],
      "source": [
        "N = 10 # number of rolls; the sample size\n",
        "\n",
        "Nevents = 0 #number of times a certain event occurs\n",
        "\n",
        "Ndata = [] #data for number of rolls\n",
        "Edata = [] #data for number of events\n",
        "\n",
        "for i in range(1,N+1):\n",
        "    num = rand.randint(1,6)\n",
        "    if num == 5 or num == 6:\n",
        "        Nevents = Nevents + 1\n",
        "\n",
        "    Epercent = Nevents/i*100\n",
        "    # store results in lists for graphing\n",
        "    Ndata.append(i)\n",
        "    Edata.append(Epercent)\n",
        "\n",
        "plt.figure(figsize=(8,6))\n",
        "plt.title('Percentage of rolls that are 5 or 6')\n",
        "plt.xlabel('N rolls')\n",
        "plt.ylabel('Percent 5 or 6 (%)')\n",
        "plt.grid(which='both', axis='both')\n",
        "plt.plot(Ndata,Edata,'r-')\n",
        "plt.show()\n",
        "\n",
        "percent = Nevents/N*100\n",
        "print(f\"N: {N} Nevents: {Nevents} Percent: {percent}\")"
      ]
    },
    {
      "cell_type": "markdown",
      "metadata": {
        "id": "yBjq2-4dWnMF"
      },
      "source": [
        "## Exercise 4\n",
        "\n",
        "Suppose you roll a pair of six-sided dice. What is the probability of getting a sum of 7?\n",
        "\n",
        "Here is a sample program. Note that there are two random numbers, one for each di. For large `N`, you should not print values of the individual rolls of the dice."
      ]
    },
    {
      "cell_type": "code",
      "execution_count": null,
      "metadata": {
        "id": "NO2-zZSUWnMG"
      },
      "outputs": [],
      "source": [
        "N = 10 # number of rolls; the sample size\n",
        "\n",
        "Nevents = 0 #number of times a certain event occurs\n",
        "\n",
        "for i in range(1,N+1):\n",
        "    num1 = rand.randint(1,6) #di 1\n",
        "    num2 = rand.randint(1,6) #di 2\n",
        "    total = num1 + num2\n",
        "    print(\"Di 1 = {:d}; Di 2 = {:d}; total = {:d}\".format(num1,num2,total))\n",
        "    if total == 7:\n",
        "        Nevents = Nevents + 1"
      ]
    },
    {
      "cell_type": "markdown",
      "metadata": {
        "id": "laOxZTOWWnMH"
      },
      "source": [
        "What is the probability of rolling doubles? Copy your program from above and modify it to answer this new question.\n",
        "\n",
        "The percentage of rolling doubles is approximatly 16.6%.\n"
      ]
    },
    {
      "cell_type": "code",
      "execution_count": 67,
      "metadata": {
        "id": "7jwys9kzWnMH",
        "outputId": "6506439d-29e2-4399-f730-5a06322614dd",
        "colab": {
          "base_uri": "https://localhost:8080/",
          "height": 581
        }
      },
      "outputs": [
        {
          "output_type": "display_data",
          "data": {
            "text/plain": [
              "<Figure size 800x600 with 1 Axes>"
            ],
            "image/png": "[encoded data removed]"
          },
          "metadata": {}
        },
        {
          "output_type": "stream",
          "name": "stdout",
          "text": [
            "N: 10000 Nevents: 1664 Percent: 16.64\n"
          ]
        }
      ],
      "source": [
        "N = 10000 # number of rolls; the sample size\n",
        "\n",
        "Nevents = 0 #number of times a certain event occurs\n",
        "\n",
        "Ndata = [] #data for number of rolls\n",
        "Edata = [] #data for number of events\n",
        "\n",
        "for i in range(1,N+1):\n",
        "    num1 = rand.randint(1,6)\n",
        "    num2 = rand.randint(1,6)\n",
        "    if num1 == num2:\n",
        "        Nevents = Nevents + 1\n",
        "\n",
        "    Epercent = Nevents/i*100\n",
        "    # store results in lists for graphing\n",
        "    Ndata.append(i)\n",
        "    Edata.append(Epercent)\n",
        "\n",
        "plt.figure(figsize=(8,6))\n",
        "plt.title('Percentage of rolls that are doubles')\n",
        "plt.xlabel('N rolls')\n",
        "plt.ylabel('Percent doubles (%)')\n",
        "plt.grid(which='both', axis='both')\n",
        "plt.plot(Ndata,Edata,'r-')\n",
        "plt.show()\n",
        "\n",
        "percent = Nevents/N*100\n",
        "print(f\"N: {N} Nevents: {Nevents} Percent: {percent}\")"
      ]
    }
  ],
  "metadata": {
    "celltoolbar": "Create Assignment",
    "kernelspec": {
      "display_name": "Python 3",
      "language": "python",
      "name": "python3"
    },
    "language_info": {
      "codemirror_mode": {
        "name": "ipython",
        "version": 3
      },
      "file_extension": ".py",
      "mimetype": "text/x-python",
      "name": "python",
      "nbconvert_exporter": "python",
      "pygments_lexer": "ipython3",
      "version": "3.8.3"
    },
    "colab": {
      "provenance": []
    }
  },
  "nbformat": 4,
  "nbformat_minor": 0
}