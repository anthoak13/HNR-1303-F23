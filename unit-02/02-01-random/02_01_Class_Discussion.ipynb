{
  "nbformat": 4,
  "nbformat_minor": 0,
  "metadata": {
    "colab": {
      "provenance": [],
      "authorship_tag": "ABX9TyPas61h3YZU+zbnHJnLK4UI"
    },
    "kernelspec": {
      "name": "python3",
      "display_name": "Python 3"
    },
    "language_info": {
      "name": "python"
    }
  },
  "cells": [
    {
      "cell_type": "code",
      "execution_count": null,
      "metadata": {
        "id": "jwmLAykJ0C0Z"
      },
      "outputs": [],
      "source": []
    },
    {
      "cell_type": "markdown",
      "source": [
        "# In-class Discussion\n",
        "\n",
        "## Questions on Reading\n",
        "\n",
        "\n",
        "## Benefits and Drawbacks of Monte Carlo Simulations\n",
        "\n",
        "### Benefits\n",
        "\n",
        "*   Can test multiple variables\n",
        "*   Test future situations, senarios that you can't produce in real world\n",
        "*   Test experiments that are too dangerous for real world\n",
        "*   Cheap to tweak and rerun\n",
        "*   Can be faster\n",
        "*   Often can write down equations for few particles/actors but cannot descibe a large system\n",
        "\n",
        "\n",
        "\n",
        "### Drawbacks\n",
        "\n",
        "*   Not always realistic (not best for every model)\n",
        "*   Can't account for confounding variables\n",
        "*   Bias in radom number generator\n",
        "*   Differnet result in each run (randomness)\n",
        "*   Hard to verify and interpret\n",
        "*   Hard to understand simulation\n",
        "*   Always have simplifing assumptions\n",
        "\n",
        "\n",
        "# Where I think the textbook is wrong\n",
        "\n",
        "* 2nd drawback is a statement about all models\n",
        "* 4th drawback: if you don't know what your simulations is doing, you're doing something wrong.\n",
        "* Self documenting code: Use standards for language (ignore all caps recomendation in textbook). Hard limts on lines of code are Bad. Functions should do *a* thing. Code should emphasize readability not random rules from on high."
      ],
      "metadata": {
        "id": "tlUm2jTr0Hku"
      }
    },
    {
      "cell_type": "code",
      "source": [],
      "metadata": {
        "id": "02ya63DKPAUy"
      },
      "execution_count": null,
      "outputs": []
    }
  ]
}