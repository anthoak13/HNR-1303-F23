{
 "cells": [
  {
   "cell_type": "markdown",
   "metadata": {},
   "source": [
    "# Unit 2 Assessment - Monte Carlo Simulations\n",
    "\n",
    "## Group Part\n",
    "\n",
    "## Instructions\n",
    "\n",
    "For this assignment, you will work in the following groups.\n",
    "\n",
    "Group Number | Names\n",
    "--- | ---\n",
    "1 | Elijah and Angelica\n",
    "2 | Clara and Lily Grace\n",
    "3 | Emma and Ava P.\n",
    "4 | Bethany and Eliana\n",
    "5 | Caroline, Julianna, and Ben\n",
    "6 | Marianna and Luke\n",
    "7 | Sara and Ava C.\n",
    "8 | Luke and Chloe\n",
    "\n",
    "\n",
    "## Working Together\n",
    "\n",
    "- You should both be present when working on this notebook. Nobody should work on it alone. This is a group effort.\n",
    "- One person will save the notebook in their Google Colab and will share the notebook with the other person's gmail account so that both individuals will have access to (and can edit) the same notebook. *After it is completely finished*, the other person should save a copy of the notebook to their Google Drive. Notebooks don't work the same as Google Docs, so if you are both trying to edit a notebook at the same time you will have to manually merge the changes. It is easier to work with a single laptop is being used to edit the Notebook.\n",
    "- Dr. Anthony will choose one group member's folder when viewing the file.\n",
    "- The quality of your writing is a big part of your grade on this notebook. One sentence answers are not sufficient. Your responses should be detailed, logical, and followable. I would strongly recommend coming back to edit your answers a day or so after initially answering the questions.\n",
    "\n",
    "## Allowed resources \n",
    "\n",
    "You may use your Colab notebooks, our textbook, Dr. Anthony's notebook solutions, and any links to web sites Dr. Anthony provides. Basically, if it is linked on Blackboard you can use it. (You may not use any other person (other than your partner(s)) or web site or book or resource (including any ChatGPT-like resource), in general.) If you have a question about what resources are allowed, ask Dr. Anthony."
   ]
  },
  {
   "cell_type": "markdown",
   "metadata": {},
   "source": [
    "# Exercise 0\n",
    "\n",
    "Write your names at the top of the notebook as a Level 1 Heading in markdown."
   ]
  },
  {
   "cell_type": "markdown",
   "metadata": {},
   "source": [
    "# The Problem\n",
    "\n",
    "### What is the best strategy in the Monte Hall Problem?\n",
    "\n",
    "The [Monte Hall Problem](https://en.wikipedia.org/wiki/Monty_Hall_problem) is a brainteaser/probability puzzle we will analyze with a Monte Carlo model. It is loosely based on the American game show *Let's Make a Deal*.  In this problem, a contestant is presented with three doors. Behind one of the doors is a valuable prize, while behind the other two doors are goats. The contestant selects one door, and then the host, Monty Hall, who knows what is behind each door, opens another door revealing a goat. The contestant is then given the option to switch their choice to the remaining unopened door or stick with the door they originally selected.\n",
    "\n",
    "Parker (your tutor) is participating in the game show and has asked you to determine what the optimal strategy is. When given the choice, should he select the other door, or stick with his original selection?\n",
    "\n"
   ]
  },
  {
   "cell_type": "markdown",
   "metadata": {},
   "source": [
    "## Exercise 1\n",
    "\n",
    "Your first task is to come up with a plan for how to model the game. Write a plan for how you would play a single round of the game. You should make sure to discuss the following in your plan:\n",
    "1. How will you initially set up the game (How will you select which door has the prize behind it?)\n",
    "1. How will your player (Parker) make his initial selection of a door?\n",
    "1. How will you select which door the host, Monty Hall, will open? (Remember Monte Hall will *always* open a door that has a goat behind it and will *never* open the door that Parker has selected).\n",
    "1. How will you determine if Parker wins?\n",
    "\n",
    "Your answer to this question should be narrative (i.e., just words and in paragraph form. No bullet points or sentence fragments). Add a markdown (text) cell below with your plan.\n",
    "\n"
   ]
  },
  {
   "cell_type": "markdown",
   "metadata": {},
   "source": [
    "## Exercise 2\n",
    "\n",
    "You now need to implement your plan. The code cell below contains a skeleton function for running the game once where Parker chooses to switch to the other door after Monty Hall reveals a goat. To this skeleton, add code that follows the plan you developed in the previous exercise. For testing, I have added print statements that print the door that contains the prize, the door that Parker selects initially, the door the host opens, and the door Parker ultimately selects. Each time you change this function, you will need to re-run the code cell to redefine it.\n",
    "\n"
   ]
  },
  {
   "cell_type": "code",
   "execution_count": null,
   "metadata": {},
   "outputs": [],
   "source": [
    "import random as rand\n",
    "\n",
    "# This function will run an entire game where Parker does not switch the door he selects after the host reveals a door.set\n",
    "# The function will return True if Parker won and False if Parker lost.\n",
    "def game():\n",
    "\n",
    "    ## Setup the game\n",
    "\n",
    "    # Select which door has the prize (you need to change this line)\n",
    "    prizeDoor = 1\n",
    "    print(f\"The prize is behind door {prizeDoor}.\")\n",
    "\n",
    "    # Parker needs to select one of the three doors\n",
    "    parkerDoor = 1\n",
    "    print(f\"Parker initially selected door {parkerDoor}.\")\n",
    "\n",
    "    ## Now run the game\n",
    "\n",
    "    # Monty Hall now needs to select a door to open\n",
    "    hostDoorOpened = 1\n",
    "    print(f\"Monte Hall opened door {hostDoorOpened}\")\n",
    "\n",
    "    # Parker switches the door he has selected to the other unopened door.\n",
    "    parkerDoor = 1\n",
    "    print(f\"After swithching parker selected door {parkerDoor}\")\n",
    "\n",
    "    # Determine if parker won and return true if he won, return false if he lost.\n",
    "    parkerWon = True\n",
    "    if parkerWon:\n",
    "        return True\n",
    "    else:\n",
    "        return False\n",
    "    \n"
   ]
  },
  {
   "cell_type": "markdown",
   "metadata": {},
   "source": [
    "Run the code in the cell below. Once your game is fully coded, you should see Parker win sometimes and lose other times. Make sure the things that should be randomly selected are being randomly selected and Monty Hall is following his rules about which door he will open.\n",
    "\n"
   ]
  },
  {
   "cell_type": "code",
   "execution_count": null,
   "metadata": {},
   "outputs": [],
   "source": [
    "won = game()\n",
    "if won:\n",
    "    print(\"Parker won\")\n",
    "else:\n",
    "    print(\"Parker lost\")"
   ]
  },
  {
   "cell_type": "markdown",
   "metadata": {},
   "source": [
    "Now that your game is working, comment out the print statements in the `game()` function. Re-run that code cell to redefine the `game()` function without the print statements. "
   ]
  },
  {
   "cell_type": "markdown",
   "metadata": {},
   "source": [
    "## Exercise 3\n",
    "\n",
    "Now that we have a functioning game, we need to determine the answer to our question. How will determine what the probability is that Parker wins the game while switching doors? Write a plan for how we will build a Monte Carlo simulation using our `game()` function. Your answer to this question should be narrative (i.e., just words and in paragraph form. No bullet points or sentence fragments). Add a markdown (text) cell below with your plan.\n",
    "\n",
    "\n"
   ]
  },
  {
   "cell_type": "markdown",
   "metadata": {},
   "source": [
    "## Exercise 4\n",
    "\n",
    "Now we will write code to answer our question. Your program will have the following general structure:\n",
    "\n",
    "1. Define variables such as the number of trials (or experiments) you will run and the number of events you are counting.\n",
    "2. Define a loop.\n",
    "3. Conduct one trial (i.e., game) of the model.\n",
    "3. Use a condition in your loop to check for the occurrence of an event (did Parker win?) and count when this event occurs.\n",
    "4. Calculate and print the percentage of times the event occurred.\n",
    "\n",
    "Make heavy use of your plan, as well as the previous examples we have done in class to get the syntax for this program. Notice the general structure outlined here is just the anatomy of a monte carlo we have been working with this whole unit. It may be helpful to lay out your plan in comments `# a comment is any line that starts with a \"#\"` in the code cell below. Then work on constructing the individual pieces of code to accomplish what you have laid out in comments.\n",
    "\n"
   ]
  },
  {
   "cell_type": "code",
   "execution_count": null,
   "metadata": {},
   "outputs": [],
   "source": []
  },
  {
   "cell_type": "markdown",
   "metadata": {},
   "source": [
    "## Exercise 5\n",
    "\n",
    "After the previous exercise, we now know what the probability is that Parker wins while always switching doors. To determine the optimal strategy, we need to determine the probability that Parker will win when he keeps his original door selection.\n",
    "\n",
    "Copy your `game()` function from Exercise 2 into the code cell below, using the new function name `game_noswitch()`. Then make the required modifications so Parker does not switch his door selection.\n",
    "\n"
   ]
  },
  {
   "cell_type": "code",
   "execution_count": null,
   "metadata": {},
   "outputs": [],
   "source": [
    "def game_noswitch():\n",
    "    # Copy code from previous exercise"
   ]
  },
  {
   "cell_type": "markdown",
   "metadata": {},
   "source": [
    "Copy your code from Exercise 4 into the code cell below. Make the required modifications to determine and print the probability Parker wins using our new version of the game code `game_noswitch()`."
   ]
  },
  {
   "cell_type": "code",
   "execution_count": null,
   "metadata": {},
   "outputs": [],
   "source": []
  },
  {
   "cell_type": "markdown",
   "metadata": {},
   "source": [
    "## Exercise 6\n",
    "\n",
    "Report on your model. What is the optimal strategy? Should parker switch his selection or not? How certain are you of your answer? This should be a paragraph that summarizes the problem, the model you developed, and the results."
   ]
  },
  {
   "cell_type": "markdown",
   "metadata": {},
   "source": [
    "## Exercise 7\n",
    "\n",
    "Comment on the strengths of the members of your group. What strengths did each person bring to the team?"
   ]
  },
  {
   "cell_type": "code",
   "execution_count": null,
   "metadata": {},
   "outputs": [],
   "source": []
  }
 ],
 "metadata": {
  "kernelspec": {
   "display_name": "Python 3",
   "language": "python",
   "name": "python3"
  },
  "language_info": {
   "codemirror_mode": {
    "name": "ipython",
    "version": 3
   },
   "file_extension": ".py",
   "mimetype": "text/x-python",
   "name": "python",
   "nbconvert_exporter": "python",
   "pygments_lexer": "ipython3",
   "version": "3.10.6"
  }
 },
 "nbformat": 4,
 "nbformat_minor": 4
}
