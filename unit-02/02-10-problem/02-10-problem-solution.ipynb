{
 "cells": [
  {
   "cell_type": "markdown",
   "metadata": {},
   "source": [
    "# Unit 2 Assessment - Monte Carlo Simulations\n",
    "\n",
    "## Instructions\n",
    "\n",
    "In this assessment, you are going to investigate models that use random numbers. \n",
    "\n",
    "Scores are determined by:\n",
    "\n",
    "- Successfully starting the C Level = 50 pts\n",
    "- Perfectly completing the C Level = 75 pts\n",
    "- Perfectly completing the B and C Levels = 85 pts\n",
    "- Perfectly completing the A, B, and C Levels = 100 pts\n",
    "\n",
    "You may use your Colab notebooks, our textbook, my notebook solutions, and any links to web sites I provide. Basically, if it is linked on Blackboard you can use it. (You may not use any other person or web site or book or resource (including any ChatGPT-like resource), in general.) \n",
    "\n",
    "You may ask me for help **once**; however, you may ask for clarification as often as needed.\n",
    "\n",
    "Add additional cells for both code and markdown as needed. **Write answers to questions in narrative form in markdown.** You may print values you need in your code, and then use these values in a written response.\n",
    "\n",
    "All graphs should have correct titles and axis labels (with units).\n",
    "\n",
    "## Grade\n",
    "\n",
    "<font color=\"green\"></font>\n",
    "\n",
    "Level | Grade | Comment\n",
    "--- | --- | ---\n",
    "C (75 pts) | | \n",
    "B (10 pts) | | \n",
    "A (15 pts) | | \n",
    "Total | \n"
   ]
  },
  {
   "cell_type": "markdown",
   "metadata": {},
   "source": [
    "# Level C\n",
    "\n",
    "## Exercise 0\n",
    "\n",
    "1. Save a copy of this notebook to Google Drive. Have you already shared your Google Colabortory folder with \"hpuphysicsdepartment@gmail.com\"? If not, then be sure to share your folder.\n",
    "\n",
    "2. Add a text cell above and type your name as a level one heading in markdown. (A level one heading starts with # on its own line.)\n",
    "\n",
    "3. Run the `import` statements below to add packages."
   ]
  },
  {
   "cell_type": "code",
   "execution_count": 1,
   "metadata": {},
   "outputs": [],
   "source": [
    "import numpy as np\n",
    "import matplotlib.pyplot as plt\n",
    "from matplotlib import colors\n",
    "from matplotlib.ticker import MaxNLocator\n",
    "import random as rand"
   ]
  },
  {
   "cell_type": "markdown",
   "metadata": {},
   "source": [
    "## Exercise 1\n",
    "\n",
    "Dice are commonly refered to just by the letter \"d\" followed by the number of sides they have. A six sided dice is a \"d6\" and a twelve sided dice is a \"d12\". **In the cell below write the code to simulate the roll of a d6 and print the result.**"
   ]
  },
  {
   "cell_type": "code",
   "execution_count": 2,
   "metadata": {},
   "outputs": [
    {
     "name": "stdout",
     "output_type": "stream",
     "text": [
      "We rolled a  2\n"
     ]
    }
   ],
   "source": [
    "roll = rand.randint(1,6)\n",
    "print(\"We rolled a \", roll)"
   ]
  },
  {
   "cell_type": "markdown",
   "metadata": {},
   "source": [
    "## Exercise 2\n",
    "\n",
    "In many tabletop roleplaying games, one of the most common dice used is a d20. Copy your solution to Exercise 1 into the code cell below and modify it to **simulate the roll of a d20 and print the result.**"
   ]
  },
  {
   "cell_type": "code",
   "execution_count": 3,
   "metadata": {},
   "outputs": [
    {
     "name": "stdout",
     "output_type": "stream",
     "text": [
      "We rolled a  5\n"
     ]
    }
   ],
   "source": [
    "roll = rand.randint(1,20)\n",
    "print(\"We rolled a \", roll)"
   ]
  },
  {
   "cell_type": "markdown",
   "metadata": {},
   "source": [
    "## Exercise 3\n",
    "\n",
    "Often times in tabletop roll playing games, multiple dice are rolled together and something happens based on the sum. The number of dice to roll and add together is indicated by a number before \"d\". So rolling two d20 would be written 2d20. **In the cell below write the code to simulate the roll of 2d6 and print their sum.**\n"
   ]
  },
  {
   "cell_type": "code",
   "execution_count": 7,
   "metadata": {},
   "outputs": [
    {
     "name": "stdout",
     "output_type": "stream",
     "text": [
      "We rolled a  15\n"
     ]
    }
   ],
   "source": [
    "rollA = rand.randint(1,6)\n",
    "rollB = rand.randint(1,6)\n",
    "print(\"We rolled a \", rollA + rollB)"
   ]
  },
  {
   "cell_type": "markdown",
   "metadata": {},
   "source": [
    "## Exercise 4\n",
    "\n",
    "Suppose you have a coin that is not fair. Rather than having a 50% chance to come up as \"heads\" when flipped, it comes up \"heads\" 60% of the time. Modify the program below to adjust the probability of heads coming up to 60%. "
   ]
  },
  {
   "cell_type": "code",
   "execution_count": 9,
   "metadata": {},
   "outputs": [
    {
     "name": "stdout",
     "output_type": "stream",
     "text": [
      "Heads!\n"
     ]
    }
   ],
   "source": [
    "coin_flip = rand.random()\n",
    "if coin_flip < 0.6:\n",
    "    print(\"Heads!\")\n",
    "else: \n",
    "    print(\"Tails!\")"
   ]
  },
  {
   "cell_type": "markdown",
   "metadata": {},
   "source": [
    "## Exercise 5\n",
    "\n",
    "We have seen a few ways to estimate the irrational number $\\pi$ using a Monte Carlo simulation. $\\pi$ is not the only important irrational number that crops up all over the place in statistics and mathmatics. The other big player is [$e$](https://en.wikipedia.org/wiki/E_(mathematical_constant)). It is sometimes called the natural number (it's the base of the natural logarithm $\\ln$) or Euler's number and has a value of approximatly $2.718$. You've seen $e$ before in the definition of a Gaussian distribution. \n",
    "\n",
    "Like $\\pi$ we can estimate its value using a Monte Carlo simulation. Unfortunatly, unlike most ways of estimating $\\pi$ there is not an good geometric interpretation of this method. Instead, we will exploit the fact that if we generate a series of random numbers, all between $[0, 1)$, you need to  add (on average) $e$ random numbers before  the sum exceeds 1. \n",
    "\n",
    "Here are the steps we will take to estimate $e$:\n",
    "\n",
    "1. Generate random numbers between $[0,1)$ and add them together until the sum is larger than 1.\n",
    "1. Save the number of random numbers we needed to add together. \n",
    "1. If we repeat this process (or trial) many times, the average of the number of random numbers we needed to add together is our estimate for $e$.\n",
    "\n",
    "I have written the model to do this below."
   ]
  },
  {
   "cell_type": "code",
   "execution_count": 37,
   "metadata": {},
   "outputs": [
    {
     "name": "stdout",
     "output_type": "stream",
     "text": [
      "Our estimate for e is: 2.71583\n"
     ]
    }
   ],
   "source": [
    "N = 100000 # Number of trials to perform\n",
    "\n",
    "Ntot = 0 # Sum of the number of random numbers we needed to add together to reach 1. \n",
    "\n",
    "for i in range(N):\n",
    "    sum = 0\n",
    "    num_added = 0\n",
    "    while sum < 1:\n",
    "        sum = sum + rand.random()\n",
    "        num_added = num_added + 1\n",
    "    # Our sum has now exceeded 1, so save the total number of random numbers we added\n",
    "    Ntot += num_added\n",
    "\n",
    "avg_added = Ntot/N\n",
    "print(f\"Our estimate for e is: {avg_added}\")"
   ]
  },
  {
   "cell_type": "markdown",
   "metadata": {},
   "source": [
    "**What change would you need to make to the model to increase the accuracy of your estimation?** Make whatever modifications are necessary to the model to increase the accuracy of your estimation for $e$ and then **compare your new estimate to the more accurate estimation** of $e = 2.71828183$"
   ]
  },
  {
   "cell_type": "markdown",
   "metadata": {},
   "source": [
    "To increase the accuracy of the estimation, we need to increase the number of trials. If we increase the number of trials to $100,000$ our new estimate is $e \\approx 2.71583$ which is accurate to 2-3 decimal places."
   ]
  },
  {
   "cell_type": "markdown",
   "metadata": {},
   "source": [
    "---\n",
    "# Level B"
   ]
  },
  {
   "cell_type": "markdown",
   "metadata": {},
   "source": [
    "\n",
    "\n",
    "A club on HPU's campus has decided to run a fundraiser and they need to earn $2000 to launch a new innitiative on campus. It's already been decided that the fundraiser is going to be based on the old [Pinko](https://priceisright.fandom.com/wiki/Plinko) game from The Price Is Right. Your job is to model the game and predict the expected earnings of the fundraiser. This game is a version of a Galton Board. A video of one of these boards in actions, along with a brief description of the model we are developing here, can be found in the introduction to [Grant Sanderson's video on the Central Limit Theorem](https://www.youtube.com/watch?v=zeJD6dqJ5lo&t=113s). A shorter video of just the board can be found [here](https://youtu.be/EvHiee7gs9Y?t=9).\n",
    "\n",
    "In the fundraiser, people will buy balls to drop down the Galton board. They will win an amount of money that depends on where the ball lands at the base of the board. The base of the board is broken up into four colored section: purple, red, green, and blue. Each section pays out a different amount of money.\n",
    "\n",
    "As the ball falls, it bounces off pegs in the board. We will assume that after hitting a peg, the ball will either bounce one unit of distance to the right or one unit of distance to the left. The board is constructed so the falling ball hits 10 pegs before reaching the base of the board.\n",
    "\n",
    "We can model the fall of each ball as a random walk, which each step in the walk represents the ball bounding off a peg in a row. We can track the position of the ball as it falls starting at the origin `x=0`. As it falls, it has a 50% chance of bouncing right and a 50% chance of bouncing left. We then update the position of the ball depending on the result. After bouncing 10 times we record the final position of the ball. \n",
    "\n",
    "I have written most of the model for you below. Run the code. The output is a histogram showing where each ball hit the base of the board. Look at the output and make sure you understand what it is showing. Then read over the code and answer the questions below."
   ]
  },
  {
   "cell_type": "code",
   "execution_count": 53,
   "metadata": {},
   "outputs": [
    {
     "data": {
      "image/png": "[encoded data removed]",
      "text/plain": [
       "<Figure size 640x480 with 1 Axes>"
      ]
     },
     "metadata": {},
     "output_type": "display_data"
    },
    {
     "name": "stdout",
     "output_type": "stream",
     "text": [
      "Gross = $532000.00\n",
      "Loss = $332180.00\n",
      "Profit = $199820.00\n",
      "Profit per ball drop = $2.00\n"
     ]
    }
   ],
   "source": [
    "Nball = 100000 #Number of trials \n",
    "L = 1 # Distance between pegs\n",
    "P = 5.32 # Price of a ball drop\n",
    "Nstage = 10 # Number of levels the ball will bounce down\n",
    "\n",
    "final_pos = [] # Final positions of all the balls\n",
    "\n",
    "Ppurple = 10\n",
    "Pred = 0\n",
    "Pgreen = 2\n",
    "Pblue = 10\n",
    "\n",
    "Npurple = 0\n",
    "Nred = 0\n",
    "Ngreen = 0\n",
    "Nblue = 0\n",
    "\n",
    "# Function to simulate dropping a ball down the Plinko game\n",
    "# Returns the final position of the ball that fell.\n",
    "def drop_ball():\n",
    "    Nstage\n",
    "    x = 0 # Initial position of the ball\n",
    "    for i in range(Nstage):\n",
    "        dir = rand.randint(0,1)\n",
    "        if dir == 0:\n",
    "            x = x + L/2\n",
    "        else:\n",
    "            x = x - L/2\n",
    "    return x\n",
    "\n",
    "\n",
    "for i in range(Nball):\n",
    "    pos = drop_ball()\n",
    "    if np.abs(pos) == 0:\n",
    "        Npurple = Npurple + 1\n",
    "    elif np.abs(pos) == 1:\n",
    "        Nred = Nred + 1\n",
    "    elif np.abs(pos) == 2 or np.abs(pos) == 3:\n",
    "        Ngreen = Ngreen + 1\n",
    "    else:\n",
    "        Nblue = Nblue + 1\n",
    "\n",
    "    final_pos.append(drop_ball())\n",
    "\n",
    "# Display the data in a histogram and draw lines to represent the different color regions\n",
    "plt.xlim(-6,6)\n",
    "\n",
    "bins = np.linspace(-5.5,5.5,12)\n",
    "histogram = plt.hist(final_pos, bins=bins, facecolor='gray',edgecolor='black', align='mid', range=(-5,5))\n",
    "plt.plot([-0.5,0.5],[0,0], linewidth=10, color='purple')\n",
    "plt.plot([-1.5,-0.5],[0,0], linewidth=10, color='red')\n",
    "plt.plot([1.5,0.5],[0,0], linewidth=10, color='red')\n",
    "plt.plot([1.7,3.3],[0,0], linewidth=10, color='green')\n",
    "plt.plot([-1.7,-3.5],[0,0], linewidth=10, color='green')\n",
    "plt.plot([-5.3,-3.7],[0,0], linewidth=10, color='blue')\n",
    "plt.plot([5.3,3.7],[0,0], linewidth=10, color='blue')\n",
    "plt.plot([-0.3,0.3],[0,0], linewidth=10, color='purple')\n",
    "plt.show()\n",
    "\n",
    "gross = P*Nball\n",
    "loss = Ppurple*Npurple + Pred*Nred + Pblue*Nblue + Pgreen*Ngreen\n",
    "profit = gross - loss\n",
    "ppd = profit/Nball\n",
    "\n",
    "print(f\"Gross = ${gross:.2f}\")\n",
    "print(f\"Loss = ${loss:.2f}\")\n",
    "print(f\"Profit = ${profit:.2f}\")\n",
    "print(f\"Profit per ball drop = ${ppd:.2f}\")\n"
   ]
  },
  {
   "cell_type": "markdown",
   "metadata": {},
   "source": [
    "## Exercise 1\n",
    "\n",
    "After reading the code, answer the following questions (remember to answer in **full sentances**):\n",
    "\n",
    "(a) How many balls are being dropped in the initial model? What is the name of the variable that represents the number of balls dropped?\n",
    "\n",
    "100 balls are beain dropped, and the variable that represents that is `Nball`.\n",
    "\n",
    "(b) How much are we charging for each ball drop? What is the name of the variable that represents the price of a single ball drop?\n",
    "\n",
    "We are charging $5 for each ball drop. The variable that represents that is `P`.\n",
    "\n",
    "(c) How much do we payout to a player who's ball lands in purple? What is the name of the variable that represents the payout for purple?\n",
    "\n",
    "We payout $10 to someone whose ball lands in purple. The variable that represents this payout is `Ppurple`.\n",
    "\n",
    "(d) Fill out the rest of this markdown table with the payout and variable name for each of the colors (you do not need full sentaces in the table).\n",
    "\n",
    "|Color| Payout ($) | Variable Name|\n",
    "|:---:|---:|---:|\n",
    "|Purple| 10 | `Ppurple`|\n",
    "|Red|  0| `Pred`|\n",
    "|Green| 2|`Pgreen` |\n",
    "|Blue| 10 | `Pblue`|\n"
   ]
  },
  {
   "cell_type": "markdown",
   "metadata": {},
   "source": [
    "## Excercise 2\n",
    "\n",
    "Add code at the end of the model above to calculate and print the profit per ball drop. What is the profit per ball drop? How much does it vary each time you run the model?\n",
    "\n",
    "The profit per ball drop is about $2.04. It varies by more than $0.50.\n"
   ]
  },
  {
   "cell_type": "markdown",
   "metadata": {},
   "source": [
    "## Exercise 3\n",
    "\n",
    "Modify the model to reduce that variation and calculate the **expected** profit per ball drop. What is the expected profit per ball drop? How much does it vary each time you run the model?\n",
    "\n",
    "The expected profit per ball drop $1.68. Increasing the number of balls dropped to $100,000$ reduces the uncertainty to a few cents.\n"
   ]
  },
  {
   "cell_type": "markdown",
   "metadata": {},
   "source": [
    "## Exercise 4\n",
    "\n",
    "How many balls do we need to sell to reach our goal of making $2000 in profit? You can use your answer from Exercise 2 and do not need to modify your model to answer this question.\n",
    "\n",
    "We will need to sell 1,191 ball drops.\n"
   ]
  },
  {
   "cell_type": "markdown",
   "metadata": {},
   "source": [
    "## Exercise 5\n",
    "\n",
    "Chloe has been working on some marketing research for the fundraiser and thinks it is likely only 1000 throws will be sold. What is the required **expected** profit per ball to reach our goal of raising $2000? How much do we have to charge per ball to reach that expected profit?\n",
    "\n",
    "To reach our goal we would need an expected profit of $2.00 per ball drop. We will need to charge \\$5.32 per ball drop to make \\$2.00 in profit."
   ]
  },
  {
   "cell_type": "markdown",
   "metadata": {},
   "source": [
    "# Level A\n",
    "\n"
   ]
  },
  {
   "cell_type": "markdown",
   "metadata": {},
   "source": [
    "Your roommate has joined the [Dungons and Dragons (D&D) club on campus](https://involved.highpoint.edu/organization/ttrpg) and decided to play as a Wizard. Overwelmed with all the spell options, they've come to you for help. Knowing you are in this class, they've asked you to help them model out part of a combat encounter. They've identified two spells in particular and want to know which spell will, on average, damage a single enemy more. The two spells are [Magic Missile](http://dnd5e.wikidot.com/spell:magic-missile) and [Thunderwave](http://dnd5e.wikidot.com/spell:thunderwave).\n",
    "\n",
    "Magic Missile is one of the simplest spells in D&D, it launches three darts at an enemy that are gaurunteed to hit, each of which do 1d4 damage (for a total of 3d4 damage). \n",
    "\n",
    "Thunderwave is a little more complicated. Most spells in D&D require sucessfully passing some kind of check before the spell can proceed. These checks always involve rolling of a d20. In the case of thunderwave, the spell always hits with 2d8 damage, but the enemy has a chance to dodge half of that damage. To check if the enemy sucessfully dodges, the enemy rolls a d20 and adds their Dexterity modifier to their roll. The dexterity modifier is a fixed number between -5 and +5 that represents how dexterous they are. Their total is then compared to the number 12 (your roommate's spell save DC). If the enemy's roll is less than 12 they take the full damage. Otherwise they take half the damage.\n",
    "\n",
    "Defined below are two functions which calculate and return the damage for each spell.\n",
    "- `magic_missile()`: returns the damage done by magic missile\n",
    "- `thunderwave(dex_modifier)`: returns the damage done by thunderwave given the enemy's `dex_modifier`.\n",
    "\n",
    "Run the cell to define the functions."
   ]
  },
  {
   "cell_type": "code",
   "execution_count": 55,
   "metadata": {},
   "outputs": [],
   "source": [
    "def magic_missile():\n",
    "    damage = 0\n",
    "    for i in range(3):\n",
    "        damage = damage + rand.randint(1,4)\n",
    "    return damage\n",
    "\n",
    "def thunderwave(dex_modifier):\n",
    "    damage = 0\n",
    "    for i in range(2):\n",
    "        damage = damage + rand.randint(1,8)\n",
    "    \n",
    "    roll = rand.randint(1,20) + dex_modifier\n",
    "    if roll >= 12:\n",
    "        damage = damage/2\n",
    "    return damage\n"
   ]
  },
  {
   "cell_type": "markdown",
   "metadata": {},
   "source": [
    "Below are some examples showing how to use each of the functions"
   ]
  },
  {
   "cell_type": "code",
   "execution_count": 56,
   "metadata": {},
   "outputs": [
    {
     "name": "stdout",
     "output_type": "stream",
     "text": [
      "Magic Missile did 7 points of damage.\n"
     ]
    }
   ],
   "source": [
    "damage = magic_missile()\n",
    "\n",
    "print(f\"Magic Missile did {damage} points of damage.\")"
   ]
  },
  {
   "cell_type": "code",
   "execution_count": 71,
   "metadata": {},
   "outputs": [
    {
     "name": "stdout",
     "output_type": "stream",
     "text": [
      "The enemy has a dextarity modifier of 0\n",
      "Thunderwave did 8 points of damage\n"
     ]
    }
   ],
   "source": [
    "dex_modifier = 0\n",
    "damage = thunderwave(dex_modifier)\n",
    "\n",
    "print(f\"The enemy has a dextarity modifier of {dex_modifier}\")\n",
    "print(f\"Thunderwave did {damage} points of damage\")"
   ]
  },
  {
   "cell_type": "markdown",
   "metadata": {},
   "source": [
    "# Exercise 1\n",
    "\n",
    "Write a program to calculate the **expected** damage done by Magic Missile (we calculated an average in the last section of Level C)."
   ]
  },
  {
   "cell_type": "code",
   "execution_count": 91,
   "metadata": {},
   "outputs": [
    {
     "name": "stdout",
     "output_type": "stream",
     "text": [
      "The average damage done by magic missile is 7.506\n"
     ]
    }
   ],
   "source": [
    "N = 100000\n",
    "sum = 0\n",
    "for i in range(N):\n",
    "    sum = sum + magic_missile()\n",
    "\n",
    "damage = sum/N\n",
    "print(\"The average damage done by magic missile is {:.3f}\".format(damage))"
   ]
  },
  {
   "cell_type": "markdown",
   "metadata": {},
   "source": [
    "# Exercise 2\n",
    "\n",
    "Copy your program from above and modify it to calculate the average damage of thunderwave for an enemy with a dexterity modifier of 0. Then calculate the average damage for enemies with a dexterity modifiers of -5 to +5 (the modifier must be an integer). You do not need to write a new program for each of the dexterity modifiers, just modify your existing program.\n",
    "\n",
    "Fill out the rest of this table with your results. What is the highest dexterity modifier the enemy can have and Thunderwave still do more damage, on average?\n",
    "\n",
    "|Dex Modifier|Average Damage|\n",
    "|:---:|:----:|\n",
    "| -5 | 8.11|\n",
    "| -4 | 7.88|\n",
    "| -3 | 7.66|\n",
    "| -2 | 7.41|\n",
    "| -1 | 7.22|\n",
    "| 0  | 6.97|\n",
    "| +1 | 6.75|\n",
    "| +2 | 6.52|\n",
    "| +3 | 6.29|\n",
    "| +4 | 6.07| \n",
    "| +5 | 5.85|\n",
    "\n",
    "Thunderwave will do more damage, on average, as long as the enemies dexterity modifier is less than or equal to -3."
   ]
  },
  {
   "cell_type": "code",
   "execution_count": 94,
   "metadata": {},
   "outputs": [
    {
     "name": "stdout",
     "output_type": "stream",
     "text": [
      "The average damage done by Thunderwave with a dex modifier of -5 is 8.106\n",
      "The average damage done by Thunderwave with a dex modifier of -4 is 7.882\n",
      "The average damage done by Thunderwave with a dex modifier of -3 is 7.655\n",
      "The average damage done by Thunderwave with a dex modifier of -2 is 7.415\n",
      "The average damage done by Thunderwave with a dex modifier of -1 is 7.219\n",
      "The average damage done by Thunderwave with a dex modifier of 0 is 6.967\n",
      "The average damage done by Thunderwave with a dex modifier of 1 is 6.750\n",
      "The average damage done by Thunderwave with a dex modifier of 2 is 6.524\n",
      "The average damage done by Thunderwave with a dex modifier of 3 is 6.290\n",
      "The average damage done by Thunderwave with a dex modifier of 4 is 6.077\n",
      "The average damage done by Thunderwave with a dex modifier of 5 is 5.850\n"
     ]
    }
   ],
   "source": [
    "N = 100000\n",
    "for dex_mod in range(-5,6):\n",
    "    sum = 0\n",
    "    for i in range(N):\n",
    "        sum = sum + thunderwave(dex_mod)\n",
    "\n",
    "    damage = sum/N\n",
    "    print(\"The average damage done by Thunderwave with a dex modifier of {} is {:.3f}\".format(dex_mod, damage))"
   ]
  }
 ],
 "metadata": {
  "kernelspec": {
   "display_name": "Python 3",
   "language": "python",
   "name": "python3"
  },
  "language_info": {
   "codemirror_mode": {
    "name": "ipython",
    "version": 3
   },
   "file_extension": ".py",
   "mimetype": "text/x-python",
   "name": "python",
   "nbconvert_exporter": "python",
   "pygments_lexer": "ipython3",
   "version": "3.10.6"
  }
 },
 "nbformat": 4,
 "nbformat_minor": 4
}
