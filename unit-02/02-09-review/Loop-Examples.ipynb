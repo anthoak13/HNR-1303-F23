{
  "nbformat": 4,
  "nbformat_minor": 0,
  "metadata": {
    "colab": {
      "provenance": [],
      "authorship_tag": "ABX9TyMLiyxyXLf4HMIu1Kd92hr1"
    },
    "kernelspec": {
      "name": "python3",
      "display_name": "Python 3"
    },
    "language_info": {
      "name": "python"
    }
  },
  "cells": [
    {
      "cell_type": "markdown",
      "source": [
        "There is a common hueristic in coding that could be helpful for the group project. I though it appeared in one of our in-class exmaples, but I think I was confusing what the other class I am teaching has seen (both classes are also learning some Python in the context of the course material). Personally, I blame Oliva Rodrigo for the confusison.\n",
        "\n",
        "So loops. You've seen an abundance of examples of for loops in the form\n",
        "```\n",
        "for i in range(4)\n",
        "  print(i)\n",
        "```\n",
        "\n",
        "There is a second form of loop in python called a `while` loop. The syntax for these looks like\n",
        "```\n",
        "while conditional:\n",
        "  # Keep executing the code until the conditional is false\n",
        "```\n",
        "\n",
        "Below are two code cells that have the same behavior. One is a normal `for` loop, and the other is a `while` loop."
      ],
      "metadata": {
        "id": "wP7491rHJA_E"
      }
    },
    {
      "cell_type": "code",
      "execution_count": 2,
      "metadata": {
        "colab": {
          "base_uri": "https://localhost:8080/"
        },
        "id": "wqbB-2QUI8-T",
        "outputId": "f433abe4-45b7-4737-d732-4191acc99116"
      },
      "outputs": [
        {
          "output_type": "stream",
          "name": "stdout",
          "text": [
            "0\n",
            "1\n",
            "2\n",
            "3\n"
          ]
        }
      ],
      "source": [
        "for i in range(4):\n",
        "  print(i)"
      ]
    },
    {
      "cell_type": "code",
      "source": [
        "i = 0\n",
        "while i < 4:\n",
        "  print(i)\n",
        "  i = i + 1"
      ],
      "metadata": {
        "colab": {
          "base_uri": "https://localhost:8080/"
        },
        "id": "cQgtSLw4J5pm",
        "outputId": "92e11abb-dcbc-4711-eac3-012652d08044"
      },
      "execution_count": 3,
      "outputs": [
        {
          "output_type": "stream",
          "name": "stdout",
          "text": [
            "0\n",
            "1\n",
            "2\n",
            "3\n"
          ]
        }
      ]
    },
    {
      "cell_type": "markdown",
      "source": [
        "One key area where there are used in Monte Carlo simulations is to put constraints on generated random numbers. For example, say I wanted to generate a random number that was between 0 and 0.3 OR between 0.9 and 1. I cannot do that with the `rand` functions we have seen so far; however, I can do that using a `while` loop."
      ],
      "metadata": {
        "id": "ZNwngGbWKEvQ"
      }
    },
    {
      "cell_type": "code",
      "source": [
        "import random as rand\n",
        "\n",
        "r = rand.random()\n",
        "while r > 0.3 and r < 0.9:\n",
        "  r = rand.random()\n",
        "\n",
        "print(r)"
      ],
      "metadata": {
        "colab": {
          "base_uri": "https://localhost:8080/"
        },
        "id": "Q8yIBFReKoqP",
        "outputId": "d45015d0-4ce8-46c8-f565-5c6f108609d1"
      },
      "execution_count": 16,
      "outputs": [
        {
          "output_type": "stream",
          "name": "stdout",
          "text": [
            "0.9058058940913237\n"
          ]
        }
      ]
    },
    {
      "cell_type": "markdown",
      "source": [
        "If you run the code cell above multiple times, you will see we only print numbers in the range we wanted ($[0,0.3)$ or $(0.9,1)$).\n",
        "\n",
        "We use the very sophisticated method of just keep trying to generate random numbers until we meet our desired condition."
      ],
      "metadata": {
        "id": "SHk4aY0eK9Pr"
      }
    },
    {
      "cell_type": "code",
      "source": [],
      "metadata": {
        "id": "BQjPnGbfLHsR"
      },
      "execution_count": null,
      "outputs": []
    }
  ]
}