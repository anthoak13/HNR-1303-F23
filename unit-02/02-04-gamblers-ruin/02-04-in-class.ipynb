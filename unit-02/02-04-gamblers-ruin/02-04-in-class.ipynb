{
  "nbformat": 4,
  "nbformat_minor": 0,
  "metadata": {
    "colab": {
      "provenance": [],
      "authorship_tag": "ABX9TyOXdgt8Of46o0qAnFpij4FP"
    },
    "kernelspec": {
      "name": "python3",
      "display_name": "Python 3"
    },
    "language_info": {
      "name": "python"
    }
  },
  "cells": [
    {
      "cell_type": "markdown",
      "source": [
        "# In Class Disscussion\n",
        "\n",
        "Look at previous Monte Carlo models we have encountered. Your task is to answer these questions (in narrative form):\n",
        "\n",
        "1. What is the question we are trying to answer with this model?\n",
        "1. What are our model inputs?\n",
        "1. What are our model outputs?\n",
        "1. What constitutes a single \"trial\" in our model?\n",
        "1. What information do we need to save from each \"trial\"?\n",
        "1. How do we use our model outputs to answer the question identified above?\n",
        "\n",
        "\n",
        "## Models and groups\n",
        "\n",
        "- Casino example (Day 2, `01-02-modeling-examples`): Angelica/Clara, Bethany/Ben\n",
        "- Coin Flip and Rolling Doubles (Day 3, `02-01-random` Exercises 2 and 4): Lily Grace/Chloe/Caroline, Marianna/Ava P.\n",
        "- The dart fundraiser (Day 4, `02-02-game`): Ava C./Audrey, Luke/Sara\n",
        "- Mosquito random walk (Day 5, `02-03-random-walk`): Emma/Elijah, Julianna/Eliana\n"
      ],
      "metadata": {
        "id": "sXgA6r7m2kl4"
      }
    },
    {
      "cell_type": "markdown",
      "source": [
        "# Reporting out"
      ],
      "metadata": {
        "id": "DBhc_4AH4P2e"
      }
    },
    {
      "cell_type": "markdown",
      "source": [
        "## Casino\n",
        "\n",
        "1. What is the question we are trying to answer with this model?\n",
        " -\n",
        "1. What are our model inputs?\n",
        " -\n",
        "1. What are our model outputs?\n",
        " -\n",
        "1. What constitutes a single \"trial\" in our model?\n",
        " -\n",
        "1. What information do we need to save from each \"trial\"?\n",
        " -\n",
        "1. How do we use our model outputs to answer the question identified above?\n",
        " -\n",
        "\n",
        "## Coins/Dice\n",
        "\n",
        "1. What is the question we are trying to answer with this model?\n",
        "- What is the percentage of the coin landing on heads or tails\n",
        "- What is the probablity of rolling doubles on a dice\n",
        "1. What are our model inputs?\n",
        "- The number of tops we are flipping the coins (Nheads)\n",
        "- The probability of flipping heads.\n",
        "- The number of times we are rolling the dice (Nevents)\n",
        "- The probability of rolling a dice.\n",
        "1. What are our model outputs?\n",
        "- The percentage of times we get heads/tails\n",
        "- The outcome of the dice roll\n",
        "1. What constitutes a single \"trial\" in our model?\n",
        "- Flipping the coin once.\n",
        "- Rolling both dice once.\n",
        "1. What information do we need to save from each \"trial\"?\n",
        "- The total outcomes of flipping a coin.\n",
        "- The total outcomes of rolling a dice.\n",
        "1. How do we use our model outputs to answer the question identified above?\n",
        "- We can use the percentage of the coin flip to directly answer the question.\n",
        "- We can use the percentage of the dice rolls to calculate how many times doubles are rolled.\n",
        "\n",
        "## Dart Fundraiser\n",
        "\n",
        "1. What is the question we are trying to answer with this model?\n",
        "\n",
        "How much money you can expect to earn and the least amount of money you can charge per dart throw to still gain profit from the prizes and prices for dart.  \n",
        "\n",
        "2. What are our model inputs?\n",
        "\n",
        "The model inputs are the price per dart throw, number of throws, diameter of circles on the dartboard, and prize reward for the color you hit (purple, red, blue).\n",
        "\n",
        "3. What are our model outputs?\n",
        "\n",
        "Our model outputs are our gross profit, loss of money (or money given to the individual), probability of hitting a color, profit from the participants (gross-loss).\n",
        "\n",
        "4. What constitutes a single \"trial\" in our model?\n",
        "\n",
        "1 throw of a dart consists of a single trial in our model.\n",
        "\n",
        "5. What information do we need to save from each \"trial\"?\n",
        "\n",
        "We need to save the location of the dart after each throw and which color it hit.\n",
        "\n",
        "6. How do we use our model outputs to answer the question identified above?\n",
        "\n",
        "The money we expect to earn is our gross profit, least amount of money to still gain profit was running until you find the lowest price per dart throw to still gain profit.  \n",
        "\n",
        "## Random Walk\n",
        "\n",
        "1. What is the question we are trying to answer with this model?\n",
        "How far mosquito travels in its lifetime.\n",
        "1. What are our model inputs?\n",
        "Our model inputs are starting position, number of stages, and length of steps. Stages are chances they get in life.\n",
        "1. What are our model outputs?\n",
        "Our model outputs are the Total Displacement of the mosquito in its life and the probability that the mosquito will move a certain distance.\n",
        "1. What constitutes a single \"trial\" in our model?\n",
        "A \"trial\" is the displacement one mosquito in its lifetime.\n",
        "1. What information do we need to save from each \"trial\"?\n",
        "We NEED to save Displacement.\n",
        "1. How do we use our model outputs to answer the question identified above?  \n",
        "We use the calculated probability of how far a mosquito will travel in its lifetiime to make inferences about an entire population of mosquitos."
      ],
      "metadata": {
        "id": "jcIxl8o15mnB"
      }
    },
    {
      "cell_type": "markdown",
      "source": [
        "# Analyzing code\n"
      ],
      "metadata": {
        "id": "CPGzNCo16KEl"
      }
    },
    {
      "cell_type": "markdown",
      "source": [
        "\n",
        "Go back to your assigned model. In the most complete version of the code for that model, identify what parts of the code correspond to the following questions you answered above.\n",
        "\n",
        "1. What are our model inputs?\n",
        "1. What are our model outputs?\n",
        "1. What constitutes a single \"trial\" in our model?\n",
        "1. What information do we need to save from each \"trial\"?\n",
        "1. How do we use our model outputs to answer the question identified above?"
      ],
      "metadata": {
        "id": "rNRt_yqM6mZA"
      }
    },
    {
      "cell_type": "markdown",
      "source": [
        "# Reporting out"
      ],
      "metadata": {
        "id": "Yaiis-UQ6o3D"
      }
    }
  ]
}