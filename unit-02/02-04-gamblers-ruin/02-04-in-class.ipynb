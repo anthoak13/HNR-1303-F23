{
  "nbformat": 4,
  "nbformat_minor": 0,
  "metadata": {
    "colab": {
      "provenance": [],
      "authorship_tag": "ABX9TyMz82lebaDaGswP99Ku8+rI"
    },
    "kernelspec": {
      "name": "python3",
      "display_name": "Python 3"
    },
    "language_info": {
      "name": "python"
    }
  },
  "cells": [
    {
      "cell_type": "markdown",
      "source": [
        "# In Class Disscussion\n",
        "\n",
        "Look at previous Monte Carlo models we have encountered. Your task is to answer these questions (in narrative form):\n",
        "\n",
        "1. What is the question we are trying to answer with this model?\n",
        "1. What are our model inputs?\n",
        "1. What are our model outputs?\n",
        "1. What constitutes a single \"trial\" in our model?\n",
        "1. What information do we need to save from each \"trial\"?\n",
        "1. How do we use our model outputs to answer the question identified above?\n",
        "\n",
        "\n",
        "## Models and groups\n",
        "\n",
        "- Casino example (Day 2, `01-02-modeling-examples`): Angelica/Clara, Bethany/Ben\n",
        "- Coin Flip and Rolling Doubles (Day 3, `02-01-random` Exercises 2 and 4): Lily Grace/Chloe/Caroline, Marianna/Ava P.\n",
        "- The dart fundraiser (Day 4, `02-02-game`): Ava C./Audrey, Luke/Sara\n",
        "- Mosquito random walk (Day 5, `02-03-random-walk`): Emma/Elijah, Julianna/Eliana\n"
      ],
      "metadata": {
        "id": "sXgA6r7m2kl4"
      }
    },
    {
      "cell_type": "markdown",
      "source": [
        "# Reporting out"
      ],
      "metadata": {
        "id": "DBhc_4AH4P2e"
      }
    },
    {
      "cell_type": "markdown",
      "source": [
        "## Casino\n",
        "\n",
        "1. What is the question we are trying to answer with this model?\n",
        " -\n",
        "1. What are our model inputs?\n",
        " -\n",
        "1. What are our model outputs?\n",
        " -\n",
        "1. What constitutes a single \"trial\" in our model?\n",
        " -\n",
        "1. What information do we need to save from each \"trial\"?\n",
        " -\n",
        "1. How do we use our model outputs to answer the question identified above?\n",
        " -\n",
        "\n",
        "## Coins/Dice\n",
        "\n",
        "1. What is the question we are trying to answer with this model?\n",
        " -\n",
        "1. What are our model inputs?\n",
        " -\n",
        "1. What are our model outputs?\n",
        " -\n",
        "1. What constitutes a single \"trial\" in our model?\n",
        " -\n",
        "1. What information do we need to save from each \"trial\"?\n",
        " -\n",
        "1. How do we use our model outputs to answer the question identified above?\n",
        " -\n",
        "\n",
        "## Dart Fundraiser\n",
        "\n",
        "1. What is the question we are trying to answer with this model?\n",
        " -\n",
        "1. What are our model inputs?\n",
        " -\n",
        "1. What are our model outputs?\n",
        " -\n",
        "1. What constitutes a single \"trial\" in our model?\n",
        " -\n",
        "1. What information do we need to save from each \"trial\"?\n",
        " -\n",
        "1. How do we use our model outputs to answer the question identified above?\n",
        " -\n",
        "\n",
        "## Random Walk\n",
        "\n",
        "1. What is the question we are trying to answer with this model?\n",
        " -\n",
        "1. What are our model inputs?\n",
        " -\n",
        "1. What are our model outputs?\n",
        " -\n",
        "1. What constitutes a single \"trial\" in our model?\n",
        " -\n",
        "1. What information do we need to save from each \"trial\"?\n",
        " -\n",
        "1. How do we use our model outputs to answer the question identified above?\n",
        " -\n"
      ],
      "metadata": {
        "id": "jcIxl8o15mnB"
      }
    },
    {
      "cell_type": "markdown",
      "source": [
        "# Analyzing code\n"
      ],
      "metadata": {
        "id": "CPGzNCo16KEl"
      }
    },
    {
      "cell_type": "markdown",
      "source": [
        "\n",
        "Go back to your assigned model. In the most complete version of the code for that model, identify what parts of the code correspond to the following questions you answered above.\n",
        "\n",
        "1. What are our model inputs?\n",
        "1. What are our model outputs?\n",
        "1. What constitutes a single \"trial\" in our model?\n",
        "1. What information do we need to save from each \"trial\"?\n",
        "1. How do we use our model outputs to answer the question identified above?"
      ],
      "metadata": {
        "id": "rNRt_yqM6mZA"
      }
    },
    {
      "cell_type": "markdown",
      "source": [
        "# Reporting out"
      ],
      "metadata": {
        "id": "Yaiis-UQ6o3D"
      }
    }
  ]
}