{
  "cells": [
    {
      "cell_type": "code",
      "execution_count": 1,
      "metadata": {
        "id": "fhFVdBspbrtB"
      },
      "outputs": [],
      "source": [
        "import numpy as np\n",
        "import matplotlib.pyplot as plt\n",
        "import random as rand"
      ]
    },
    {
      "cell_type": "markdown",
      "metadata": {
        "id": "9e7SCzjKbrtB"
      },
      "source": [
        "# Gambler's Ruin\n",
        "\n",
        "Suppose person A has 3 one-dollar bills and person B has 2 one-dollar bills. They play a game where they flip a coin. If it's heads, person B gives one dollar to person A. If it's tails, person A gives one dollar to person B. When one person has zero money (and the other person has 5 dollars), the game is over.\n",
        "\n",
        "## The Question\n",
        "\n",
        "What is the probability that person A loses (i.e. is *ruined*)?"
      ]
    },
    {
      "cell_type": "markdown",
      "metadata": {
        "id": "7-FpuS5UbrtC"
      },
      "source": [
        "## Develop a Plan\n",
        "\n",
        "Write in words how you will solve this problem computationally? Do not write code nor define variables. Rather, describe *how* you would determine the probability that person A wins.\n",
        "\n",
        "While writing your plan, think about the modeling cycle we have discussed before as well as the anatomy of a monte carlo model. Your response to this section should be narrative in nature, i.e. complete sentences. This should be a detailed response. After you have written your plan come and talk to me before continuing."
      ]
    },
    {
      "cell_type": "markdown",
      "metadata": {
        "id": "nbESSmPhbrtD"
      },
      "source": [
        "## One Trial of the Game\n",
        "\n",
        "The function below conducts one trial of the game and returns the amount of money person A has at the end of the game. This trial is itself a mini monte carlo simulation. Come to a consensus in your groups which part of the code corresponds to the different parts of a monte-carlo simulation."
      ]
    },
    {
      "cell_type": "code",
      "execution_count": 2,
      "metadata": {
        "id": "hxDMDnrdbrtD"
      },
      "outputs": [],
      "source": [
        "def game():\n",
        "\n",
        "    moneyA = 3 #amount of money for person A\n",
        "    moneyB = 2 #amount of money for person B\n",
        "\n",
        "    while moneyA > 0 and moneyA <5: #run loop while moneyA is between 0 and 5.\n",
        "\n",
        "        coin = rand.randint(0,1)\n",
        "        if coin == 0: #tails\n",
        "            moneyA = moneyA + 1\n",
        "            moneyB = moneyB - 1\n",
        "        else: #heads\n",
        "            moneyA = moneyA - 1\n",
        "            moneyB = moneyB + 1\n",
        "\n",
        "    return moneyA"
      ]
    },
    {
      "cell_type": "markdown",
      "metadata": {
        "id": "Gs0hU_SfbrtD"
      },
      "source": [
        "Calling `game()` will return the amount of money person A has at the end of the game."
      ]
    },
    {
      "cell_type": "code",
      "execution_count": 11,
      "metadata": {
        "id": "sViPUgYbbrtE",
        "outputId": "1929a998-944c-46ab-e487-9c7a6fea5ceb",
        "colab": {
          "base_uri": "https://localhost:8080/"
        }
      },
      "outputs": [
        {
          "output_type": "stream",
          "name": "stdout",
          "text": [
            "After a game, Person A has 0 dollars.\n"
          ]
        }
      ],
      "source": [
        "A = game()\n",
        "print(\"After a game, Person A has {:d} dollars.\".format(A))"
      ]
    },
    {
      "cell_type": "markdown",
      "metadata": {
        "id": "M4EmYTfabrtE"
      },
      "source": [
        "## Write Code\n",
        "\n",
        "Your program will have the following general structure:\n",
        "\n",
        "1. Define variables such as the number of trials (or experiments) you will run and the number of events you are counting.\n",
        "2. Define a loop.\n",
        "3. Conduct one trial (i.e. experiment) of the model.\n",
        "3. Use a condition in your loop to check for the occurrence of an event and count when this event occurs.\n",
        "4. Calculate and print the percentage of times the even occurred.\n",
        "\n",
        "\n",
        "Make heavy use of your plan, as well as the previous examples we have done in class to get the syntax for this program. Notice the general structure outlined here is just the anatomy of a monte carlo we have been working with this whole unit. It may be helpful to lay out your plan in comments `# a comment is any line that starts with a \"#\"` in the code cell below. Then work on constructing te individual pieces of code to accomplish what you have laid out in comments.\n"
      ]
    },
    {
      "cell_type": "code",
      "execution_count": null,
      "metadata": {
        "id": "6GvO23vVbrtF"
      },
      "outputs": [],
      "source": []
    },
    {
      "cell_type": "markdown",
      "metadata": {
        "id": "ujNStDZBbrtF"
      },
      "source": [
        "## Answer the Question\n",
        "\n",
        "What is the *probability* of A losing? In other words, what percentage of times do you *expect* A to lose?"
      ]
    },
    {
      "cell_type": "code",
      "execution_count": null,
      "metadata": {
        "id": "pWyd1tDebrtF"
      },
      "outputs": [],
      "source": []
    }
  ],
  "metadata": {
    "kernelspec": {
      "display_name": "Python 3",
      "language": "python",
      "name": "python3"
    },
    "language_info": {
      "codemirror_mode": {
        "name": "ipython",
        "version": 3
      },
      "file_extension": ".py",
      "mimetype": "text/x-python",
      "name": "python",
      "nbconvert_exporter": "python",
      "pygments_lexer": "ipython3",
      "version": "3.7.7"
    },
    "colab": {
      "provenance": []
    }
  },
  "nbformat": 4,
  "nbformat_minor": 0
}