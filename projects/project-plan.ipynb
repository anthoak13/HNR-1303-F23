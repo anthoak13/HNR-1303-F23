{
 "cells": [
  {
   "cell_type": "markdown",
   "metadata": {},
   "source": [
    "# Project Planning Guide"
   ]
  },
  {
   "cell_type": "markdown",
   "metadata": {},
   "source": [
    "The purpose of this notebook is to help you plan your project. You should answer each question below. \n",
    "\n",
    "Your goal for now is to come up with an individual project idea. You'll write an elevator pitch for your idea to try to convince me/your classmates that it is an intresting/achievable project. Before Thanksgiving break (probably Monday the 20th) we will have a \"speed dating\" round where you will give your elevator pitch to all of your classmates and fill out a form expressing intrest in the different project ideas pitched. Based on everyones intrest I will make groups. You can also argue a case for why you should work on the project as an individual rather than part of a pair."
   ]
  },
  {
   "cell_type": "markdown",
   "metadata": {},
   "source": [
    "# Topic"
   ]
  },
  {
   "cell_type": "markdown",
   "metadata": {},
   "source": [
    "What is a topic in which you are interested? Examples include but are not limited to:\n",
    "  - finance\n",
    "  - biology\n",
    "  - physics\n",
    "  - sociology\n",
    "  - medicine\n",
    "  - economics\n",
    "  - climate\n",
    "  - sports\n",
    "  \n",
    "**List a few of your interests. But keep in mind, some of your interests have not yet been discovered!**"
   ]
  },
  {
   "cell_type": "markdown",
   "metadata": {},
   "source": [
    "# Sources"
   ]
  },
  {
   "cell_type": "markdown",
   "metadata": {},
   "source": [
    "## Textbook\n",
    "\n",
    "**What are modules in our textbook that interest you?**\n",
    "\n",
    "In our textbook, there are dynamic models described in Chapters 2, 3, 4, and 7. Each module in these chapters is a source for a project. At the end of each module, there are additional *projects* listed that are an application of that module. You can get ideas for projects from the end of the module for modules we've studied in our class. Or, you can choose a module we did not already study in our class.\n",
    "\n",
    "Monte Carlo models are described in Chapters 9 and 10.\n",
    "\n",
    "## Blog Articles and Other Books\n",
    "\n",
    "**What are some books and other sources that describe mathematical/computational models in this discipline?**\n",
    "\n",
    "Blogs and news articles are a great resource for ideas. For example, here are a few articles/blog posts that could lead to a project:\n",
    "\n",
    "1. [Rent or Buy? The Ski Rental Problem](https://www.cantorsparadise.com/rent-or-buy-the-ski-rental-problem-c99163e0cfc8)\n",
    "1. [A simple model of evoution](https://www.cantorsparadise.com/a-simple-model-of-evolution-991d44d9b591)\n",
    "1. [The El Faro Bar and game theory](https://www.cantorsparadise.com/the-el-farol-bar-and-game-theory-60a9d9d73dba)\n",
    "1. [Modeling election results given polling](https://www.nytimes.com/2023/11/05/us/politics/biden-trump-2024-poll.html) \n",
    "\n",
    "### Dr. Anthony\n",
    "\n",
    "Dr. Anthony is one of your best resources for ideas. Definitely converse with him throughout the planning of your project."
   ]
  },
  {
   "cell_type": "markdown",
   "metadata": {},
   "source": [
    "# Define (approximately) the problem"
   ]
  },
  {
   "cell_type": "markdown",
   "metadata": {},
   "source": [
    "**What problem or phenomenon will you model?**\n",
    "\n",
    "Once you've reviewed sources, choose a problem that you will investigate (i.e. model) through a simulation."
   ]
  },
  {
   "cell_type": "markdown",
   "metadata": {},
   "source": [
    "# Study the problem"
   ]
  },
  {
   "cell_type": "markdown",
   "metadata": {},
   "source": [
    "Look into the details of the problem. Ask and answer the following questions:\n",
    "\n",
    "1. What are the relevance and significance of the problem? (i.e. Why is it interesting?)\n",
    "2. What are the applications of the problem?\n",
    "3. Is there a mathematical model for the problem?\n",
    "4. Is there enough source material to help you understand the problem?\n",
    "5. Will solving the problem be challenging?\n",
    "6. Can the problem be solved by writing code?\n",
    "7. Will you need new understanding in order to solve the problem?\n",
    "8. Is there a way to check your solution?\n",
    "\n",
    "After you consider these questions, you may need to go back to your sources, find a new problem, and go through the evaluation process again.\n",
    "\n",
    "It's very important that your problem is:\n",
    "\n",
    "1. interesting \n",
    "\n",
    " **AND**\n",
    " \n",
    "\n",
    "2. doable"
   ]
  },
  {
   "cell_type": "markdown",
   "metadata": {},
   "source": [
    "# Work in a group of two or as an individual?"
   ]
  },
  {
   "cell_type": "markdown",
   "metadata": {},
   "source": [
    "You may work alone or in a group of two. I prefer that you work in a group of two, and I will arrange groups. However, you may make a strong argument for doing a project on your own. After our \"speed dating\" round, I will assign groups."
   ]
  },
  {
   "cell_type": "markdown",
   "metadata": {},
   "source": [
    "# Plan your project"
   ]
  },
  {
   "cell_type": "markdown",
   "metadata": {},
   "source": [
    "After thinking about each problem through the lens of the above questions, do the following:\n",
    "\n",
    "1. Describe the problem in a few sentences.\n",
    "1. If working in a group, describe the leadership role of each member of the group. What role will each person be responsible for? In what way will each member lead?\n",
    "1. Describe the mathematical relationships or ideas that are needed for the project.\n",
    "1. Describe the output of your project. What kinds of calculations or images or graphs will be produced?\n",
    "1. Write a draft of an outline (notebook headings) for your final product.\n",
    "1. Using all the work above, write a short elevator pitch for your project idea. Your pitch should answer the following questions: What is the project? Why is it an intresting problem? Why is it a doable problem?"
   ]
  },
  {
   "cell_type": "markdown",
   "metadata": {},
   "source": []
  },
  {
   "cell_type": "markdown",
   "metadata": {},
   "source": []
  }
 ],
 "metadata": {
  "celltoolbar": "Create Assignment",
  "kernelspec": {
   "display_name": "Python 3",
   "language": "python",
   "name": "python3"
  },
  "language_info": {
   "codemirror_mode": {
    "name": "ipython",
    "version": 3
   },
   "file_extension": ".py",
   "mimetype": "text/x-python",
   "name": "python",
   "nbconvert_exporter": "python",
   "pygments_lexer": "ipython3",
   "version": "3.8.3"
  }
 },
 "nbformat": 4,
 "nbformat_minor": 2
}
